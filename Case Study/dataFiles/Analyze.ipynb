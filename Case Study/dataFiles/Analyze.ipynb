{
 "cells": [
  {
   "cell_type": "code",
   "execution_count": 3,
   "metadata": {},
   "outputs": [],
   "source": [
    "# package imports\n",
    "#basics\n",
    "import numpy as np\n",
    "import pandas as pd"
   ]
  },
  {
   "cell_type": "code",
   "execution_count": 4,
   "metadata": {},
   "outputs": [],
   "source": [
    "#misc\n",
    "import gc\n",
    "import time\n",
    "import warnings"
   ]
  },
  {
   "cell_type": "code",
   "execution_count": 5,
   "metadata": {},
   "outputs": [],
   "source": [
    "#viz\n",
    "import matplotlib.pyplot as plt\n",
    "import seaborn as sns \n",
    "import matplotlib.gridspec as gridspec "
   ]
  },
  {
   "cell_type": "code",
   "execution_count": 4,
   "metadata": {},
   "outputs": [],
   "source": [
    "# graph viz\n",
    "import plotly.offline as pyo\n",
    "from plotly.graph_objs import *\n",
    "import plotly.graph_objs as go"
   ]
  },
  {
   "cell_type": "code",
   "execution_count": 6,
   "metadata": {},
   "outputs": [],
   "source": [
    "import json"
   ]
  },
  {
   "cell_type": "code",
   "execution_count": 7,
   "metadata": {},
   "outputs": [],
   "source": [
    "from collections import defaultdict"
   ]
  },
  {
   "cell_type": "code",
   "execution_count": 5,
   "metadata": {},
   "outputs": [
    {
     "ename": "ModuleNotFoundError",
     "evalue": "No module named 'folium'",
     "output_type": "error",
     "traceback": [
      "\u001b[0;31m---------------------------------------------------------------------------\u001b[0m",
      "\u001b[0;31mModuleNotFoundError\u001b[0m                       Traceback (most recent call last)",
      "\u001b[0;32m<ipython-input-5-f42ef0cda3e8>\u001b[0m in \u001b[0;36m<module>\u001b[0;34m\u001b[0m\n\u001b[1;32m      1\u001b[0m \u001b[0;31m#map section\u001b[0m\u001b[0;34m\u001b[0m\u001b[0;34m\u001b[0m\u001b[0;34m\u001b[0m\u001b[0m\n\u001b[1;32m      2\u001b[0m \u001b[0;32mimport\u001b[0m \u001b[0mimageio\u001b[0m\u001b[0;34m\u001b[0m\u001b[0;34m\u001b[0m\u001b[0m\n\u001b[0;32m----> 3\u001b[0;31m \u001b[0;32mimport\u001b[0m \u001b[0mfolium\u001b[0m\u001b[0;34m\u001b[0m\u001b[0;34m\u001b[0m\u001b[0m\n\u001b[0m\u001b[1;32m      4\u001b[0m \u001b[0;32mimport\u001b[0m \u001b[0mfolium\u001b[0m\u001b[0;34m.\u001b[0m\u001b[0mplugins\u001b[0m \u001b[0;32mas\u001b[0m \u001b[0mplugins\u001b[0m\u001b[0;34m\u001b[0m\u001b[0;34m\u001b[0m\u001b[0m\n\u001b[1;32m      5\u001b[0m \u001b[0;32mfrom\u001b[0m \u001b[0mmpl_toolkits\u001b[0m\u001b[0;34m.\u001b[0m\u001b[0mbasemap\u001b[0m \u001b[0;32mimport\u001b[0m \u001b[0mBasemap\u001b[0m\u001b[0;34m\u001b[0m\u001b[0;34m\u001b[0m\u001b[0m\n",
      "\u001b[0;31mModuleNotFoundError\u001b[0m: No module named 'folium'"
     ]
    }
   ],
   "source": [
    "#map section\n",
    "import imageio\n",
    "import folium\n",
    "import folium.plugins as plugins\n",
    "from mpl_toolkits.basemap import Basemap"
   ]
  },
  {
   "cell_type": "code",
   "execution_count": 6,
   "metadata": {},
   "outputs": [],
   "source": [
    "#graph section\n",
    "import networkx as nx\n",
    "import heapq  # for getting top n number of things from list,dict"
   ]
  },
  {
   "cell_type": "code",
   "execution_count": 8,
   "metadata": {},
   "outputs": [],
   "source": [
    "#settings\n",
    "start_time=time.time()\n",
    "color = sns.color_palette()\n",
    "sns.set_style(\"dark\")\n",
    "warnings.filterwarnings(\"ignore\")\n",
    "#pyo.init_notebook_mode()"
   ]
  },
  {
   "cell_type": "code",
   "execution_count": 9,
   "metadata": {},
   "outputs": [],
   "source": [
    "%matplotlib inline"
   ]
  },
  {
   "cell_type": "code",
   "execution_count": 10,
   "metadata": {},
   "outputs": [],
   "source": [
    "business = pd.read_csv('./csv/business.csv')"
   ]
  },
  {
   "cell_type": "code",
   "execution_count": 11,
   "metadata": {},
   "outputs": [
    {
     "name": "stdout",
     "output_type": "stream",
     "text": [
      "<class 'pandas.core.frame.DataFrame'>\n",
      "RangeIndex: 192609 entries, 0 to 192608\n",
      "Data columns (total 15 columns):\n",
      "Unnamed: 0      192609 non-null int64\n",
      "business_id     192609 non-null object\n",
      "name            192609 non-null object\n",
      "address         184927 non-null object\n",
      "city            192608 non-null object\n",
      "state           192609 non-null object\n",
      "postal_code     191950 non-null object\n",
      "latitude        192609 non-null float64\n",
      "longitude       192609 non-null float64\n",
      "stars           192609 non-null float64\n",
      "review_count    192609 non-null int64\n",
      "is_open         192609 non-null int64\n",
      "attributes      163773 non-null object\n",
      "categories      192127 non-null object\n",
      "hours           147779 non-null object\n",
      "dtypes: float64(3), int64(3), object(9)\n",
      "memory usage: 22.0+ MB\n"
     ]
    }
   ],
   "source": [
    "business.info()"
   ]
  },
  {
   "cell_type": "code",
   "execution_count": 10,
   "metadata": {},
   "outputs": [],
   "source": [
    "df = pd.read_csv('yelp_business.csv')"
   ]
  },
  {
   "cell_type": "code",
   "execution_count": 11,
   "metadata": {},
   "outputs": [
    {
     "name": "stdout",
     "output_type": "stream",
     "text": [
      "<class 'pandas.core.frame.DataFrame'>\n",
      "RangeIndex: 174567 entries, 0 to 174566\n",
      "Data columns (total 13 columns):\n",
      "business_id     174567 non-null object\n",
      "name            174567 non-null object\n",
      "neighborhood    68015 non-null object\n",
      "address         174567 non-null object\n",
      "city            174566 non-null object\n",
      "state           174566 non-null object\n",
      "postal_code     173944 non-null object\n",
      "latitude        174566 non-null float64\n",
      "longitude       174566 non-null float64\n",
      "stars           174567 non-null float64\n",
      "review_count    174567 non-null int64\n",
      "is_open         174567 non-null int64\n",
      "categories      174567 non-null object\n",
      "dtypes: float64(3), int64(2), object(8)\n",
      "memory usage: 17.3+ MB\n"
     ]
    }
   ],
   "source": [
    "df.info()"
   ]
  },
  {
   "cell_type": "code",
   "execution_count": 10,
   "metadata": {},
   "outputs": [
    {
     "data": {
      "text/plain": [
       "'Specialty Food, Restaurants, Dim Sum, Imported Food, Food, Chinese, Ethnic Food, Seafood'"
      ]
     },
     "execution_count": 10,
     "metadata": {},
     "output_type": "execute_result"
    }
   ],
   "source": [
    "business.iloc[1]['categories']"
   ]
  },
  {
   "cell_type": "code",
   "execution_count": 11,
   "metadata": {},
   "outputs": [
    {
     "data": {
      "image/png": "[encoded data removed]",
      "text/plain": [
       "<Figure size 720x432 with 1 Axes>"
      ]
     },
     "metadata": {
      "needs_background": "light"
     },
     "output_type": "display_data"
    }
   ],
   "source": [
    "#Get the distribution of the ratings\n",
    "x=business['stars'].value_counts()\n",
    "x=x.sort_index()\n",
    "#plot\n",
    "plt.figure(figsize=(10,6))\n",
    "ax= sns.barplot(x.index, x.values, alpha=0.8)\n",
    "plt.title(\"Star Rating Distribution\")\n",
    "plt.ylabel('# of businesses', fontsize=12)\n",
    "plt.xlabel('Star Ratings ', fontsize=12)\n",
    "\n",
    "#adding the text labels\n",
    "rects = ax.patches\n",
    "labels = x.values\n",
    "for rect, label in zip(rects, labels):\n",
    "    height = rect.get_height()\n",
    "    ax.text(rect.get_x() + rect.get_width()/2, height + 5, label, ha='center', va='bottom')\n",
    "\n",
    "plt.show()"
   ]
  },
  {
   "cell_type": "code",
   "execution_count": 12,
   "metadata": {},
   "outputs": [],
   "source": [
    "business.dropna(inplace=True)"
   ]
  },
  {
   "cell_type": "code",
   "execution_count": 22,
   "metadata": {},
   "outputs": [
    {
     "name": "stdout",
     "output_type": "stream",
     "text": [
      "There are  46456  different types/categories of Businesses in Yelp!\n"
     ]
    }
   ],
   "source": [
    "# What are the popular business categories?\n",
    "business_cats=' '.join(business['categories'])\n",
    "\n",
    "cats=pd.DataFrame(business_cats.split(', '),columns=['category'])\n",
    "x=cats.category.value_counts()\n",
    "print(\"There are \",len(x),\" different types/categories of Businesses in Yelp!\")\n"
   ]
  },
  {
   "cell_type": "code",
   "execution_count": 26,
   "metadata": {},
   "outputs": [
    {
     "data": {
      "image/png": "[encoded data removed]",
      "text/plain": [
       "<Figure size 1152x576 with 1 Axes>"
      ]
     },
     "metadata": {
      "needs_background": "light"
     },
     "output_type": "display_data"
    }
   ],
   "source": [
    "#prep for chart\n",
    "x=x.sort_values(ascending=False)\n",
    "x=x.iloc[0:20]\n",
    "\n",
    "#chart\n",
    "plt.figure(figsize=(16,8))\n",
    "ax = sns.barplot(x.index, x.values, alpha=0.8)#,color=color[5])\n",
    "plt.title(\"What are the top categories?\",fontsize=25)\n",
    "locs, labels = plt.xticks()\n",
    "plt.setp(labels, rotation=80)\n",
    "plt.ylabel('# businesses', fontsize=12)\n",
    "plt.xlabel('Category', fontsize=12)\n",
    "\n",
    "#adding the text labels\n",
    "rects = ax.patches\n",
    "labels = x.values\n",
    "for rect, label in zip(rects, labels):\n",
    "    height = rect.get_height()\n",
    "    ax.text(rect.get_x() + rect.get_width()/2, height + 5, label, ha='center', va='bottom')\n",
    "\n",
    "#plt.savefig('plots/category.png')\n",
    "plt.show()"
   ]
  },
  {
   "cell_type": "code",
   "execution_count": 45,
   "metadata": {},
   "outputs": [
    {
     "data": {
      "image/png": "[encoded data removed]",
      "text/plain": [
       "<Figure size 1152x576 with 1 Axes>"
      ]
     },
     "metadata": {
      "needs_background": "light"
     },
     "output_type": "display_data"
    }
   ],
   "source": [
    "#Get the distribution of the ratings\n",
    "x=business['city'].value_counts()\n",
    "x=x.sort_values(ascending=False)\n",
    "x=x.iloc[0:20]\n",
    "plt.figure(figsize=(16,8))\n",
    "ax = sns.barplot(x.index, x.values, alpha=0.8,color=color[3])\n",
    "plt.title(\"Which city has the most reviews?\")\n",
    "locs, labels = plt.xticks()\n",
    "plt.setp(labels, rotation=45)\n",
    "plt.ylabel('# businesses', fontsize=12)\n",
    "plt.xlabel('City', fontsize=12)\n",
    "\n",
    "#adding the text labels\n",
    "rects = ax.patches\n",
    "labels = x.values\n",
    "for rect, label in zip(rects, labels):\n",
    "    height = rect.get_height()\n",
    "    ax.text(rect.get_x() + rect.get_width()/2, height + 5, label, ha='center', va='bottom')\n",
    "\n",
    "plt.show()"
   ]
  },
  {
   "cell_type": "code",
   "execution_count": 13,
   "metadata": {},
   "outputs": [
    {
     "data": {
      "text/plain": [
       "'Sushi Bars, Restaurants, Japanese'"
      ]
     },
     "execution_count": 13,
     "metadata": {},
     "output_type": "execute_result"
    }
   ],
   "source": [
    "business.iloc[1]['categories']"
   ]
  },
  {
   "cell_type": "code",
   "execution_count": 15,
   "metadata": {},
   "outputs": [],
   "source": [
    "import re"
   ]
  },
  {
   "cell_type": "code",
   "execution_count": 16,
   "metadata": {},
   "outputs": [],
   "source": [
    "from nltk.corpus import stopwords\n",
    "from nltk.tokenize import word_tokenize\n",
    "from nltk.stem import PorterStemmer\n",
    "from nltk.tokenize import sent_tokenize, word_tokenize\n",
    "\n",
    "ps = PorterStemmer()"
   ]
  },
  {
   "cell_type": "code",
   "execution_count": 19,
   "metadata": {},
   "outputs": [],
   "source": [
    "l=[]\n",
    "for s in business['categories']:\n",
    "    \n",
    "    #Remove punctuations\n",
    "    s=re.sub(r'[^\\w\\s]','',s)\n",
    "    \n",
    "    #Remove Digits\n",
    "    s=re.sub(r\"(\\d)\", \"\", s)\n",
    "    \n",
    "    #Remove content inside paranthesis\n",
    "    s=re.sub(r'\\([^)]*\\)', '', s)\n",
    "    \n",
    "    #Remove Brand Name\n",
    "    s=re.sub(u'\\w*\\u2122', '', s)\n",
    "    \n",
    "    #Convert to lowercase\n",
    "    s=s.lower()\n",
    "    \n",
    "    #Remove Stop Words\n",
    "    stop_words = set(stopwords.words('english'))\n",
    "    word_tokens = word_tokenize(s)\n",
    "    filtered_sentence = [w for w in word_tokens if not w in stop_words]\n",
    "    filtered_sentence = []\n",
    "    for w in word_tokens:\n",
    "        if w not in stop_words:\n",
    "            filtered_sentence.append(w)\n",
    "    s=' '.join(filtered_sentence)\n",
    "    \n",
    "    #Remove low-content adjectives\n",
    "    \n",
    "    \n",
    "    #Porter Stemmer Algorithm\n",
    "    words = word_tokenize(s)\n",
    "    word_ps=[]\n",
    "    for w in words:\n",
    "        word_ps.append(ps.stem(w))\n",
    "    s=' '.join(word_ps)\n",
    "    \n",
    "    l.append(s)\n",
    "business['ing_mod']=l"
   ]
  },
  {
   "cell_type": "code",
   "execution_count": 20,
   "metadata": {},
   "outputs": [
    {
     "data": {
      "text/html": [
       "<div>\n",
       "<style scoped>\n",
       "    .dataframe tbody tr th:only-of-type {\n",
       "        vertical-align: middle;\n",
       "    }\n",
       "\n",
       "    .dataframe tbody tr th {\n",
       "        vertical-align: top;\n",
       "    }\n",
       "\n",
       "    .dataframe thead th {\n",
       "        text-align: right;\n",
       "    }\n",
       "</style>\n",
       "<table border=\"1\" class=\"dataframe\">\n",
       "  <thead>\n",
       "    <tr style=\"text-align: right;\">\n",
       "      <th></th>\n",
       "      <th>business_id</th>\n",
       "      <th>name</th>\n",
       "      <th>address</th>\n",
       "      <th>city</th>\n",
       "      <th>state</th>\n",
       "      <th>postal_code</th>\n",
       "      <th>latitude</th>\n",
       "      <th>longitude</th>\n",
       "      <th>stars</th>\n",
       "      <th>review_count</th>\n",
       "      <th>is_open</th>\n",
       "      <th>attributes</th>\n",
       "      <th>categories</th>\n",
       "      <th>hours</th>\n",
       "      <th>ing_mod</th>\n",
       "    </tr>\n",
       "  </thead>\n",
       "  <tbody>\n",
       "    <tr>\n",
       "      <td>1</td>\n",
       "      <td>QXAEGFB4oINsVuTFxEYKFQ</td>\n",
       "      <td>Emerald Chinese Restaurant</td>\n",
       "      <td>30 Eglinton Avenue W</td>\n",
       "      <td>Mississauga</td>\n",
       "      <td>ON</td>\n",
       "      <td>L5R 3E7</td>\n",
       "      <td>43.605499</td>\n",
       "      <td>-79.652289</td>\n",
       "      <td>2.5</td>\n",
       "      <td>128</td>\n",
       "      <td>1</td>\n",
       "      <td>{'RestaurantsReservations': 'True', 'GoodForMe...</td>\n",
       "      <td>Specialty Food, Restaurants, Dim Sum, Imported...</td>\n",
       "      <td>{'Monday': '9:0-0:0', 'Tuesday': '9:0-0:0', 'W...</td>\n",
       "      <td>specialti food restaur dim sum import food foo...</td>\n",
       "    </tr>\n",
       "    <tr>\n",
       "      <td>2</td>\n",
       "      <td>gnKjwL_1w79qoiV3IC_xQQ</td>\n",
       "      <td>Musashi Japanese Restaurant</td>\n",
       "      <td>10110 Johnston Rd, Ste 15</td>\n",
       "      <td>Charlotte</td>\n",
       "      <td>NC</td>\n",
       "      <td>28210</td>\n",
       "      <td>35.092564</td>\n",
       "      <td>-80.859132</td>\n",
       "      <td>4.0</td>\n",
       "      <td>170</td>\n",
       "      <td>1</td>\n",
       "      <td>{'GoodForKids': 'True', 'NoiseLevel': \"u'avera...</td>\n",
       "      <td>Sushi Bars, Restaurants, Japanese</td>\n",
       "      <td>{'Monday': '17:30-21:30', 'Wednesday': '17:30-...</td>\n",
       "      <td>sushi bar restaur japanes</td>\n",
       "    </tr>\n",
       "    <tr>\n",
       "      <td>4</td>\n",
       "      <td>HhyxOkGAM07SRYtlQ4wMFQ</td>\n",
       "      <td>Queen City Plumbing</td>\n",
       "      <td>4209 Stuart Andrew Blvd, Ste F</td>\n",
       "      <td>Charlotte</td>\n",
       "      <td>NC</td>\n",
       "      <td>28217</td>\n",
       "      <td>35.190012</td>\n",
       "      <td>-80.887223</td>\n",
       "      <td>4.0</td>\n",
       "      <td>4</td>\n",
       "      <td>1</td>\n",
       "      <td>{'BusinessAcceptsBitcoin': 'False', 'ByAppoint...</td>\n",
       "      <td>Plumbing, Shopping, Local Services, Home Servi...</td>\n",
       "      <td>{'Monday': '7:0-23:0', 'Tuesday': '7:0-23:0', ...</td>\n",
       "      <td>plumb shop local servic home servic kitchen ba...</td>\n",
       "    </tr>\n",
       "    <tr>\n",
       "      <td>5</td>\n",
       "      <td>68dUKd8_8liJ7in4aWOSEA</td>\n",
       "      <td>The UPS Store</td>\n",
       "      <td>Credit Valley Town Plaza, F2 - 6045 Creditview Rd</td>\n",
       "      <td>Mississauga</td>\n",
       "      <td>ON</td>\n",
       "      <td>L5V 0B1</td>\n",
       "      <td>43.599475</td>\n",
       "      <td>-79.711584</td>\n",
       "      <td>2.5</td>\n",
       "      <td>3</td>\n",
       "      <td>1</td>\n",
       "      <td>{'BusinessParking': \"{'garage': False, 'street...</td>\n",
       "      <td>Shipping Centers, Couriers &amp; Delivery Services...</td>\n",
       "      <td>{'Monday': '9:0-19:0', 'Tuesday': '9:0-20:0', ...</td>\n",
       "      <td>ship center courier deliveri servic local serv...</td>\n",
       "    </tr>\n",
       "    <tr>\n",
       "      <td>7</td>\n",
       "      <td>gbQN7vr_caG_A1ugSmGhWg</td>\n",
       "      <td>Supercuts</td>\n",
       "      <td>4545 E Tropicana Rd Ste 8, Tropicana</td>\n",
       "      <td>Las Vegas</td>\n",
       "      <td>NV</td>\n",
       "      <td>89121</td>\n",
       "      <td>36.099872</td>\n",
       "      <td>-115.074574</td>\n",
       "      <td>3.5</td>\n",
       "      <td>3</td>\n",
       "      <td>1</td>\n",
       "      <td>{'RestaurantsPriceRange2': '3', 'GoodForKids':...</td>\n",
       "      <td>Hair Salons, Hair Stylists, Barbers, Men's Hai...</td>\n",
       "      <td>{'Monday': '10:0-19:0', 'Tuesday': '10:0-19:0'...</td>\n",
       "      <td>hair salon hair stylist barber men hair salon ...</td>\n",
       "    </tr>\n",
       "  </tbody>\n",
       "</table>\n",
       "</div>"
      ],
      "text/plain": [
       "              business_id                         name  \\\n",
       "1  QXAEGFB4oINsVuTFxEYKFQ   Emerald Chinese Restaurant   \n",
       "2  gnKjwL_1w79qoiV3IC_xQQ  Musashi Japanese Restaurant   \n",
       "4  HhyxOkGAM07SRYtlQ4wMFQ          Queen City Plumbing   \n",
       "5  68dUKd8_8liJ7in4aWOSEA                The UPS Store   \n",
       "7  gbQN7vr_caG_A1ugSmGhWg                    Supercuts   \n",
       "\n",
       "                                             address         city state  \\\n",
       "1                               30 Eglinton Avenue W  Mississauga    ON   \n",
       "2                          10110 Johnston Rd, Ste 15    Charlotte    NC   \n",
       "4                     4209 Stuart Andrew Blvd, Ste F    Charlotte    NC   \n",
       "5  Credit Valley Town Plaza, F2 - 6045 Creditview Rd  Mississauga    ON   \n",
       "7               4545 E Tropicana Rd Ste 8, Tropicana    Las Vegas    NV   \n",
       "\n",
       "  postal_code   latitude   longitude  stars  review_count  is_open  \\\n",
       "1     L5R 3E7  43.605499  -79.652289    2.5           128        1   \n",
       "2       28210  35.092564  -80.859132    4.0           170        1   \n",
       "4       28217  35.190012  -80.887223    4.0             4        1   \n",
       "5     L5V 0B1  43.599475  -79.711584    2.5             3        1   \n",
       "7       89121  36.099872 -115.074574    3.5             3        1   \n",
       "\n",
       "                                          attributes  \\\n",
       "1  {'RestaurantsReservations': 'True', 'GoodForMe...   \n",
       "2  {'GoodForKids': 'True', 'NoiseLevel': \"u'avera...   \n",
       "4  {'BusinessAcceptsBitcoin': 'False', 'ByAppoint...   \n",
       "5  {'BusinessParking': \"{'garage': False, 'street...   \n",
       "7  {'RestaurantsPriceRange2': '3', 'GoodForKids':...   \n",
       "\n",
       "                                          categories  \\\n",
       "1  Specialty Food, Restaurants, Dim Sum, Imported...   \n",
       "2                  Sushi Bars, Restaurants, Japanese   \n",
       "4  Plumbing, Shopping, Local Services, Home Servi...   \n",
       "5  Shipping Centers, Couriers & Delivery Services...   \n",
       "7  Hair Salons, Hair Stylists, Barbers, Men's Hai...   \n",
       "\n",
       "                                               hours  \\\n",
       "1  {'Monday': '9:0-0:0', 'Tuesday': '9:0-0:0', 'W...   \n",
       "2  {'Monday': '17:30-21:30', 'Wednesday': '17:30-...   \n",
       "4  {'Monday': '7:0-23:0', 'Tuesday': '7:0-23:0', ...   \n",
       "5  {'Monday': '9:0-19:0', 'Tuesday': '9:0-20:0', ...   \n",
       "7  {'Monday': '10:0-19:0', 'Tuesday': '10:0-19:0'...   \n",
       "\n",
       "                                             ing_mod  \n",
       "1  specialti food restaur dim sum import food foo...  \n",
       "2                          sushi bar restaur japanes  \n",
       "4  plumb shop local servic home servic kitchen ba...  \n",
       "5  ship center courier deliveri servic local serv...  \n",
       "7  hair salon hair stylist barber men hair salon ...  "
      ]
     },
     "execution_count": 20,
     "metadata": {},
     "output_type": "execute_result"
    }
   ],
   "source": [
    "business.drop('Unnamed: 0', axis = 1, inplace = True)\n",
    "business.head()"
   ]
  },
  {
   "cell_type": "code",
   "execution_count": 21,
   "metadata": {},
   "outputs": [
    {
     "data": {
      "text/plain": [
       "1         specialti food restaur dim sum import food foo...\n",
       "2                                 sushi bar restaur japanes\n",
       "4         plumb shop local servic home servic kitchen ba...\n",
       "5         ship center courier deliveri servic local serv...\n",
       "7         hair salon hair stylist barber men hair salon ...\n",
       "                                ...                        \n",
       "192602                                food beer wine spirit\n",
       "192603                                      restaur italian\n",
       "192606    home servic contractor landscap masonryconcret...\n",
       "192607                                    beauti spa barber\n",
       "192608                                    massag beauti spa\n",
       "Name: ing_mod, Length: 124580, dtype: object"
      ]
     },
     "execution_count": 21,
     "metadata": {},
     "output_type": "execute_result"
    }
   ],
   "source": [
    "business['ing_mod']"
   ]
  },
  {
   "cell_type": "code",
   "execution_count": 45,
   "metadata": {},
   "outputs": [
    {
     "data": {
      "text/plain": [
       "'Specialty Food, Restaurants, Dim Sum, Imported Food, Food, Chinese, Ethnic Food, Seafood'"
      ]
     },
     "execution_count": 45,
     "metadata": {},
     "output_type": "execute_result"
    }
   ],
   "source": [
    "business['categories'].iloc[0]"
   ]
  },
  {
   "cell_type": "code",
   "execution_count": 46,
   "metadata": {},
   "outputs": [
    {
     "data": {
      "text/plain": [
       "'specialti food restaur dim sum import food food chines ethnic food seafood'"
      ]
     },
     "execution_count": 46,
     "metadata": {},
     "output_type": "execute_result"
    }
   ],
   "source": [
    "business['ing_mod'].iloc[0]"
   ]
  },
  {
   "cell_type": "code",
   "execution_count": 22,
   "metadata": {},
   "outputs": [],
   "source": [
    "from collections import defaultdict"
   ]
  },
  {
   "cell_type": "code",
   "execution_count": 23,
   "metadata": {},
   "outputs": [],
   "source": [
    "mydd = defaultdict(int)\n",
    "\n",
    "for i in business['ing_mod']:\n",
    "    for j in i.split():\n",
    "        mydd[j] += 1"
   ]
  },
  {
   "cell_type": "code",
   "execution_count": 24,
   "metadata": {},
   "outputs": [
    {
     "data": {
      "text/plain": [
       "1214"
      ]
     },
     "execution_count": 24,
     "metadata": {},
     "output_type": "execute_result"
    }
   ],
   "source": [
    "len(mydd)"
   ]
  },
  {
   "cell_type": "code",
   "execution_count": 25,
   "metadata": {},
   "outputs": [
    {
     "data": {
      "text/plain": [
       "2167"
      ]
     },
     "execution_count": 25,
     "metadata": {},
     "output_type": "execute_result"
    }
   ],
   "source": [
    "mydd['japanes']"
   ]
  },
  {
   "cell_type": "code",
   "execution_count": 26,
   "metadata": {},
   "outputs": [],
   "source": [
    "cuisine_list = ['Afghan', 'African', 'American', 'Argentine',\n",
    "               'Arabian',\n",
    "               'Asian',\n",
    "               'Australian',\n",
    "               'Barbeque',\n",
    "               'Brazilian',\n",
    "               'Breakfast',\n",
    "                'Brunch',\n",
    "                'British',\n",
    "                'Burgers',\n",
    "                'Cafes',\n",
    "                'Cajun/Creole',\n",
    "                'Caribbean',\n",
    "                'Cuban',\n",
    "                'Chinese',\n",
    "                'Ethiopian',\n",
    "                'French',\n",
    "                'Fish & Chips',\n",
    "                'German',\n",
    "                'Hawaiian',\n",
    "                'Nepalese',\n",
    "                'Indian',\n",
    "                'Indonesian',\n",
    "                'Italian',\n",
    "                'Japanese',\n",
    "                'Kebab',\n",
    "                'Korean',\n",
    "                'Malaysian',\n",
    "                'Mediterranean',\n",
    "                'Mexican',\n",
    "                'Lebanese',\n",
    "                'Moroccan',\n",
    "                'Persian',\n",
    "                'Portuguese',\n",
    "                'Russian',\n",
    "                'Singaporean',\n",
    "                'Thai',\n",
    "                'Turkish',\n",
    "                'Vegan',\n",
    "                'Vegetarian',\n",
    "                'Vietnamese']"
   ]
  },
  {
   "cell_type": "code",
   "execution_count": 27,
   "metadata": {},
   "outputs": [
    {
     "data": {
      "text/plain": [
       "['Afghan',\n",
       " 'African',\n",
       " 'American',\n",
       " 'Argentine',\n",
       " 'Arabian',\n",
       " 'Asian',\n",
       " 'Australian',\n",
       " 'Barbeque',\n",
       " 'Brazilian',\n",
       " 'Breakfast',\n",
       " 'Brunch',\n",
       " 'British',\n",
       " 'Burgers',\n",
       " 'Cafes',\n",
       " 'Cajun/Creole',\n",
       " 'Caribbean',\n",
       " 'Cuban',\n",
       " 'Chinese',\n",
       " 'Ethiopian',\n",
       " 'French',\n",
       " 'Fish & Chips',\n",
       " 'German',\n",
       " 'Hawaiian',\n",
       " 'Nepalese',\n",
       " 'Indian',\n",
       " 'Indonesian',\n",
       " 'Italian',\n",
       " 'Japanese',\n",
       " 'Kebab',\n",
       " 'Korean',\n",
       " 'Malaysian',\n",
       " 'Mediterranean',\n",
       " 'Mexican',\n",
       " 'Lebanese',\n",
       " 'Moroccan',\n",
       " 'Persian',\n",
       " 'Portuguese',\n",
       " 'Russian',\n",
       " 'Singaporean',\n",
       " 'Thai',\n",
       " 'Turkish',\n",
       " 'Vegan',\n",
       " 'Vegetarian',\n",
       " 'Vietnamese']"
      ]
     },
     "execution_count": 27,
     "metadata": {},
     "output_type": "execute_result"
    }
   ],
   "source": [
    "cuisine_list"
   ]
  },
  {
   "cell_type": "code",
   "execution_count": 28,
   "metadata": {},
   "outputs": [],
   "source": [
    "cuisine=[]\n",
    "for s in cuisine_list:\n",
    "    \n",
    "    #Remove punctuations\n",
    "    s=re.sub(r'[^\\w\\s]','',s)\n",
    "    \n",
    "    #Remove Digits\n",
    "    s=re.sub(r\"(\\d)\", \"\", s)\n",
    "    \n",
    "    #Remove content inside paranthesis\n",
    "    s=re.sub(r'\\([^)]*\\)', '', s)\n",
    "    \n",
    "    #Remove Brand Name\n",
    "    s=re.sub(u'\\w*\\u2122', '', s)\n",
    "    \n",
    "    #Convert to lowercase\n",
    "    s=s.lower()\n",
    "    \n",
    "    #Remove Stop Words\n",
    "    stop_words = set(stopwords.words('english'))\n",
    "    word_tokens = word_tokenize(s)\n",
    "    filtered_sentence = [w for w in word_tokens if not w in stop_words]\n",
    "    filtered_sentence = []\n",
    "    for w in word_tokens:\n",
    "        if w not in stop_words:\n",
    "            filtered_sentence.append(w)\n",
    "    s=' '.join(filtered_sentence)\n",
    "    \n",
    "    #Remove low-content adjectives\n",
    "    \n",
    "    \n",
    "    #Porter Stemmer Algorithm\n",
    "    words = word_tokenize(s)\n",
    "    word_ps=[]\n",
    "    for w in words:\n",
    "        word_ps.append(ps.stem(w))\n",
    "    s=' '.join(word_ps)\n",
    "    \n",
    "    cuisine.append(s)"
   ]
  },
  {
   "cell_type": "code",
   "execution_count": 29,
   "metadata": {},
   "outputs": [
    {
     "data": {
      "text/plain": [
       "False"
      ]
     },
     "execution_count": 29,
     "metadata": {},
     "output_type": "execute_result"
    }
   ],
   "source": [
    "business.iloc[0]['ing_mod'] in cuisine"
   ]
  },
  {
   "cell_type": "code",
   "execution_count": 32,
   "metadata": {},
   "outputs": [],
   "source": [
    "business['cuisine'] = business['ing_mod'].apply(lambda x:return_cuisine(x))"
   ]
  },
  {
   "cell_type": "code",
   "execution_count": 31,
   "metadata": {},
   "outputs": [],
   "source": [
    "def return_cuisine(x):\n",
    "    for i in x.split():\n",
    "        if i in cuisine:\n",
    "            return i\n",
    "    return 0"
   ]
  },
  {
   "cell_type": "code",
   "execution_count": 33,
   "metadata": {},
   "outputs": [
    {
     "data": {
      "text/plain": [
       "'chines'"
      ]
     },
     "execution_count": 33,
     "metadata": {},
     "output_type": "execute_result"
    }
   ],
   "source": [
    "return_cuisine(business.iloc[0]['ing_mod'])"
   ]
  },
  {
   "cell_type": "code",
   "execution_count": 34,
   "metadata": {},
   "outputs": [
    {
     "data": {
      "text/html": [
       "<div>\n",
       "<style scoped>\n",
       "    .dataframe tbody tr th:only-of-type {\n",
       "        vertical-align: middle;\n",
       "    }\n",
       "\n",
       "    .dataframe tbody tr th {\n",
       "        vertical-align: top;\n",
       "    }\n",
       "\n",
       "    .dataframe thead th {\n",
       "        text-align: right;\n",
       "    }\n",
       "</style>\n",
       "<table border=\"1\" class=\"dataframe\">\n",
       "  <thead>\n",
       "    <tr style=\"text-align: right;\">\n",
       "      <th></th>\n",
       "      <th>business_id</th>\n",
       "      <th>name</th>\n",
       "      <th>address</th>\n",
       "      <th>city</th>\n",
       "      <th>state</th>\n",
       "      <th>postal_code</th>\n",
       "      <th>latitude</th>\n",
       "      <th>longitude</th>\n",
       "      <th>stars</th>\n",
       "      <th>review_count</th>\n",
       "      <th>is_open</th>\n",
       "      <th>attributes</th>\n",
       "      <th>categories</th>\n",
       "      <th>hours</th>\n",
       "      <th>ing_mod</th>\n",
       "      <th>cuisine</th>\n",
       "    </tr>\n",
       "  </thead>\n",
       "  <tbody>\n",
       "    <tr>\n",
       "      <td>1</td>\n",
       "      <td>QXAEGFB4oINsVuTFxEYKFQ</td>\n",
       "      <td>Emerald Chinese Restaurant</td>\n",
       "      <td>30 Eglinton Avenue W</td>\n",
       "      <td>Mississauga</td>\n",
       "      <td>ON</td>\n",
       "      <td>L5R 3E7</td>\n",
       "      <td>43.605499</td>\n",
       "      <td>-79.652289</td>\n",
       "      <td>2.5</td>\n",
       "      <td>128</td>\n",
       "      <td>1</td>\n",
       "      <td>{'RestaurantsReservations': 'True', 'GoodForMe...</td>\n",
       "      <td>Specialty Food, Restaurants, Dim Sum, Imported...</td>\n",
       "      <td>{'Monday': '9:0-0:0', 'Tuesday': '9:0-0:0', 'W...</td>\n",
       "      <td>specialti food restaur dim sum import food foo...</td>\n",
       "      <td>chines</td>\n",
       "    </tr>\n",
       "    <tr>\n",
       "      <td>2</td>\n",
       "      <td>gnKjwL_1w79qoiV3IC_xQQ</td>\n",
       "      <td>Musashi Japanese Restaurant</td>\n",
       "      <td>10110 Johnston Rd, Ste 15</td>\n",
       "      <td>Charlotte</td>\n",
       "      <td>NC</td>\n",
       "      <td>28210</td>\n",
       "      <td>35.092564</td>\n",
       "      <td>-80.859132</td>\n",
       "      <td>4.0</td>\n",
       "      <td>170</td>\n",
       "      <td>1</td>\n",
       "      <td>{'GoodForKids': 'True', 'NoiseLevel': \"u'avera...</td>\n",
       "      <td>Sushi Bars, Restaurants, Japanese</td>\n",
       "      <td>{'Monday': '17:30-21:30', 'Wednesday': '17:30-...</td>\n",
       "      <td>sushi bar restaur japanes</td>\n",
       "      <td>japanes</td>\n",
       "    </tr>\n",
       "    <tr>\n",
       "      <td>4</td>\n",
       "      <td>HhyxOkGAM07SRYtlQ4wMFQ</td>\n",
       "      <td>Queen City Plumbing</td>\n",
       "      <td>4209 Stuart Andrew Blvd, Ste F</td>\n",
       "      <td>Charlotte</td>\n",
       "      <td>NC</td>\n",
       "      <td>28217</td>\n",
       "      <td>35.190012</td>\n",
       "      <td>-80.887223</td>\n",
       "      <td>4.0</td>\n",
       "      <td>4</td>\n",
       "      <td>1</td>\n",
       "      <td>{'BusinessAcceptsBitcoin': 'False', 'ByAppoint...</td>\n",
       "      <td>Plumbing, Shopping, Local Services, Home Servi...</td>\n",
       "      <td>{'Monday': '7:0-23:0', 'Tuesday': '7:0-23:0', ...</td>\n",
       "      <td>plumb shop local servic home servic kitchen ba...</td>\n",
       "      <td>0</td>\n",
       "    </tr>\n",
       "    <tr>\n",
       "      <td>5</td>\n",
       "      <td>68dUKd8_8liJ7in4aWOSEA</td>\n",
       "      <td>The UPS Store</td>\n",
       "      <td>Credit Valley Town Plaza, F2 - 6045 Creditview Rd</td>\n",
       "      <td>Mississauga</td>\n",
       "      <td>ON</td>\n",
       "      <td>L5V 0B1</td>\n",
       "      <td>43.599475</td>\n",
       "      <td>-79.711584</td>\n",
       "      <td>2.5</td>\n",
       "      <td>3</td>\n",
       "      <td>1</td>\n",
       "      <td>{'BusinessParking': \"{'garage': False, 'street...</td>\n",
       "      <td>Shipping Centers, Couriers &amp; Delivery Services...</td>\n",
       "      <td>{'Monday': '9:0-19:0', 'Tuesday': '9:0-20:0', ...</td>\n",
       "      <td>ship center courier deliveri servic local serv...</td>\n",
       "      <td>0</td>\n",
       "    </tr>\n",
       "    <tr>\n",
       "      <td>7</td>\n",
       "      <td>gbQN7vr_caG_A1ugSmGhWg</td>\n",
       "      <td>Supercuts</td>\n",
       "      <td>4545 E Tropicana Rd Ste 8, Tropicana</td>\n",
       "      <td>Las Vegas</td>\n",
       "      <td>NV</td>\n",
       "      <td>89121</td>\n",
       "      <td>36.099872</td>\n",
       "      <td>-115.074574</td>\n",
       "      <td>3.5</td>\n",
       "      <td>3</td>\n",
       "      <td>1</td>\n",
       "      <td>{'RestaurantsPriceRange2': '3', 'GoodForKids':...</td>\n",
       "      <td>Hair Salons, Hair Stylists, Barbers, Men's Hai...</td>\n",
       "      <td>{'Monday': '10:0-19:0', 'Tuesday': '10:0-19:0'...</td>\n",
       "      <td>hair salon hair stylist barber men hair salon ...</td>\n",
       "      <td>0</td>\n",
       "    </tr>\n",
       "  </tbody>\n",
       "</table>\n",
       "</div>"
      ],
      "text/plain": [
       "              business_id                         name  \\\n",
       "1  QXAEGFB4oINsVuTFxEYKFQ   Emerald Chinese Restaurant   \n",
       "2  gnKjwL_1w79qoiV3IC_xQQ  Musashi Japanese Restaurant   \n",
       "4  HhyxOkGAM07SRYtlQ4wMFQ          Queen City Plumbing   \n",
       "5  68dUKd8_8liJ7in4aWOSEA                The UPS Store   \n",
       "7  gbQN7vr_caG_A1ugSmGhWg                    Supercuts   \n",
       "\n",
       "                                             address         city state  \\\n",
       "1                               30 Eglinton Avenue W  Mississauga    ON   \n",
       "2                          10110 Johnston Rd, Ste 15    Charlotte    NC   \n",
       "4                     4209 Stuart Andrew Blvd, Ste F    Charlotte    NC   \n",
       "5  Credit Valley Town Plaza, F2 - 6045 Creditview Rd  Mississauga    ON   \n",
       "7               4545 E Tropicana Rd Ste 8, Tropicana    Las Vegas    NV   \n",
       "\n",
       "  postal_code   latitude   longitude  stars  review_count  is_open  \\\n",
       "1     L5R 3E7  43.605499  -79.652289    2.5           128        1   \n",
       "2       28210  35.092564  -80.859132    4.0           170        1   \n",
       "4       28217  35.190012  -80.887223    4.0             4        1   \n",
       "5     L5V 0B1  43.599475  -79.711584    2.5             3        1   \n",
       "7       89121  36.099872 -115.074574    3.5             3        1   \n",
       "\n",
       "                                          attributes  \\\n",
       "1  {'RestaurantsReservations': 'True', 'GoodForMe...   \n",
       "2  {'GoodForKids': 'True', 'NoiseLevel': \"u'avera...   \n",
       "4  {'BusinessAcceptsBitcoin': 'False', 'ByAppoint...   \n",
       "5  {'BusinessParking': \"{'garage': False, 'street...   \n",
       "7  {'RestaurantsPriceRange2': '3', 'GoodForKids':...   \n",
       "\n",
       "                                          categories  \\\n",
       "1  Specialty Food, Restaurants, Dim Sum, Imported...   \n",
       "2                  Sushi Bars, Restaurants, Japanese   \n",
       "4  Plumbing, Shopping, Local Services, Home Servi...   \n",
       "5  Shipping Centers, Couriers & Delivery Services...   \n",
       "7  Hair Salons, Hair Stylists, Barbers, Men's Hai...   \n",
       "\n",
       "                                               hours  \\\n",
       "1  {'Monday': '9:0-0:0', 'Tuesday': '9:0-0:0', 'W...   \n",
       "2  {'Monday': '17:30-21:30', 'Wednesday': '17:30-...   \n",
       "4  {'Monday': '7:0-23:0', 'Tuesday': '7:0-23:0', ...   \n",
       "5  {'Monday': '9:0-19:0', 'Tuesday': '9:0-20:0', ...   \n",
       "7  {'Monday': '10:0-19:0', 'Tuesday': '10:0-19:0'...   \n",
       "\n",
       "                                             ing_mod  cuisine  \n",
       "1  specialti food restaur dim sum import food foo...   chines  \n",
       "2                          sushi bar restaur japanes  japanes  \n",
       "4  plumb shop local servic home servic kitchen ba...        0  \n",
       "5  ship center courier deliveri servic local serv...        0  \n",
       "7  hair salon hair stylist barber men hair salon ...        0  "
      ]
     },
     "execution_count": 34,
     "metadata": {},
     "output_type": "execute_result"
    }
   ],
   "source": [
    "business.head()"
   ]
  },
  {
   "cell_type": "code",
   "execution_count": 35,
   "metadata": {},
   "outputs": [
    {
     "data": {
      "text/html": [
       "<div>\n",
       "<style scoped>\n",
       "    .dataframe tbody tr th:only-of-type {\n",
       "        vertical-align: middle;\n",
       "    }\n",
       "\n",
       "    .dataframe tbody tr th {\n",
       "        vertical-align: top;\n",
       "    }\n",
       "\n",
       "    .dataframe thead th {\n",
       "        text-align: right;\n",
       "    }\n",
       "</style>\n",
       "<table border=\"1\" class=\"dataframe\">\n",
       "  <thead>\n",
       "    <tr style=\"text-align: right;\">\n",
       "      <th></th>\n",
       "      <th>business_id</th>\n",
       "      <th>name</th>\n",
       "      <th>address</th>\n",
       "      <th>city</th>\n",
       "      <th>state</th>\n",
       "      <th>postal_code</th>\n",
       "      <th>latitude</th>\n",
       "      <th>longitude</th>\n",
       "      <th>stars</th>\n",
       "      <th>review_count</th>\n",
       "      <th>is_open</th>\n",
       "      <th>attributes</th>\n",
       "      <th>categories</th>\n",
       "      <th>hours</th>\n",
       "      <th>ing_mod</th>\n",
       "      <th>cuisine</th>\n",
       "    </tr>\n",
       "  </thead>\n",
       "  <tbody>\n",
       "    <tr>\n",
       "      <td>1</td>\n",
       "      <td>QXAEGFB4oINsVuTFxEYKFQ</td>\n",
       "      <td>Emerald Chinese Restaurant</td>\n",
       "      <td>30 Eglinton Avenue W</td>\n",
       "      <td>Mississauga</td>\n",
       "      <td>ON</td>\n",
       "      <td>L5R 3E7</td>\n",
       "      <td>43.605499</td>\n",
       "      <td>-79.652289</td>\n",
       "      <td>2.5</td>\n",
       "      <td>128</td>\n",
       "      <td>1</td>\n",
       "      <td>{'RestaurantsReservations': 'True', 'GoodForMe...</td>\n",
       "      <td>Specialty Food, Restaurants, Dim Sum, Imported...</td>\n",
       "      <td>{'Monday': '9:0-0:0', 'Tuesday': '9:0-0:0', 'W...</td>\n",
       "      <td>specialti food restaur dim sum import food foo...</td>\n",
       "      <td>chines</td>\n",
       "    </tr>\n",
       "    <tr>\n",
       "      <td>2</td>\n",
       "      <td>gnKjwL_1w79qoiV3IC_xQQ</td>\n",
       "      <td>Musashi Japanese Restaurant</td>\n",
       "      <td>10110 Johnston Rd, Ste 15</td>\n",
       "      <td>Charlotte</td>\n",
       "      <td>NC</td>\n",
       "      <td>28210</td>\n",
       "      <td>35.092564</td>\n",
       "      <td>-80.859132</td>\n",
       "      <td>4.0</td>\n",
       "      <td>170</td>\n",
       "      <td>1</td>\n",
       "      <td>{'GoodForKids': 'True', 'NoiseLevel': \"u'avera...</td>\n",
       "      <td>Sushi Bars, Restaurants, Japanese</td>\n",
       "      <td>{'Monday': '17:30-21:30', 'Wednesday': '17:30-...</td>\n",
       "      <td>sushi bar restaur japanes</td>\n",
       "      <td>japanes</td>\n",
       "    </tr>\n",
       "    <tr>\n",
       "      <td>11</td>\n",
       "      <td>1Dfx3zM-rW4n-31KeC8sJg</td>\n",
       "      <td>Taco Bell</td>\n",
       "      <td>2450 E Indian School Rd</td>\n",
       "      <td>Phoenix</td>\n",
       "      <td>AZ</td>\n",
       "      <td>85016</td>\n",
       "      <td>33.495194</td>\n",
       "      <td>-112.028588</td>\n",
       "      <td>3.0</td>\n",
       "      <td>18</td>\n",
       "      <td>1</td>\n",
       "      <td>{'RestaurantsTakeOut': 'True', 'BusinessParkin...</td>\n",
       "      <td>Restaurants, Breakfast &amp; Brunch, Mexican, Taco...</td>\n",
       "      <td>{'Monday': '7:0-0:0', 'Tuesday': '7:0-0:0', 'W...</td>\n",
       "      <td>restaur breakfast brunch mexican taco texmex f...</td>\n",
       "      <td>breakfast</td>\n",
       "    </tr>\n",
       "    <tr>\n",
       "      <td>13</td>\n",
       "      <td>fweCYi8FmbJXHCqLnwuk8w</td>\n",
       "      <td>Marco's Pizza</td>\n",
       "      <td>5981 Andrews Rd</td>\n",
       "      <td>Mentor-on-the-Lake</td>\n",
       "      <td>OH</td>\n",
       "      <td>44060</td>\n",
       "      <td>41.708520</td>\n",
       "      <td>-81.359556</td>\n",
       "      <td>4.0</td>\n",
       "      <td>16</td>\n",
       "      <td>1</td>\n",
       "      <td>{'RestaurantsPriceRange2': '2', 'BusinessAccep...</td>\n",
       "      <td>Italian, Restaurants, Pizza, Chicken Wings</td>\n",
       "      <td>{'Monday': '10:0-0:0', 'Tuesday': '10:0-0:0', ...</td>\n",
       "      <td>italian restaur pizza chicken wing</td>\n",
       "      <td>italian</td>\n",
       "    </tr>\n",
       "    <tr>\n",
       "      <td>25</td>\n",
       "      <td>tstimHoMcYbkSC4eBA1wEg</td>\n",
       "      <td>Maria's Mexican Restaurant &amp; Bakery</td>\n",
       "      <td>6055 E Lake Mead Blvd</td>\n",
       "      <td>Las Vegas</td>\n",
       "      <td>NV</td>\n",
       "      <td>89156</td>\n",
       "      <td>36.195615</td>\n",
       "      <td>-115.040529</td>\n",
       "      <td>4.5</td>\n",
       "      <td>184</td>\n",
       "      <td>1</td>\n",
       "      <td>{'BikeParking': 'True', 'BusinessParking': \"{'...</td>\n",
       "      <td>Mexican, Restaurants, Patisserie/Cake Shop, Fo...</td>\n",
       "      <td>{'Monday': '11:0-21:0', 'Tuesday': '10:0-21:0'...</td>\n",
       "      <td>mexican restaur patisseriecak shop food bar ni...</td>\n",
       "      <td>mexican</td>\n",
       "    </tr>\n",
       "    <tr>\n",
       "      <td>...</td>\n",
       "      <td>...</td>\n",
       "      <td>...</td>\n",
       "      <td>...</td>\n",
       "      <td>...</td>\n",
       "      <td>...</td>\n",
       "      <td>...</td>\n",
       "      <td>...</td>\n",
       "      <td>...</td>\n",
       "      <td>...</td>\n",
       "      <td>...</td>\n",
       "      <td>...</td>\n",
       "      <td>...</td>\n",
       "      <td>...</td>\n",
       "      <td>...</td>\n",
       "      <td>...</td>\n",
       "      <td>...</td>\n",
       "    </tr>\n",
       "    <tr>\n",
       "      <td>192589</td>\n",
       "      <td>ghovD5ZTGDQ5Q2U4ERddWw</td>\n",
       "      <td>Five Guys</td>\n",
       "      <td>3863 Medina Rd</td>\n",
       "      <td>Fairlawn</td>\n",
       "      <td>OH</td>\n",
       "      <td>44333</td>\n",
       "      <td>41.136561</td>\n",
       "      <td>-81.639712</td>\n",
       "      <td>4.0</td>\n",
       "      <td>22</td>\n",
       "      <td>1</td>\n",
       "      <td>{'RestaurantsPriceRange2': '2', 'HasTV': 'Fals...</td>\n",
       "      <td>Burgers, Restaurants, Fast Food, American (New)</td>\n",
       "      <td>{'Monday': '11:0-22:0', 'Tuesday': '11:0-22:0'...</td>\n",
       "      <td>burger restaur fast food american new</td>\n",
       "      <td>burger</td>\n",
       "    </tr>\n",
       "    <tr>\n",
       "      <td>192595</td>\n",
       "      <td>h3QErqS3OZgLJ5Tb6-sLyQ</td>\n",
       "      <td>Asia Hut</td>\n",
       "      <td>1450 Kingston Rd</td>\n",
       "      <td>Pickering</td>\n",
       "      <td>ON</td>\n",
       "      <td>L1V 1C1</td>\n",
       "      <td>43.841844</td>\n",
       "      <td>-79.083881</td>\n",
       "      <td>4.5</td>\n",
       "      <td>4</td>\n",
       "      <td>1</td>\n",
       "      <td>{'BikeParking': 'True', 'RestaurantsAttire': \"...</td>\n",
       "      <td>Restaurants, Soup, Chinese, Caribbean</td>\n",
       "      <td>{'Monday': '11:0-21:30', 'Tuesday': '11:0-21:3...</td>\n",
       "      <td>restaur soup chines caribbean</td>\n",
       "      <td>chines</td>\n",
       "    </tr>\n",
       "    <tr>\n",
       "      <td>192596</td>\n",
       "      <td>KnafX7T6qSAmSrLhd709vA</td>\n",
       "      <td>Pho Maisonneuve</td>\n",
       "      <td>948 Boulevard de Maisonneuve Est</td>\n",
       "      <td>Montréal</td>\n",
       "      <td>QC</td>\n",
       "      <td>H2L 1Z1</td>\n",
       "      <td>45.517430</td>\n",
       "      <td>-73.558873</td>\n",
       "      <td>4.0</td>\n",
       "      <td>25</td>\n",
       "      <td>1</td>\n",
       "      <td>{'GoodForKids': 'True', 'WiFi': \"u'no'\", 'Rest...</td>\n",
       "      <td>Vietnamese, Soup, Restaurants</td>\n",
       "      <td>{'Monday': '12:0-21:0', 'Tuesday': '12:0-21:0'...</td>\n",
       "      <td>vietnames soup restaur</td>\n",
       "      <td>vietnames</td>\n",
       "    </tr>\n",
       "    <tr>\n",
       "      <td>192597</td>\n",
       "      <td>C7i3HJH0nMyo2K7ZwHToQg</td>\n",
       "      <td>Las Vegas Kung Fu Academy</td>\n",
       "      <td>11165 S Eastern Ave, Ste 110</td>\n",
       "      <td>Henderson</td>\n",
       "      <td>NV</td>\n",
       "      <td>89052</td>\n",
       "      <td>35.989577</td>\n",
       "      <td>-115.101495</td>\n",
       "      <td>4.5</td>\n",
       "      <td>15</td>\n",
       "      <td>1</td>\n",
       "      <td>{'BusinessAcceptsCreditCards': 'True', 'GoodFo...</td>\n",
       "      <td>Chinese Martial Arts, Specialty Schools, Educa...</td>\n",
       "      <td>{'Monday': '16:0-21:0', 'Tuesday': '16:0-21:0'...</td>\n",
       "      <td>chines martial art specialti school educ sport...</td>\n",
       "      <td>chines</td>\n",
       "    </tr>\n",
       "    <tr>\n",
       "      <td>192603</td>\n",
       "      <td>p1eUTUB_5hf1enoKYBV3DA</td>\n",
       "      <td>Ken Stewart's Tre Belle</td>\n",
       "      <td>1911 N Cleveland-Massillon Rd</td>\n",
       "      <td>Bath</td>\n",
       "      <td>OH</td>\n",
       "      <td>44210</td>\n",
       "      <td>41.187547</td>\n",
       "      <td>-81.635791</td>\n",
       "      <td>3.5</td>\n",
       "      <td>39</td>\n",
       "      <td>1</td>\n",
       "      <td>{'OutdoorSeating': 'True', 'BikeParking': 'Tru...</td>\n",
       "      <td>Restaurants, Italian</td>\n",
       "      <td>{'Monday': '0:0-0:0', 'Tuesday': '17:0-22:0', ...</td>\n",
       "      <td>restaur italian</td>\n",
       "      <td>italian</td>\n",
       "    </tr>\n",
       "  </tbody>\n",
       "</table>\n",
       "<p>34655 rows × 16 columns</p>\n",
       "</div>"
      ],
      "text/plain": [
       "                   business_id                                 name  \\\n",
       "1       QXAEGFB4oINsVuTFxEYKFQ           Emerald Chinese Restaurant   \n",
       "2       gnKjwL_1w79qoiV3IC_xQQ          Musashi Japanese Restaurant   \n",
       "11      1Dfx3zM-rW4n-31KeC8sJg                            Taco Bell   \n",
       "13      fweCYi8FmbJXHCqLnwuk8w                        Marco's Pizza   \n",
       "25      tstimHoMcYbkSC4eBA1wEg  Maria's Mexican Restaurant & Bakery   \n",
       "...                        ...                                  ...   \n",
       "192589  ghovD5ZTGDQ5Q2U4ERddWw                            Five Guys   \n",
       "192595  h3QErqS3OZgLJ5Tb6-sLyQ                             Asia Hut   \n",
       "192596  KnafX7T6qSAmSrLhd709vA                      Pho Maisonneuve   \n",
       "192597  C7i3HJH0nMyo2K7ZwHToQg            Las Vegas Kung Fu Academy   \n",
       "192603  p1eUTUB_5hf1enoKYBV3DA              Ken Stewart's Tre Belle   \n",
       "\n",
       "                                 address                city state  \\\n",
       "1                   30 Eglinton Avenue W         Mississauga    ON   \n",
       "2              10110 Johnston Rd, Ste 15           Charlotte    NC   \n",
       "11               2450 E Indian School Rd             Phoenix    AZ   \n",
       "13                       5981 Andrews Rd  Mentor-on-the-Lake    OH   \n",
       "25                 6055 E Lake Mead Blvd           Las Vegas    NV   \n",
       "...                                  ...                 ...   ...   \n",
       "192589                    3863 Medina Rd            Fairlawn    OH   \n",
       "192595                  1450 Kingston Rd           Pickering    ON   \n",
       "192596  948 Boulevard de Maisonneuve Est            Montréal    QC   \n",
       "192597      11165 S Eastern Ave, Ste 110           Henderson    NV   \n",
       "192603     1911 N Cleveland-Massillon Rd                Bath    OH   \n",
       "\n",
       "       postal_code   latitude   longitude  stars  review_count  is_open  \\\n",
       "1          L5R 3E7  43.605499  -79.652289    2.5           128        1   \n",
       "2            28210  35.092564  -80.859132    4.0           170        1   \n",
       "11           85016  33.495194 -112.028588    3.0            18        1   \n",
       "13           44060  41.708520  -81.359556    4.0            16        1   \n",
       "25           89156  36.195615 -115.040529    4.5           184        1   \n",
       "...            ...        ...         ...    ...           ...      ...   \n",
       "192589       44333  41.136561  -81.639712    4.0            22        1   \n",
       "192595     L1V 1C1  43.841844  -79.083881    4.5             4        1   \n",
       "192596     H2L 1Z1  45.517430  -73.558873    4.0            25        1   \n",
       "192597       89052  35.989577 -115.101495    4.5            15        1   \n",
       "192603       44210  41.187547  -81.635791    3.5            39        1   \n",
       "\n",
       "                                               attributes  \\\n",
       "1       {'RestaurantsReservations': 'True', 'GoodForMe...   \n",
       "2       {'GoodForKids': 'True', 'NoiseLevel': \"u'avera...   \n",
       "11      {'RestaurantsTakeOut': 'True', 'BusinessParkin...   \n",
       "13      {'RestaurantsPriceRange2': '2', 'BusinessAccep...   \n",
       "25      {'BikeParking': 'True', 'BusinessParking': \"{'...   \n",
       "...                                                   ...   \n",
       "192589  {'RestaurantsPriceRange2': '2', 'HasTV': 'Fals...   \n",
       "192595  {'BikeParking': 'True', 'RestaurantsAttire': \"...   \n",
       "192596  {'GoodForKids': 'True', 'WiFi': \"u'no'\", 'Rest...   \n",
       "192597  {'BusinessAcceptsCreditCards': 'True', 'GoodFo...   \n",
       "192603  {'OutdoorSeating': 'True', 'BikeParking': 'Tru...   \n",
       "\n",
       "                                               categories  \\\n",
       "1       Specialty Food, Restaurants, Dim Sum, Imported...   \n",
       "2                       Sushi Bars, Restaurants, Japanese   \n",
       "11      Restaurants, Breakfast & Brunch, Mexican, Taco...   \n",
       "13             Italian, Restaurants, Pizza, Chicken Wings   \n",
       "25      Mexican, Restaurants, Patisserie/Cake Shop, Fo...   \n",
       "...                                                   ...   \n",
       "192589    Burgers, Restaurants, Fast Food, American (New)   \n",
       "192595              Restaurants, Soup, Chinese, Caribbean   \n",
       "192596                      Vietnamese, Soup, Restaurants   \n",
       "192597  Chinese Martial Arts, Specialty Schools, Educa...   \n",
       "192603                               Restaurants, Italian   \n",
       "\n",
       "                                                    hours  \\\n",
       "1       {'Monday': '9:0-0:0', 'Tuesday': '9:0-0:0', 'W...   \n",
       "2       {'Monday': '17:30-21:30', 'Wednesday': '17:30-...   \n",
       "11      {'Monday': '7:0-0:0', 'Tuesday': '7:0-0:0', 'W...   \n",
       "13      {'Monday': '10:0-0:0', 'Tuesday': '10:0-0:0', ...   \n",
       "25      {'Monday': '11:0-21:0', 'Tuesday': '10:0-21:0'...   \n",
       "...                                                   ...   \n",
       "192589  {'Monday': '11:0-22:0', 'Tuesday': '11:0-22:0'...   \n",
       "192595  {'Monday': '11:0-21:30', 'Tuesday': '11:0-21:3...   \n",
       "192596  {'Monday': '12:0-21:0', 'Tuesday': '12:0-21:0'...   \n",
       "192597  {'Monday': '16:0-21:0', 'Tuesday': '16:0-21:0'...   \n",
       "192603  {'Monday': '0:0-0:0', 'Tuesday': '17:0-22:0', ...   \n",
       "\n",
       "                                                  ing_mod    cuisine  \n",
       "1       specialti food restaur dim sum import food foo...     chines  \n",
       "2                               sushi bar restaur japanes    japanes  \n",
       "11      restaur breakfast brunch mexican taco texmex f...  breakfast  \n",
       "13                     italian restaur pizza chicken wing    italian  \n",
       "25      mexican restaur patisseriecak shop food bar ni...    mexican  \n",
       "...                                                   ...        ...  \n",
       "192589              burger restaur fast food american new     burger  \n",
       "192595                      restaur soup chines caribbean     chines  \n",
       "192596                             vietnames soup restaur  vietnames  \n",
       "192597  chines martial art specialti school educ sport...     chines  \n",
       "192603                                    restaur italian    italian  \n",
       "\n",
       "[34655 rows x 16 columns]"
      ]
     },
     "execution_count": 35,
     "metadata": {},
     "output_type": "execute_result"
    }
   ],
   "source": [
    "business[business['cuisine'] != 0]"
   ]
  },
  {
   "cell_type": "code",
   "execution_count": 36,
   "metadata": {},
   "outputs": [],
   "source": [
    "cuisine_dict = defaultdict(int)\n",
    "\n",
    "for i in business[business['cuisine'] != 0]['cuisine']:\n",
    "    cuisine_dict[i] += 1    "
   ]
  },
  {
   "cell_type": "code",
   "execution_count": 37,
   "metadata": {},
   "outputs": [
    {
     "data": {
      "text/plain": [
       "defaultdict(int,\n",
       "            {'chines': 2643,\n",
       "             'japanes': 1686,\n",
       "             'breakfast': 3036,\n",
       "             'italian': 3285,\n",
       "             'mexican': 3087,\n",
       "             'vegan': 412,\n",
       "             'korean': 450,\n",
       "             'american': 6818,\n",
       "             'cafe': 1999,\n",
       "             'portugues': 139,\n",
       "             'mediterranean': 1068,\n",
       "             'thai': 792,\n",
       "             'caribbean': 370,\n",
       "             'vegetarian': 481,\n",
       "             'french': 561,\n",
       "             'vietnames': 671,\n",
       "             'burger': 3116,\n",
       "             'barbequ': 960,\n",
       "             'hawaiian': 164,\n",
       "             'asian': 886,\n",
       "             'indian': 937,\n",
       "             'african': 69,\n",
       "             'turkish': 68,\n",
       "             'british': 102,\n",
       "             'german': 78,\n",
       "             'brazilian': 99,\n",
       "             'ethiopian': 48,\n",
       "             'cajuncreol': 176,\n",
       "             'russian': 37,\n",
       "             'arabian': 35,\n",
       "             'afghan': 78,\n",
       "             'moroccan': 33,\n",
       "             'malaysian': 27,\n",
       "             'lebanes': 108,\n",
       "             'kebab': 27,\n",
       "             'argentin': 27,\n",
       "             'cuban': 45,\n",
       "             'australian': 9,\n",
       "             'singaporean': 12,\n",
       "             'indonesian': 16})"
      ]
     },
     "execution_count": 37,
     "metadata": {},
     "output_type": "execute_result"
    }
   ],
   "source": [
    "cuisine_dict"
   ]
  },
  {
   "cell_type": "code",
   "execution_count": 38,
   "metadata": {},
   "outputs": [],
   "source": [
    "# making a condensed data frame\n",
    "df = business[business['cuisine'] != 0]"
   ]
  },
  {
   "cell_type": "code",
   "execution_count": 39,
   "metadata": {},
   "outputs": [],
   "source": [
    "#business[business['cuisine'] != 0][['city','cuisine']].to_csv('csv/cuisine.csv')"
   ]
  },
  {
   "cell_type": "code",
   "execution_count": 40,
   "metadata": {},
   "outputs": [
    {
     "data": {
      "text/html": [
       "<div>\n",
       "<style scoped>\n",
       "    .dataframe tbody tr th:only-of-type {\n",
       "        vertical-align: middle;\n",
       "    }\n",
       "\n",
       "    .dataframe tbody tr th {\n",
       "        vertical-align: top;\n",
       "    }\n",
       "\n",
       "    .dataframe thead th {\n",
       "        text-align: right;\n",
       "    }\n",
       "</style>\n",
       "<table border=\"1\" class=\"dataframe\">\n",
       "  <thead>\n",
       "    <tr style=\"text-align: right;\">\n",
       "      <th></th>\n",
       "      <th>business_id</th>\n",
       "      <th>name</th>\n",
       "      <th>address</th>\n",
       "      <th>city</th>\n",
       "      <th>state</th>\n",
       "      <th>postal_code</th>\n",
       "      <th>latitude</th>\n",
       "      <th>longitude</th>\n",
       "      <th>stars</th>\n",
       "      <th>review_count</th>\n",
       "      <th>is_open</th>\n",
       "      <th>attributes</th>\n",
       "      <th>categories</th>\n",
       "      <th>hours</th>\n",
       "      <th>ing_mod</th>\n",
       "      <th>cuisine</th>\n",
       "    </tr>\n",
       "  </thead>\n",
       "  <tbody>\n",
       "    <tr>\n",
       "      <td>1</td>\n",
       "      <td>QXAEGFB4oINsVuTFxEYKFQ</td>\n",
       "      <td>Emerald Chinese Restaurant</td>\n",
       "      <td>30 Eglinton Avenue W</td>\n",
       "      <td>Mississauga</td>\n",
       "      <td>ON</td>\n",
       "      <td>L5R 3E7</td>\n",
       "      <td>43.605499</td>\n",
       "      <td>-79.652289</td>\n",
       "      <td>2.5</td>\n",
       "      <td>128</td>\n",
       "      <td>1</td>\n",
       "      <td>{'RestaurantsReservations': 'True', 'GoodForMe...</td>\n",
       "      <td>Specialty Food, Restaurants, Dim Sum, Imported...</td>\n",
       "      <td>{'Monday': '9:0-0:0', 'Tuesday': '9:0-0:0', 'W...</td>\n",
       "      <td>specialti food restaur dim sum import food foo...</td>\n",
       "      <td>chines</td>\n",
       "    </tr>\n",
       "    <tr>\n",
       "      <td>2</td>\n",
       "      <td>gnKjwL_1w79qoiV3IC_xQQ</td>\n",
       "      <td>Musashi Japanese Restaurant</td>\n",
       "      <td>10110 Johnston Rd, Ste 15</td>\n",
       "      <td>Charlotte</td>\n",
       "      <td>NC</td>\n",
       "      <td>28210</td>\n",
       "      <td>35.092564</td>\n",
       "      <td>-80.859132</td>\n",
       "      <td>4.0</td>\n",
       "      <td>170</td>\n",
       "      <td>1</td>\n",
       "      <td>{'GoodForKids': 'True', 'NoiseLevel': \"u'avera...</td>\n",
       "      <td>Sushi Bars, Restaurants, Japanese</td>\n",
       "      <td>{'Monday': '17:30-21:30', 'Wednesday': '17:30-...</td>\n",
       "      <td>sushi bar restaur japanes</td>\n",
       "      <td>japanes</td>\n",
       "    </tr>\n",
       "    <tr>\n",
       "      <td>11</td>\n",
       "      <td>1Dfx3zM-rW4n-31KeC8sJg</td>\n",
       "      <td>Taco Bell</td>\n",
       "      <td>2450 E Indian School Rd</td>\n",
       "      <td>Phoenix</td>\n",
       "      <td>AZ</td>\n",
       "      <td>85016</td>\n",
       "      <td>33.495194</td>\n",
       "      <td>-112.028588</td>\n",
       "      <td>3.0</td>\n",
       "      <td>18</td>\n",
       "      <td>1</td>\n",
       "      <td>{'RestaurantsTakeOut': 'True', 'BusinessParkin...</td>\n",
       "      <td>Restaurants, Breakfast &amp; Brunch, Mexican, Taco...</td>\n",
       "      <td>{'Monday': '7:0-0:0', 'Tuesday': '7:0-0:0', 'W...</td>\n",
       "      <td>restaur breakfast brunch mexican taco texmex f...</td>\n",
       "      <td>breakfast</td>\n",
       "    </tr>\n",
       "    <tr>\n",
       "      <td>13</td>\n",
       "      <td>fweCYi8FmbJXHCqLnwuk8w</td>\n",
       "      <td>Marco's Pizza</td>\n",
       "      <td>5981 Andrews Rd</td>\n",
       "      <td>Mentor-on-the-Lake</td>\n",
       "      <td>OH</td>\n",
       "      <td>44060</td>\n",
       "      <td>41.708520</td>\n",
       "      <td>-81.359556</td>\n",
       "      <td>4.0</td>\n",
       "      <td>16</td>\n",
       "      <td>1</td>\n",
       "      <td>{'RestaurantsPriceRange2': '2', 'BusinessAccep...</td>\n",
       "      <td>Italian, Restaurants, Pizza, Chicken Wings</td>\n",
       "      <td>{'Monday': '10:0-0:0', 'Tuesday': '10:0-0:0', ...</td>\n",
       "      <td>italian restaur pizza chicken wing</td>\n",
       "      <td>italian</td>\n",
       "    </tr>\n",
       "    <tr>\n",
       "      <td>25</td>\n",
       "      <td>tstimHoMcYbkSC4eBA1wEg</td>\n",
       "      <td>Maria's Mexican Restaurant &amp; Bakery</td>\n",
       "      <td>6055 E Lake Mead Blvd</td>\n",
       "      <td>Las Vegas</td>\n",
       "      <td>NV</td>\n",
       "      <td>89156</td>\n",
       "      <td>36.195615</td>\n",
       "      <td>-115.040529</td>\n",
       "      <td>4.5</td>\n",
       "      <td>184</td>\n",
       "      <td>1</td>\n",
       "      <td>{'BikeParking': 'True', 'BusinessParking': \"{'...</td>\n",
       "      <td>Mexican, Restaurants, Patisserie/Cake Shop, Fo...</td>\n",
       "      <td>{'Monday': '11:0-21:0', 'Tuesday': '10:0-21:0'...</td>\n",
       "      <td>mexican restaur patisseriecak shop food bar ni...</td>\n",
       "      <td>mexican</td>\n",
       "    </tr>\n",
       "  </tbody>\n",
       "</table>\n",
       "</div>"
      ],
      "text/plain": [
       "               business_id                                 name  \\\n",
       "1   QXAEGFB4oINsVuTFxEYKFQ           Emerald Chinese Restaurant   \n",
       "2   gnKjwL_1w79qoiV3IC_xQQ          Musashi Japanese Restaurant   \n",
       "11  1Dfx3zM-rW4n-31KeC8sJg                            Taco Bell   \n",
       "13  fweCYi8FmbJXHCqLnwuk8w                        Marco's Pizza   \n",
       "25  tstimHoMcYbkSC4eBA1wEg  Maria's Mexican Restaurant & Bakery   \n",
       "\n",
       "                      address                city state postal_code  \\\n",
       "1        30 Eglinton Avenue W         Mississauga    ON     L5R 3E7   \n",
       "2   10110 Johnston Rd, Ste 15           Charlotte    NC       28210   \n",
       "11    2450 E Indian School Rd             Phoenix    AZ       85016   \n",
       "13            5981 Andrews Rd  Mentor-on-the-Lake    OH       44060   \n",
       "25      6055 E Lake Mead Blvd           Las Vegas    NV       89156   \n",
       "\n",
       "     latitude   longitude  stars  review_count  is_open  \\\n",
       "1   43.605499  -79.652289    2.5           128        1   \n",
       "2   35.092564  -80.859132    4.0           170        1   \n",
       "11  33.495194 -112.028588    3.0            18        1   \n",
       "13  41.708520  -81.359556    4.0            16        1   \n",
       "25  36.195615 -115.040529    4.5           184        1   \n",
       "\n",
       "                                           attributes  \\\n",
       "1   {'RestaurantsReservations': 'True', 'GoodForMe...   \n",
       "2   {'GoodForKids': 'True', 'NoiseLevel': \"u'avera...   \n",
       "11  {'RestaurantsTakeOut': 'True', 'BusinessParkin...   \n",
       "13  {'RestaurantsPriceRange2': '2', 'BusinessAccep...   \n",
       "25  {'BikeParking': 'True', 'BusinessParking': \"{'...   \n",
       "\n",
       "                                           categories  \\\n",
       "1   Specialty Food, Restaurants, Dim Sum, Imported...   \n",
       "2                   Sushi Bars, Restaurants, Japanese   \n",
       "11  Restaurants, Breakfast & Brunch, Mexican, Taco...   \n",
       "13         Italian, Restaurants, Pizza, Chicken Wings   \n",
       "25  Mexican, Restaurants, Patisserie/Cake Shop, Fo...   \n",
       "\n",
       "                                                hours  \\\n",
       "1   {'Monday': '9:0-0:0', 'Tuesday': '9:0-0:0', 'W...   \n",
       "2   {'Monday': '17:30-21:30', 'Wednesday': '17:30-...   \n",
       "11  {'Monday': '7:0-0:0', 'Tuesday': '7:0-0:0', 'W...   \n",
       "13  {'Monday': '10:0-0:0', 'Tuesday': '10:0-0:0', ...   \n",
       "25  {'Monday': '11:0-21:0', 'Tuesday': '10:0-21:0'...   \n",
       "\n",
       "                                              ing_mod    cuisine  \n",
       "1   specialti food restaur dim sum import food foo...     chines  \n",
       "2                           sushi bar restaur japanes    japanes  \n",
       "11  restaur breakfast brunch mexican taco texmex f...  breakfast  \n",
       "13                 italian restaur pizza chicken wing    italian  \n",
       "25  mexican restaur patisseriecak shop food bar ni...    mexican  "
      ]
     },
     "execution_count": 40,
     "metadata": {},
     "output_type": "execute_result"
    }
   ],
   "source": [
    "df.head()"
   ]
  },
  {
   "cell_type": "code",
   "execution_count": 41,
   "metadata": {},
   "outputs": [
    {
     "data": {
      "text/plain": [
       "<matplotlib.axes._subplots.AxesSubplot at 0x1a2c5382d0>"
      ]
     },
     "execution_count": 41,
     "metadata": {},
     "output_type": "execute_result"
    },
    {
     "data": {
      "image/png": "[encoded data removed]",
      "text/plain": [
       "<Figure size 432x288 with 1 Axes>"
      ]
     },
     "metadata": {
      "needs_background": "light"
     },
     "output_type": "display_data"
    }
   ],
   "source": [
    "df['stars'].hist()"
   ]
  },
  {
   "cell_type": "code",
   "execution_count": 87,
   "metadata": {},
   "outputs": [
    {
     "data": {
      "text/plain": [
       "<matplotlib.axes._subplots.AxesSubplot at 0x1a2be0d610>"
      ]
     },
     "execution_count": 87,
     "metadata": {},
     "output_type": "execute_result"
    },
    {
     "data": {
      "image/png": "[encoded data removed]",
      "text/plain": [
       "<Figure size 432x288 with 1 Axes>"
      ]
     },
     "metadata": {
      "needs_background": "light"
     },
     "output_type": "display_data"
    }
   ],
   "source": [
    "df[df['cuisine'] == 'chines']['stars'].hist() "
   ]
  },
  {
   "cell_type": "code",
   "execution_count": 94,
   "metadata": {},
   "outputs": [
    {
     "data": {
      "text/plain": [
       "<matplotlib.axes._subplots.AxesSubplot at 0x1a375f7d90>"
      ]
     },
     "execution_count": 94,
     "metadata": {},
     "output_type": "execute_result"
    },
    {
     "data": {
      "image/png": "[encoded data removed]",
      "text/plain": [
       "<Figure size 432x288 with 1 Axes>"
      ]
     },
     "metadata": {
      "needs_background": "light"
     },
     "output_type": "display_data"
    }
   ],
   "source": [
    "df[df['cuisine'] == 'vegan']['stars'].hist() "
   ]
  },
  {
   "cell_type": "code",
   "execution_count": null,
   "metadata": {},
   "outputs": [],
   "source": []
  },
  {
   "cell_type": "code",
   "execution_count": 90,
   "metadata": {},
   "outputs": [],
   "source": [
    "updated_list = defaultdict(list)\n",
    "for i in zip(df['name'], df['business_id']):\n",
    "    updated_list[i[0]].append(i[1])\n",
    "    \n",
    "with open('business_dictionary.json', 'w') as f:\n",
    "    f.write(json.dumps(updated_list))"
   ]
  },
  {
   "cell_type": "code",
   "execution_count": 39,
   "metadata": {},
   "outputs": [
    {
     "data": {
      "text/html": [
       "<div>\n",
       "<style scoped>\n",
       "    .dataframe tbody tr th:only-of-type {\n",
       "        vertical-align: middle;\n",
       "    }\n",
       "\n",
       "    .dataframe tbody tr th {\n",
       "        vertical-align: top;\n",
       "    }\n",
       "\n",
       "    .dataframe thead th {\n",
       "        text-align: right;\n",
       "    }\n",
       "</style>\n",
       "<table border=\"1\" class=\"dataframe\">\n",
       "  <thead>\n",
       "    <tr style=\"text-align: right;\">\n",
       "      <th></th>\n",
       "      <th>count</th>\n",
       "      <th>mean</th>\n",
       "      <th>std</th>\n",
       "      <th>min</th>\n",
       "      <th>25%</th>\n",
       "      <th>50%</th>\n",
       "      <th>75%</th>\n",
       "      <th>max</th>\n",
       "    </tr>\n",
       "    <tr>\n",
       "      <th>cuisine</th>\n",
       "      <th></th>\n",
       "      <th></th>\n",
       "      <th></th>\n",
       "      <th></th>\n",
       "      <th></th>\n",
       "      <th></th>\n",
       "      <th></th>\n",
       "      <th></th>\n",
       "    </tr>\n",
       "  </thead>\n",
       "  <tbody>\n",
       "    <tr>\n",
       "      <td>afghan</td>\n",
       "      <td>78.0</td>\n",
       "      <td>3.679487</td>\n",
       "      <td>0.552294</td>\n",
       "      <td>2.0</td>\n",
       "      <td>3.50</td>\n",
       "      <td>3.5</td>\n",
       "      <td>4.000</td>\n",
       "      <td>5.0</td>\n",
       "    </tr>\n",
       "    <tr>\n",
       "      <td>african</td>\n",
       "      <td>69.0</td>\n",
       "      <td>3.869565</td>\n",
       "      <td>0.689481</td>\n",
       "      <td>2.0</td>\n",
       "      <td>3.50</td>\n",
       "      <td>4.0</td>\n",
       "      <td>4.500</td>\n",
       "      <td>5.0</td>\n",
       "    </tr>\n",
       "    <tr>\n",
       "      <td>american</td>\n",
       "      <td>6818.0</td>\n",
       "      <td>3.445732</td>\n",
       "      <td>0.697385</td>\n",
       "      <td>1.0</td>\n",
       "      <td>3.00</td>\n",
       "      <td>3.5</td>\n",
       "      <td>4.000</td>\n",
       "      <td>5.0</td>\n",
       "    </tr>\n",
       "    <tr>\n",
       "      <td>arabian</td>\n",
       "      <td>35.0</td>\n",
       "      <td>4.042857</td>\n",
       "      <td>0.622748</td>\n",
       "      <td>2.5</td>\n",
       "      <td>3.50</td>\n",
       "      <td>4.0</td>\n",
       "      <td>4.500</td>\n",
       "      <td>5.0</td>\n",
       "    </tr>\n",
       "    <tr>\n",
       "      <td>argentin</td>\n",
       "      <td>27.0</td>\n",
       "      <td>3.740741</td>\n",
       "      <td>0.625890</td>\n",
       "      <td>2.0</td>\n",
       "      <td>3.50</td>\n",
       "      <td>3.5</td>\n",
       "      <td>4.250</td>\n",
       "      <td>4.5</td>\n",
       "    </tr>\n",
       "    <tr>\n",
       "      <td>asian</td>\n",
       "      <td>886.0</td>\n",
       "      <td>3.617381</td>\n",
       "      <td>0.629584</td>\n",
       "      <td>1.0</td>\n",
       "      <td>3.00</td>\n",
       "      <td>3.5</td>\n",
       "      <td>4.000</td>\n",
       "      <td>5.0</td>\n",
       "    </tr>\n",
       "    <tr>\n",
       "      <td>australian</td>\n",
       "      <td>9.0</td>\n",
       "      <td>3.555556</td>\n",
       "      <td>0.807947</td>\n",
       "      <td>2.0</td>\n",
       "      <td>3.50</td>\n",
       "      <td>4.0</td>\n",
       "      <td>4.000</td>\n",
       "      <td>4.5</td>\n",
       "    </tr>\n",
       "    <tr>\n",
       "      <td>barbequ</td>\n",
       "      <td>960.0</td>\n",
       "      <td>3.598958</td>\n",
       "      <td>0.690014</td>\n",
       "      <td>1.0</td>\n",
       "      <td>3.00</td>\n",
       "      <td>3.5</td>\n",
       "      <td>4.000</td>\n",
       "      <td>5.0</td>\n",
       "    </tr>\n",
       "    <tr>\n",
       "      <td>brazilian</td>\n",
       "      <td>99.0</td>\n",
       "      <td>4.217172</td>\n",
       "      <td>0.848653</td>\n",
       "      <td>1.5</td>\n",
       "      <td>3.75</td>\n",
       "      <td>4.5</td>\n",
       "      <td>5.000</td>\n",
       "      <td>5.0</td>\n",
       "    </tr>\n",
       "    <tr>\n",
       "      <td>breakfast</td>\n",
       "      <td>3036.0</td>\n",
       "      <td>3.603920</td>\n",
       "      <td>0.734525</td>\n",
       "      <td>1.0</td>\n",
       "      <td>3.00</td>\n",
       "      <td>3.5</td>\n",
       "      <td>4.000</td>\n",
       "      <td>5.0</td>\n",
       "    </tr>\n",
       "    <tr>\n",
       "      <td>british</td>\n",
       "      <td>102.0</td>\n",
       "      <td>3.627451</td>\n",
       "      <td>0.595720</td>\n",
       "      <td>2.0</td>\n",
       "      <td>3.50</td>\n",
       "      <td>3.5</td>\n",
       "      <td>4.000</td>\n",
       "      <td>4.5</td>\n",
       "    </tr>\n",
       "    <tr>\n",
       "      <td>burger</td>\n",
       "      <td>3116.0</td>\n",
       "      <td>2.999198</td>\n",
       "      <td>0.921170</td>\n",
       "      <td>1.0</td>\n",
       "      <td>2.50</td>\n",
       "      <td>3.0</td>\n",
       "      <td>3.500</td>\n",
       "      <td>5.0</td>\n",
       "    </tr>\n",
       "    <tr>\n",
       "      <td>cafe</td>\n",
       "      <td>1999.0</td>\n",
       "      <td>3.884942</td>\n",
       "      <td>0.695343</td>\n",
       "      <td>1.5</td>\n",
       "      <td>3.50</td>\n",
       "      <td>4.0</td>\n",
       "      <td>4.500</td>\n",
       "      <td>5.0</td>\n",
       "    </tr>\n",
       "    <tr>\n",
       "      <td>cajuncreol</td>\n",
       "      <td>176.0</td>\n",
       "      <td>3.599432</td>\n",
       "      <td>0.725101</td>\n",
       "      <td>1.0</td>\n",
       "      <td>3.50</td>\n",
       "      <td>3.5</td>\n",
       "      <td>4.000</td>\n",
       "      <td>5.0</td>\n",
       "    </tr>\n",
       "    <tr>\n",
       "      <td>caribbean</td>\n",
       "      <td>370.0</td>\n",
       "      <td>3.841892</td>\n",
       "      <td>0.621434</td>\n",
       "      <td>1.5</td>\n",
       "      <td>3.50</td>\n",
       "      <td>4.0</td>\n",
       "      <td>4.500</td>\n",
       "      <td>5.0</td>\n",
       "    </tr>\n",
       "    <tr>\n",
       "      <td>chines</td>\n",
       "      <td>2643.0</td>\n",
       "      <td>3.450057</td>\n",
       "      <td>0.716389</td>\n",
       "      <td>1.0</td>\n",
       "      <td>3.00</td>\n",
       "      <td>3.5</td>\n",
       "      <td>4.000</td>\n",
       "      <td>5.0</td>\n",
       "    </tr>\n",
       "    <tr>\n",
       "      <td>cuban</td>\n",
       "      <td>45.0</td>\n",
       "      <td>3.777778</td>\n",
       "      <td>0.559581</td>\n",
       "      <td>2.0</td>\n",
       "      <td>3.50</td>\n",
       "      <td>4.0</td>\n",
       "      <td>4.000</td>\n",
       "      <td>5.0</td>\n",
       "    </tr>\n",
       "    <tr>\n",
       "      <td>ethiopian</td>\n",
       "      <td>48.0</td>\n",
       "      <td>4.062500</td>\n",
       "      <td>0.511828</td>\n",
       "      <td>2.5</td>\n",
       "      <td>4.00</td>\n",
       "      <td>4.0</td>\n",
       "      <td>4.500</td>\n",
       "      <td>5.0</td>\n",
       "    </tr>\n",
       "    <tr>\n",
       "      <td>french</td>\n",
       "      <td>561.0</td>\n",
       "      <td>3.867201</td>\n",
       "      <td>0.582262</td>\n",
       "      <td>2.0</td>\n",
       "      <td>3.50</td>\n",
       "      <td>4.0</td>\n",
       "      <td>4.500</td>\n",
       "      <td>5.0</td>\n",
       "    </tr>\n",
       "    <tr>\n",
       "      <td>german</td>\n",
       "      <td>78.0</td>\n",
       "      <td>3.929487</td>\n",
       "      <td>0.612236</td>\n",
       "      <td>2.0</td>\n",
       "      <td>3.50</td>\n",
       "      <td>4.0</td>\n",
       "      <td>4.500</td>\n",
       "      <td>5.0</td>\n",
       "    </tr>\n",
       "    <tr>\n",
       "      <td>hawaiian</td>\n",
       "      <td>164.0</td>\n",
       "      <td>3.926829</td>\n",
       "      <td>0.612357</td>\n",
       "      <td>2.0</td>\n",
       "      <td>3.50</td>\n",
       "      <td>4.0</td>\n",
       "      <td>4.500</td>\n",
       "      <td>5.0</td>\n",
       "    </tr>\n",
       "    <tr>\n",
       "      <td>indian</td>\n",
       "      <td>937.0</td>\n",
       "      <td>3.628068</td>\n",
       "      <td>0.633495</td>\n",
       "      <td>1.5</td>\n",
       "      <td>3.50</td>\n",
       "      <td>3.5</td>\n",
       "      <td>4.000</td>\n",
       "      <td>5.0</td>\n",
       "    </tr>\n",
       "    <tr>\n",
       "      <td>indonesian</td>\n",
       "      <td>16.0</td>\n",
       "      <td>3.687500</td>\n",
       "      <td>0.655108</td>\n",
       "      <td>2.0</td>\n",
       "      <td>3.50</td>\n",
       "      <td>4.0</td>\n",
       "      <td>4.000</td>\n",
       "      <td>5.0</td>\n",
       "    </tr>\n",
       "    <tr>\n",
       "      <td>italian</td>\n",
       "      <td>3285.0</td>\n",
       "      <td>3.552207</td>\n",
       "      <td>0.724505</td>\n",
       "      <td>1.0</td>\n",
       "      <td>3.00</td>\n",
       "      <td>3.5</td>\n",
       "      <td>4.000</td>\n",
       "      <td>5.0</td>\n",
       "    </tr>\n",
       "    <tr>\n",
       "      <td>japanes</td>\n",
       "      <td>1686.0</td>\n",
       "      <td>3.635231</td>\n",
       "      <td>0.613724</td>\n",
       "      <td>1.0</td>\n",
       "      <td>3.50</td>\n",
       "      <td>3.5</td>\n",
       "      <td>4.000</td>\n",
       "      <td>5.0</td>\n",
       "    </tr>\n",
       "    <tr>\n",
       "      <td>kebab</td>\n",
       "      <td>27.0</td>\n",
       "      <td>3.962963</td>\n",
       "      <td>0.758616</td>\n",
       "      <td>2.0</td>\n",
       "      <td>3.75</td>\n",
       "      <td>4.0</td>\n",
       "      <td>4.500</td>\n",
       "      <td>5.0</td>\n",
       "    </tr>\n",
       "    <tr>\n",
       "      <td>korean</td>\n",
       "      <td>450.0</td>\n",
       "      <td>3.768889</td>\n",
       "      <td>0.577924</td>\n",
       "      <td>2.0</td>\n",
       "      <td>3.50</td>\n",
       "      <td>4.0</td>\n",
       "      <td>4.000</td>\n",
       "      <td>5.0</td>\n",
       "    </tr>\n",
       "    <tr>\n",
       "      <td>lebanes</td>\n",
       "      <td>108.0</td>\n",
       "      <td>3.726852</td>\n",
       "      <td>0.771527</td>\n",
       "      <td>2.0</td>\n",
       "      <td>3.00</td>\n",
       "      <td>4.0</td>\n",
       "      <td>4.500</td>\n",
       "      <td>5.0</td>\n",
       "    </tr>\n",
       "    <tr>\n",
       "      <td>malaysian</td>\n",
       "      <td>27.0</td>\n",
       "      <td>3.648148</td>\n",
       "      <td>0.496426</td>\n",
       "      <td>2.5</td>\n",
       "      <td>3.50</td>\n",
       "      <td>4.0</td>\n",
       "      <td>4.000</td>\n",
       "      <td>4.5</td>\n",
       "    </tr>\n",
       "    <tr>\n",
       "      <td>mediterranean</td>\n",
       "      <td>1068.0</td>\n",
       "      <td>3.778090</td>\n",
       "      <td>0.665038</td>\n",
       "      <td>1.0</td>\n",
       "      <td>3.50</td>\n",
       "      <td>4.0</td>\n",
       "      <td>4.125</td>\n",
       "      <td>5.0</td>\n",
       "    </tr>\n",
       "    <tr>\n",
       "      <td>mexican</td>\n",
       "      <td>3087.0</td>\n",
       "      <td>3.421121</td>\n",
       "      <td>0.770074</td>\n",
       "      <td>1.0</td>\n",
       "      <td>3.00</td>\n",
       "      <td>3.5</td>\n",
       "      <td>4.000</td>\n",
       "      <td>5.0</td>\n",
       "    </tr>\n",
       "    <tr>\n",
       "      <td>moroccan</td>\n",
       "      <td>33.0</td>\n",
       "      <td>3.939394</td>\n",
       "      <td>0.621962</td>\n",
       "      <td>2.5</td>\n",
       "      <td>3.50</td>\n",
       "      <td>4.0</td>\n",
       "      <td>4.500</td>\n",
       "      <td>5.0</td>\n",
       "    </tr>\n",
       "    <tr>\n",
       "      <td>portugues</td>\n",
       "      <td>139.0</td>\n",
       "      <td>3.748201</td>\n",
       "      <td>0.562648</td>\n",
       "      <td>2.5</td>\n",
       "      <td>3.50</td>\n",
       "      <td>4.0</td>\n",
       "      <td>4.000</td>\n",
       "      <td>5.0</td>\n",
       "    </tr>\n",
       "    <tr>\n",
       "      <td>russian</td>\n",
       "      <td>37.0</td>\n",
       "      <td>3.986486</td>\n",
       "      <td>0.558849</td>\n",
       "      <td>2.5</td>\n",
       "      <td>3.50</td>\n",
       "      <td>4.0</td>\n",
       "      <td>4.500</td>\n",
       "      <td>5.0</td>\n",
       "    </tr>\n",
       "    <tr>\n",
       "      <td>singaporean</td>\n",
       "      <td>12.0</td>\n",
       "      <td>3.541667</td>\n",
       "      <td>0.541812</td>\n",
       "      <td>3.0</td>\n",
       "      <td>3.00</td>\n",
       "      <td>3.5</td>\n",
       "      <td>4.000</td>\n",
       "      <td>4.5</td>\n",
       "    </tr>\n",
       "    <tr>\n",
       "      <td>thai</td>\n",
       "      <td>792.0</td>\n",
       "      <td>3.709596</td>\n",
       "      <td>0.626235</td>\n",
       "      <td>1.0</td>\n",
       "      <td>3.50</td>\n",
       "      <td>4.0</td>\n",
       "      <td>4.000</td>\n",
       "      <td>5.0</td>\n",
       "    </tr>\n",
       "    <tr>\n",
       "      <td>turkish</td>\n",
       "      <td>68.0</td>\n",
       "      <td>3.882353</td>\n",
       "      <td>0.573791</td>\n",
       "      <td>2.5</td>\n",
       "      <td>3.50</td>\n",
       "      <td>4.0</td>\n",
       "      <td>4.500</td>\n",
       "      <td>4.5</td>\n",
       "    </tr>\n",
       "    <tr>\n",
       "      <td>vegan</td>\n",
       "      <td>412.0</td>\n",
       "      <td>4.050971</td>\n",
       "      <td>0.550226</td>\n",
       "      <td>1.0</td>\n",
       "      <td>4.00</td>\n",
       "      <td>4.0</td>\n",
       "      <td>4.500</td>\n",
       "      <td>5.0</td>\n",
       "    </tr>\n",
       "    <tr>\n",
       "      <td>vegetarian</td>\n",
       "      <td>481.0</td>\n",
       "      <td>3.871102</td>\n",
       "      <td>0.571016</td>\n",
       "      <td>1.5</td>\n",
       "      <td>3.50</td>\n",
       "      <td>4.0</td>\n",
       "      <td>4.500</td>\n",
       "      <td>5.0</td>\n",
       "    </tr>\n",
       "    <tr>\n",
       "      <td>vietnames</td>\n",
       "      <td>671.0</td>\n",
       "      <td>3.695976</td>\n",
       "      <td>0.555809</td>\n",
       "      <td>1.5</td>\n",
       "      <td>3.50</td>\n",
       "      <td>4.0</td>\n",
       "      <td>4.000</td>\n",
       "      <td>5.0</td>\n",
       "    </tr>\n",
       "  </tbody>\n",
       "</table>\n",
       "</div>"
      ],
      "text/plain": [
       "                count      mean       std  min   25%  50%    75%  max\n",
       "cuisine                                                              \n",
       "afghan           78.0  3.679487  0.552294  2.0  3.50  3.5  4.000  5.0\n",
       "african          69.0  3.869565  0.689481  2.0  3.50  4.0  4.500  5.0\n",
       "american       6818.0  3.445732  0.697385  1.0  3.00  3.5  4.000  5.0\n",
       "arabian          35.0  4.042857  0.622748  2.5  3.50  4.0  4.500  5.0\n",
       "argentin         27.0  3.740741  0.625890  2.0  3.50  3.5  4.250  4.5\n",
       "asian           886.0  3.617381  0.629584  1.0  3.00  3.5  4.000  5.0\n",
       "australian        9.0  3.555556  0.807947  2.0  3.50  4.0  4.000  4.5\n",
       "barbequ         960.0  3.598958  0.690014  1.0  3.00  3.5  4.000  5.0\n",
       "brazilian        99.0  4.217172  0.848653  1.5  3.75  4.5  5.000  5.0\n",
       "breakfast      3036.0  3.603920  0.734525  1.0  3.00  3.5  4.000  5.0\n",
       "british         102.0  3.627451  0.595720  2.0  3.50  3.5  4.000  4.5\n",
       "burger         3116.0  2.999198  0.921170  1.0  2.50  3.0  3.500  5.0\n",
       "cafe           1999.0  3.884942  0.695343  1.5  3.50  4.0  4.500  5.0\n",
       "cajuncreol      176.0  3.599432  0.725101  1.0  3.50  3.5  4.000  5.0\n",
       "caribbean       370.0  3.841892  0.621434  1.5  3.50  4.0  4.500  5.0\n",
       "chines         2643.0  3.450057  0.716389  1.0  3.00  3.5  4.000  5.0\n",
       "cuban            45.0  3.777778  0.559581  2.0  3.50  4.0  4.000  5.0\n",
       "ethiopian        48.0  4.062500  0.511828  2.5  4.00  4.0  4.500  5.0\n",
       "french          561.0  3.867201  0.582262  2.0  3.50  4.0  4.500  5.0\n",
       "german           78.0  3.929487  0.612236  2.0  3.50  4.0  4.500  5.0\n",
       "hawaiian        164.0  3.926829  0.612357  2.0  3.50  4.0  4.500  5.0\n",
       "indian          937.0  3.628068  0.633495  1.5  3.50  3.5  4.000  5.0\n",
       "indonesian       16.0  3.687500  0.655108  2.0  3.50  4.0  4.000  5.0\n",
       "italian        3285.0  3.552207  0.724505  1.0  3.00  3.5  4.000  5.0\n",
       "japanes        1686.0  3.635231  0.613724  1.0  3.50  3.5  4.000  5.0\n",
       "kebab            27.0  3.962963  0.758616  2.0  3.75  4.0  4.500  5.0\n",
       "korean          450.0  3.768889  0.577924  2.0  3.50  4.0  4.000  5.0\n",
       "lebanes         108.0  3.726852  0.771527  2.0  3.00  4.0  4.500  5.0\n",
       "malaysian        27.0  3.648148  0.496426  2.5  3.50  4.0  4.000  4.5\n",
       "mediterranean  1068.0  3.778090  0.665038  1.0  3.50  4.0  4.125  5.0\n",
       "mexican        3087.0  3.421121  0.770074  1.0  3.00  3.5  4.000  5.0\n",
       "moroccan         33.0  3.939394  0.621962  2.5  3.50  4.0  4.500  5.0\n",
       "portugues       139.0  3.748201  0.562648  2.5  3.50  4.0  4.000  5.0\n",
       "russian          37.0  3.986486  0.558849  2.5  3.50  4.0  4.500  5.0\n",
       "singaporean      12.0  3.541667  0.541812  3.0  3.00  3.5  4.000  4.5\n",
       "thai            792.0  3.709596  0.626235  1.0  3.50  4.0  4.000  5.0\n",
       "turkish          68.0  3.882353  0.573791  2.5  3.50  4.0  4.500  4.5\n",
       "vegan           412.0  4.050971  0.550226  1.0  4.00  4.0  4.500  5.0\n",
       "vegetarian      481.0  3.871102  0.571016  1.5  3.50  4.0  4.500  5.0\n",
       "vietnames       671.0  3.695976  0.555809  1.5  3.50  4.0  4.000  5.0"
      ]
     },
     "execution_count": 39,
     "metadata": {},
     "output_type": "execute_result"
    }
   ],
   "source": [
    "df.groupby('cuisine').describe()['stars']"
   ]
  },
  {
   "cell_type": "code",
   "execution_count": 40,
   "metadata": {},
   "outputs": [
    {
     "data": {
      "text/plain": [
       "34655"
      ]
     },
     "execution_count": 40,
     "metadata": {},
     "output_type": "execute_result"
    }
   ],
   "source": [
    "len(df)"
   ]
  },
  {
   "cell_type": "code",
   "execution_count": 41,
   "metadata": {},
   "outputs": [],
   "source": [
    "#df.groupby('cuisine').describe()['stars'].to_csv('csv/cuisine_summary.csv')"
   ]
  },
  {
   "cell_type": "code",
   "execution_count": 53,
   "metadata": {},
   "outputs": [],
   "source": [
    "df.groupby(['city', 'cuisine']).describe()['stars']"
   ]
  },
  {
   "cell_type": "code",
   "execution_count": 51,
   "metadata": {},
   "outputs": [],
   "source": [
    "df['city'] = df['city'].apply(lambda x:x.lower())"
   ]
  },
  {
   "cell_type": "code",
   "execution_count": 54,
   "metadata": {},
   "outputs": [],
   "source": [
    "def count_items(x):\n",
    "    from collections import defaultdict\n",
    "    mydd = defaultdict(int)\n",
    "    \n",
    "    for i in x:\n",
    "        mydd[i] += 1\n",
    "        \n",
    "    return mydd"
   ]
  },
  {
   "cell_type": "code",
   "execution_count": 55,
   "metadata": {},
   "outputs": [],
   "source": [
    "state_dict = count_items(df['state'])"
   ]
  },
  {
   "cell_type": "code",
   "execution_count": 57,
   "metadata": {},
   "outputs": [],
   "source": [
    "state_list = []\n",
    "for key, val in state_dict.items():\n",
    "    if val > 10:\n",
    "        state_list.append(key)"
   ]
  },
  {
   "cell_type": "code",
   "execution_count": 58,
   "metadata": {},
   "outputs": [
    {
     "data": {
      "text/plain": [
       "['ON', 'NC', 'AZ', 'OH', 'NV', 'PA', 'AB', 'QC', 'WI', 'IL', 'SC']"
      ]
     },
     "execution_count": 58,
     "metadata": {},
     "output_type": "execute_result"
    }
   ],
   "source": [
    "state_list"
   ]
  },
  {
   "cell_type": "code",
   "execution_count": 62,
   "metadata": {},
   "outputs": [
    {
     "data": {
      "text/plain": [
       "toronto            4673\n",
       "las vegas          3879\n",
       "phoenix            2406\n",
       "montréal           2218\n",
       "charlotte          1642\n",
       "calgary            1608\n",
       "pittsburgh         1419\n",
       "scottsdale         1061\n",
       "mississauga         843\n",
       "cleveland           801\n",
       "madison             742\n",
       "mesa                719\n",
       "tempe               629\n",
       "chandler            541\n",
       "henderson           524\n",
       "markham             473\n",
       "glendale            422\n",
       "gilbert             372\n",
       "brampton            321\n",
       "richmond hill       313\n",
       "vaughan             297\n",
       "scarborough         258\n",
       "champaign           237\n",
       "peoria              236\n",
       "north york          219\n",
       "concord             198\n",
       "north las vegas     198\n",
       "etobicoke           158\n",
       "laval               153\n",
       "surprise            145\n",
       "matthews            125\n",
       "akron               114\n",
       "lakewood            113\n",
       "mentor              112\n",
       "oakville            110\n",
       "newmarket           110\n",
       "goodyear            110\n",
       "gastonia            108\n",
       "avondale            105\n",
       "aurora              101\n",
       "thornhill           100\n",
       "huntersville         95\n",
       "fort mill            95\n",
       "whitby               92\n",
       "ajax                 92\n",
       "pickering            89\n",
       "cuyahoga falls       80\n",
       "westlake             77\n",
       "strongsville         72\n",
       "rock hill            69\n",
       "Name: city, dtype: int64"
      ]
     },
     "execution_count": 62,
     "metadata": {},
     "output_type": "execute_result"
    }
   ],
   "source": [
    "df['city'].value_counts()[:50]"
   ]
  },
  {
   "cell_type": "code",
   "execution_count": 7,
   "metadata": {},
   "outputs": [],
   "source": [
    "df = pd.read_csv('csv/processed_business.csv')"
   ]
  },
  {
   "cell_type": "code",
   "execution_count": 8,
   "metadata": {},
   "outputs": [
    {
     "data": {
      "text/plain": [
       "1    26189\n",
       "0     8466\n",
       "Name: is_open, dtype: int64"
      ]
     },
     "execution_count": 8,
     "metadata": {},
     "output_type": "execute_result"
    }
   ],
   "source": [
    "df['is_open'].value_counts()"
   ]
  },
  {
   "cell_type": "code",
   "execution_count": 9,
   "metadata": {},
   "outputs": [
    {
     "data": {
      "text/plain": [
       "0.24429375270523734"
      ]
     },
     "execution_count": 9,
     "metadata": {},
     "output_type": "execute_result"
    }
   ],
   "source": [
    "8466/(26189+8466)"
   ]
  },
  {
   "cell_type": "code",
   "execution_count": 10,
   "metadata": {},
   "outputs": [
    {
     "data": {
      "text/plain": [
       "'{\\'RestaurantsReservations\\': \\'True\\', \\'GoodForMeal\\': \"{\\'dessert\\': False, \\'latenight\\': False, \\'lunch\\': True, \\'dinner\\': True, \\'brunch\\': False, \\'breakfast\\': False}\", \\'BusinessParking\\': \"{\\'garage\\': False, \\'street\\': False, \\'validated\\': False, \\'lot\\': True, \\'valet\\': False}\", \\'Caters\\': \\'True\\', \\'NoiseLevel\\': \"u\\'loud\\'\", \\'RestaurantsTableService\\': \\'True\\', \\'RestaurantsTakeOut\\': \\'True\\', \\'RestaurantsPriceRange2\\': \\'2\\', \\'OutdoorSeating\\': \\'False\\', \\'BikeParking\\': \\'False\\', \\'Ambience\\': \"{\\'romantic\\': False, \\'intimate\\': False, \\'classy\\': False, \\'hipster\\': False, \\'divey\\': False, \\'touristy\\': False, \\'trendy\\': False, \\'upscale\\': False, \\'casual\\': True}\", \\'HasTV\\': \\'False\\', \\'WiFi\\': \"u\\'no\\'\", \\'GoodForKids\\': \\'True\\', \\'Alcohol\\': \"u\\'full_bar\\'\", \\'RestaurantsAttire\\': \"u\\'casual\\'\", \\'RestaurantsGoodForGroups\\': \\'True\\', \\'RestaurantsDelivery\\': \\'False\\'}'"
      ]
     },
     "execution_count": 10,
     "metadata": {},
     "output_type": "execute_result"
    }
   ],
   "source": [
    "df['attributes'].iloc[0]"
   ]
  },
  {
   "cell_type": "code",
   "execution_count": 11,
   "metadata": {},
   "outputs": [
    {
     "data": {
      "text/plain": [
       "0        {'RestaurantsReservations': 'True', 'GoodForMe...\n",
       "1        {'GoodForKids': 'True', 'NoiseLevel': \"u'avera...\n",
       "2        {'RestaurantsTakeOut': 'True', 'BusinessParkin...\n",
       "3        {'RestaurantsPriceRange2': '2', 'BusinessAccep...\n",
       "4        {'BikeParking': 'True', 'BusinessParking': \"{'...\n",
       "                               ...                        \n",
       "34650    {'RestaurantsPriceRange2': '2', 'HasTV': 'Fals...\n",
       "34651    {'BikeParking': 'True', 'RestaurantsAttire': \"...\n",
       "34652    {'GoodForKids': 'True', 'WiFi': \"u'no'\", 'Rest...\n",
       "34653    {'BusinessAcceptsCreditCards': 'True', 'GoodFo...\n",
       "34654    {'OutdoorSeating': 'True', 'BikeParking': 'Tru...\n",
       "Name: attributes, Length: 34655, dtype: object"
      ]
     },
     "execution_count": 11,
     "metadata": {},
     "output_type": "execute_result"
    }
   ],
   "source": [
    "df['attributes']"
   ]
  },
  {
   "cell_type": "code",
   "execution_count": 14,
   "metadata": {},
   "outputs": [
    {
     "name": "stdout",
     "output_type": "stream",
     "text": [
      "{'RestaurantsReservations': 'True', 'GoodForMeal': \"{'dessert': False, 'latenight': False, 'lunch': True, 'dinner': True, 'brunch': False, 'breakfast': False}\", 'BusinessParking': \"{'garage': False, 'street': False, 'validated': False, 'lot': True, 'valet': False}\", 'Caters': 'True', 'NoiseLevel': \"u'loud'\", 'RestaurantsTableService': 'True', 'RestaurantsTakeOut': 'True', 'RestaurantsPriceRange2': '2', 'OutdoorSeating': 'False', 'BikeParking': 'False', 'Ambience': \"{'romantic': False, 'intimate': False, 'classy': False, 'hipster': False, 'divey': False, 'touristy': False, 'trendy': False, 'upscale': False, 'casual': True}\", 'HasTV': 'False', 'WiFi': \"u'no'\", 'GoodForKids': 'True', 'Alcohol': \"u'full_bar'\", 'RestaurantsAttire': \"u'casual'\", 'RestaurantsGoodForGroups': 'True', 'RestaurantsDelivery': 'False'}\n"
     ]
    }
   ],
   "source": [
    "print(df['attributes'].iloc[0])"
   ]
  },
  {
   "cell_type": "code",
   "execution_count": 15,
   "metadata": {},
   "outputs": [],
   "source": [
    "import ast"
   ]
  },
  {
   "cell_type": "code",
   "execution_count": 19,
   "metadata": {},
   "outputs": [
    {
     "data": {
      "text/plain": [
       "0        {'RestaurantsReservations': 'True', 'GoodForMe...\n",
       "1        {'GoodForKids': 'True', 'NoiseLevel': 'u'avera...\n",
       "2        {'RestaurantsTakeOut': 'True', 'BusinessParkin...\n",
       "3        {'RestaurantsPriceRange2': '2', 'BusinessAccep...\n",
       "4        {'BikeParking': 'True', 'BusinessParking': '{'...\n",
       "                               ...                        \n",
       "34650    {'RestaurantsPriceRange2': '2', 'HasTV': 'Fals...\n",
       "34651    {'BikeParking': 'True', 'RestaurantsAttire': '...\n",
       "34652    {'GoodForKids': 'True', 'WiFi': 'u'no'', 'Rest...\n",
       "34653    {'BusinessAcceptsCreditCards': 'True', 'GoodFo...\n",
       "34654    {'OutdoorSeating': 'True', 'BikeParking': 'Tru...\n",
       "Name: attributes, Length: 34655, dtype: object"
      ]
     },
     "execution_count": 19,
     "metadata": {},
     "output_type": "execute_result"
    }
   ],
   "source": [
    "df['attributes'].apply(ast.literal_eval)"
   ]
  },
  {
   "cell_type": "code",
   "execution_count": 20,
   "metadata": {},
   "outputs": [],
   "source": [
    "df['attributes'] = df['attributes'].apply(ast.literal_eval)"
   ]
  },
  {
   "cell_type": "code",
   "execution_count": 21,
   "metadata": {},
   "outputs": [
    {
     "data": {
      "text/plain": [
       "{'RestaurantsReservations': 'True',\n",
       " 'GoodForMeal': \"{'dessert': False, 'latenight': False, 'lunch': True, 'dinner': True, 'brunch': False, 'breakfast': False}\",\n",
       " 'BusinessParking': \"{'garage': False, 'street': False, 'validated': False, 'lot': True, 'valet': False}\",\n",
       " 'Caters': 'True',\n",
       " 'NoiseLevel': \"u'loud'\",\n",
       " 'RestaurantsTableService': 'True',\n",
       " 'RestaurantsTakeOut': 'True',\n",
       " 'RestaurantsPriceRange2': '2',\n",
       " 'OutdoorSeating': 'False',\n",
       " 'BikeParking': 'False',\n",
       " 'Ambience': \"{'romantic': False, 'intimate': False, 'classy': False, 'hipster': False, 'divey': False, 'touristy': False, 'trendy': False, 'upscale': False, 'casual': True}\",\n",
       " 'HasTV': 'False',\n",
       " 'WiFi': \"u'no'\",\n",
       " 'GoodForKids': 'True',\n",
       " 'Alcohol': \"u'full_bar'\",\n",
       " 'RestaurantsAttire': \"u'casual'\",\n",
       " 'RestaurantsGoodForGroups': 'True',\n",
       " 'RestaurantsDelivery': 'False'}"
      ]
     },
     "execution_count": 21,
     "metadata": {},
     "output_type": "execute_result"
    }
   ],
   "source": [
    "df['attributes'].iloc[0]"
   ]
  },
  {
   "cell_type": "code",
   "execution_count": 26,
   "metadata": {},
   "outputs": [],
   "source": [
    "attributes_dict = defaultdict(int)\n",
    "\n",
    "for i in df['attributes']:\n",
    "    for j in i.keys():\n",
    "        attributes_dict[j] += 1"
   ]
  },
  {
   "cell_type": "code",
   "execution_count": 29,
   "metadata": {},
   "outputs": [
    {
     "data": {
      "text/plain": [
       "[(32613, 'RestaurantsTakeOut'),\n",
       " (32201, 'RestaurantsPriceRange2'),\n",
       " (32016, 'RestaurantsReservations'),\n",
       " (31928, 'RestaurantsGoodForGroups'),\n",
       " (31857, 'GoodForKids'),\n",
       " (31603, 'RestaurantsDelivery'),\n",
       " (30874, 'OutdoorSeating'),\n",
       " (30644, 'RestaurantsAttire'),\n",
       " (30426, 'BusinessParking'),\n",
       " (29794, 'Ambience'),\n",
       " (29714, 'HasTV'),\n",
       " (28977, 'Alcohol'),\n",
       " (28014, 'WiFi'),\n",
       " (27438, 'NoiseLevel'),\n",
       " (26886, 'BikeParking'),\n",
       " (24366, 'Caters'),\n",
       " (22073, 'GoodForMeal'),\n",
       " (21468, 'BusinessAcceptsCreditCards'),\n",
       " (13047, 'RestaurantsTableService'),\n",
       " (6543, 'WheelchairAccessible'),\n",
       " (3477, 'DogsAllowed'),\n",
       " (3098, 'Music'),\n",
       " (3082, 'HappyHour'),\n",
       " (2833, 'GoodForDancing'),\n",
       " (2748, 'BusinessAcceptsBitcoin'),\n",
       " (2427, 'DriveThru'),\n",
       " (2238, 'BestNights'),\n",
       " (2155, 'CoatCheck'),\n",
       " (2007, 'Smoking'),\n",
       " (1010, 'BYOBCorkage'),\n",
       " (669, 'ByAppointmentOnly'),\n",
       " (468, 'Corkage'),\n",
       " (115, 'AcceptsInsurance'),\n",
       " (44, 'DietaryRestrictions'),\n",
       " (26, 'BYOB'),\n",
       " (25, 'AgesAllowed'),\n",
       " (10, 'RestaurantsCounterService'),\n",
       " (5, 'Open24Hours'),\n",
       " (3, 'HairSpecializesIn')]"
      ]
     },
     "execution_count": 29,
     "metadata": {},
     "output_type": "execute_result"
    }
   ],
   "source": [
    "sorted([(val, key) for key, val in attributes_dict.items()], reverse = True)"
   ]
  },
  {
   "cell_type": "code",
   "execution_count": 45,
   "metadata": {},
   "outputs": [],
   "source": [
    "# RestaurantsTakeOut : True/False\n",
    "# RestaurantsPriceRange2 : {'1', '2', '3', '4', 'None'}\n",
    "# RestaurantsReservations : {'False', 'None', 'True'}\n",
    "# RestaurantsGoodForGroups : {'False', 'None', 'True'}\n",
    "# GoodForKids : {'False', 'None', 'True'}\n",
    "# RestaurantsDelivery: {'False', 'None', 'True'}\n",
    "# OutdoorSeating :\n",
    "# RestaurantsAttire : {\"'casual'\", \"'dressy'\",\"'formal'\", 'None', \"u'casual'\", \"u'dressy'\", \"u'formal'\"}\n",
    "\n",
    "\n",
    "\n",
    "range_val = set()\n",
    "for i in df['attributes']:\n",
    "    for j in i.keys():\n",
    "        if j == 'RestaurantsAttire':\n",
    "            range_val.add(i['RestaurantsAttire'])"
   ]
  },
  {
   "cell_type": "code",
   "execution_count": 46,
   "metadata": {},
   "outputs": [
    {
     "data": {
      "text/plain": [
       "{\"'casual'\",\n",
       " \"'dressy'\",\n",
       " \"'formal'\",\n",
       " 'None',\n",
       " \"u'casual'\",\n",
       " \"u'dressy'\",\n",
       " \"u'formal'\"}"
      ]
     },
     "execution_count": 46,
     "metadata": {},
     "output_type": "execute_result"
    }
   ],
   "source": [
    "range_val"
   ]
  },
  {
   "cell_type": "code",
   "execution_count": 47,
   "metadata": {},
   "outputs": [],
   "source": [
    "att_list = {}\n",
    "for key in attributes_dict.keys():\n",
    "    range_val = set()\n",
    "    for i in df['attributes']:\n",
    "        for j in i.keys():\n",
    "            if j == key:\n",
    "                range_val.add(i[key])\n",
    "                \n",
    "    att_list[key] = range_val\n",
    "    "
   ]
  },
  {
   "cell_type": "code",
   "execution_count": 49,
   "metadata": {},
   "outputs": [
    {
     "data": {
      "text/plain": [
       "dict_keys(['RestaurantsReservations', 'GoodForMeal', 'BusinessParking', 'Caters', 'NoiseLevel', 'RestaurantsTableService', 'RestaurantsTakeOut', 'RestaurantsPriceRange2', 'OutdoorSeating', 'BikeParking', 'Ambience', 'HasTV', 'WiFi', 'GoodForKids', 'Alcohol', 'RestaurantsAttire', 'RestaurantsGoodForGroups', 'RestaurantsDelivery', 'BusinessAcceptsCreditCards', 'HappyHour', 'Smoking', 'WheelchairAccessible', 'DogsAllowed', 'CoatCheck', 'Music', 'BestNights', 'BusinessAcceptsBitcoin', 'GoodForDancing', 'DriveThru', 'ByAppointmentOnly', 'AcceptsInsurance', 'Corkage', 'BYOBCorkage', 'BYOB', 'AgesAllowed', 'DietaryRestrictions', 'HairSpecializesIn', 'RestaurantsCounterService', 'Open24Hours'])"
      ]
     },
     "execution_count": 49,
     "metadata": {},
     "output_type": "execute_result"
    }
   ],
   "source": [
    "att_list.keys()"
   ]
  },
  {
   "cell_type": "code",
   "execution_count": 54,
   "metadata": {},
   "outputs": [
    {
     "data": {
      "text/plain": [
       "{\"'beer_and_wine'\",\n",
       " \"'full_bar'\",\n",
       " \"'none'\",\n",
       " 'None',\n",
       " \"u'beer_and_wine'\",\n",
       " \"u'full_bar'\",\n",
       " \"u'none'\"}"
      ]
     },
     "execution_count": 54,
     "metadata": {},
     "output_type": "execute_result"
    }
   ],
   "source": [
    "att_list['Alcohol']"
   ]
  },
  {
   "cell_type": "code",
   "execution_count": 1,
   "metadata": {},
   "outputs": [
    {
     "ename": "NameError",
     "evalue": "name 'att_list' is not defined",
     "output_type": "error",
     "traceback": [
      "\u001b[0;31m---------------------------------------------------------------------------\u001b[0m",
      "\u001b[0;31mNameError\u001b[0m                                 Traceback (most recent call last)",
      "\u001b[0;32m<ipython-input-1-6d1245767daa>\u001b[0m in \u001b[0;36m<module>\u001b[0;34m\u001b[0m\n\u001b[0;32m----> 1\u001b[0;31m \u001b[0matt_list\u001b[0m\u001b[0;34m\u001b[0m\u001b[0;34m\u001b[0m\u001b[0m\n\u001b[0m",
      "\u001b[0;31mNameError\u001b[0m: name 'att_list' is not defined"
     ]
    }
   ],
   "source": [
    "att_list"
   ]
  },
  {
   "cell_type": "code",
   "execution_count": null,
   "metadata": {},
   "outputs": [],
   "source": []
  }
 ],
 "metadata": {
  "kernelspec": {
   "display_name": "Python 3",
   "language": "python",
   "name": "python3"
  },
  "language_info": {
   "codemirror_mode": {
    "name": "ipython",
    "version": 3
   },
   "file_extension": ".py",
   "mimetype": "text/x-python",
   "name": "python",
   "nbconvert_exporter": "python",
   "pygments_lexer": "ipython3",
   "version": "3.7.5"
  }
 },
 "nbformat": 4,
 "nbformat_minor": 4
}
