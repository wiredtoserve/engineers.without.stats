{
 "cells": [
  {
   "cell_type": "code",
   "execution_count": 1,
   "metadata": {},
   "outputs": [],
   "source": [
    "import numpy as np\n",
    "import pandas as pd\n",
    "import json"
   ]
  },
  {
   "cell_type": "code",
   "execution_count": 2,
   "metadata": {},
   "outputs": [],
   "source": [
    "import gzip\n",
    "import seaborn as sns\n",
    "import os\n",
    "%matplotlib inline"
   ]
  },
  {
   "cell_type": "code",
   "execution_count": 3,
   "metadata": {},
   "outputs": [],
   "source": [
    "import matplotlib.pyplot as plt\n",
    "import re"
   ]
  },
  {
   "cell_type": "code",
   "execution_count": 4,
   "metadata": {},
   "outputs": [
    {
     "name": "stdout",
     "output_type": "stream",
     "text": [
      "['business.json', 'Yelp_Dataset_Challenge_Round_13.pdf', 'Dataset_Challenge_Dataset_Agreement.pdf', 'user.json', 'checkin.json', 'tip.json', 'review.json', 'photo.json']\n"
     ]
    }
   ],
   "source": [
    "data_dir = '../dataFiles/yelp_dataset/'\n",
    "profiles_path = os.path.join(data_dir, 'business.json')\n",
    "print(os.listdir(data_dir))"
   ]
  },
  {
   "cell_type": "code",
   "execution_count": 5,
   "metadata": {},
   "outputs": [],
   "source": [
    "for line in open(profiles_path):\n",
    "    line = json.loads(line)"
   ]
  },
  {
   "cell_type": "code",
   "execution_count": 6,
   "metadata": {},
   "outputs": [
    {
     "data": {
      "text/plain": [
       "{'business_id': 'c1f_VAX1KIK8-JoVhjbYOw',\n",
       " 'name': 'Oriental Relax',\n",
       " 'address': '3735 S Las Vegas Blvd',\n",
       " 'city': 'Las Vegas',\n",
       " 'state': 'NV',\n",
       " 'postal_code': '89109',\n",
       " 'latitude': 36.1072672,\n",
       " 'longitude': -115.1719204,\n",
       " 'stars': 4.0,\n",
       " 'review_count': 3,\n",
       " 'is_open': 0,\n",
       " 'attributes': {'BikeParking': 'False', 'RestaurantsPriceRange2': '1'},\n",
       " 'categories': 'Massage, Beauty & Spas',\n",
       " 'hours': {'Monday': '10:0-0:0',\n",
       "  'Tuesday': '10:0-0:0',\n",
       "  'Wednesday': '10:0-0:0',\n",
       "  'Thursday': '10:0-0:0',\n",
       "  'Friday': '10:0-0:0',\n",
       "  'Saturday': '10:0-0:0',\n",
       "  'Sunday': '10:0-0:0'}}"
      ]
     },
     "execution_count": 6,
     "metadata": {},
     "output_type": "execute_result"
    }
   ],
   "source": [
    "line"
   ]
  },
  {
   "cell_type": "code",
   "execution_count": 7,
   "metadata": {},
   "outputs": [
    {
     "data": {
      "text/html": [
       "<div>\n",
       "<style scoped>\n",
       "    .dataframe tbody tr th:only-of-type {\n",
       "        vertical-align: middle;\n",
       "    }\n",
       "\n",
       "    .dataframe tbody tr th {\n",
       "        vertical-align: top;\n",
       "    }\n",
       "\n",
       "    .dataframe thead th {\n",
       "        text-align: right;\n",
       "    }\n",
       "</style>\n",
       "<table border=\"1\" class=\"dataframe\">\n",
       "  <thead>\n",
       "    <tr style=\"text-align: right;\">\n",
       "      <th></th>\n",
       "      <th>business_id</th>\n",
       "      <th>name</th>\n",
       "      <th>address</th>\n",
       "      <th>city</th>\n",
       "      <th>state</th>\n",
       "      <th>postal_code</th>\n",
       "      <th>latitude</th>\n",
       "      <th>longitude</th>\n",
       "      <th>stars</th>\n",
       "      <th>review_count</th>\n",
       "      <th>is_open</th>\n",
       "      <th>attributes</th>\n",
       "      <th>categories</th>\n",
       "      <th>hours</th>\n",
       "    </tr>\n",
       "  </thead>\n",
       "  <tbody>\n",
       "    <tr>\n",
       "      <td>BikeParking</td>\n",
       "      <td>c1f_VAX1KIK8-JoVhjbYOw</td>\n",
       "      <td>Oriental Relax</td>\n",
       "      <td>3735 S Las Vegas Blvd</td>\n",
       "      <td>Las Vegas</td>\n",
       "      <td>NV</td>\n",
       "      <td>89109</td>\n",
       "      <td>36.107267</td>\n",
       "      <td>-115.17192</td>\n",
       "      <td>4.0</td>\n",
       "      <td>3</td>\n",
       "      <td>0</td>\n",
       "      <td>False</td>\n",
       "      <td>Massage, Beauty &amp; Spas</td>\n",
       "      <td>NaN</td>\n",
       "    </tr>\n",
       "    <tr>\n",
       "      <td>RestaurantsPriceRange2</td>\n",
       "      <td>c1f_VAX1KIK8-JoVhjbYOw</td>\n",
       "      <td>Oriental Relax</td>\n",
       "      <td>3735 S Las Vegas Blvd</td>\n",
       "      <td>Las Vegas</td>\n",
       "      <td>NV</td>\n",
       "      <td>89109</td>\n",
       "      <td>36.107267</td>\n",
       "      <td>-115.17192</td>\n",
       "      <td>4.0</td>\n",
       "      <td>3</td>\n",
       "      <td>0</td>\n",
       "      <td>1</td>\n",
       "      <td>Massage, Beauty &amp; Spas</td>\n",
       "      <td>NaN</td>\n",
       "    </tr>\n",
       "    <tr>\n",
       "      <td>Monday</td>\n",
       "      <td>c1f_VAX1KIK8-JoVhjbYOw</td>\n",
       "      <td>Oriental Relax</td>\n",
       "      <td>3735 S Las Vegas Blvd</td>\n",
       "      <td>Las Vegas</td>\n",
       "      <td>NV</td>\n",
       "      <td>89109</td>\n",
       "      <td>36.107267</td>\n",
       "      <td>-115.17192</td>\n",
       "      <td>4.0</td>\n",
       "      <td>3</td>\n",
       "      <td>0</td>\n",
       "      <td>NaN</td>\n",
       "      <td>Massage, Beauty &amp; Spas</td>\n",
       "      <td>10:0-0:0</td>\n",
       "    </tr>\n",
       "    <tr>\n",
       "      <td>Tuesday</td>\n",
       "      <td>c1f_VAX1KIK8-JoVhjbYOw</td>\n",
       "      <td>Oriental Relax</td>\n",
       "      <td>3735 S Las Vegas Blvd</td>\n",
       "      <td>Las Vegas</td>\n",
       "      <td>NV</td>\n",
       "      <td>89109</td>\n",
       "      <td>36.107267</td>\n",
       "      <td>-115.17192</td>\n",
       "      <td>4.0</td>\n",
       "      <td>3</td>\n",
       "      <td>0</td>\n",
       "      <td>NaN</td>\n",
       "      <td>Massage, Beauty &amp; Spas</td>\n",
       "      <td>10:0-0:0</td>\n",
       "    </tr>\n",
       "    <tr>\n",
       "      <td>Wednesday</td>\n",
       "      <td>c1f_VAX1KIK8-JoVhjbYOw</td>\n",
       "      <td>Oriental Relax</td>\n",
       "      <td>3735 S Las Vegas Blvd</td>\n",
       "      <td>Las Vegas</td>\n",
       "      <td>NV</td>\n",
       "      <td>89109</td>\n",
       "      <td>36.107267</td>\n",
       "      <td>-115.17192</td>\n",
       "      <td>4.0</td>\n",
       "      <td>3</td>\n",
       "      <td>0</td>\n",
       "      <td>NaN</td>\n",
       "      <td>Massage, Beauty &amp; Spas</td>\n",
       "      <td>10:0-0:0</td>\n",
       "    </tr>\n",
       "    <tr>\n",
       "      <td>Thursday</td>\n",
       "      <td>c1f_VAX1KIK8-JoVhjbYOw</td>\n",
       "      <td>Oriental Relax</td>\n",
       "      <td>3735 S Las Vegas Blvd</td>\n",
       "      <td>Las Vegas</td>\n",
       "      <td>NV</td>\n",
       "      <td>89109</td>\n",
       "      <td>36.107267</td>\n",
       "      <td>-115.17192</td>\n",
       "      <td>4.0</td>\n",
       "      <td>3</td>\n",
       "      <td>0</td>\n",
       "      <td>NaN</td>\n",
       "      <td>Massage, Beauty &amp; Spas</td>\n",
       "      <td>10:0-0:0</td>\n",
       "    </tr>\n",
       "    <tr>\n",
       "      <td>Friday</td>\n",
       "      <td>c1f_VAX1KIK8-JoVhjbYOw</td>\n",
       "      <td>Oriental Relax</td>\n",
       "      <td>3735 S Las Vegas Blvd</td>\n",
       "      <td>Las Vegas</td>\n",
       "      <td>NV</td>\n",
       "      <td>89109</td>\n",
       "      <td>36.107267</td>\n",
       "      <td>-115.17192</td>\n",
       "      <td>4.0</td>\n",
       "      <td>3</td>\n",
       "      <td>0</td>\n",
       "      <td>NaN</td>\n",
       "      <td>Massage, Beauty &amp; Spas</td>\n",
       "      <td>10:0-0:0</td>\n",
       "    </tr>\n",
       "    <tr>\n",
       "      <td>Saturday</td>\n",
       "      <td>c1f_VAX1KIK8-JoVhjbYOw</td>\n",
       "      <td>Oriental Relax</td>\n",
       "      <td>3735 S Las Vegas Blvd</td>\n",
       "      <td>Las Vegas</td>\n",
       "      <td>NV</td>\n",
       "      <td>89109</td>\n",
       "      <td>36.107267</td>\n",
       "      <td>-115.17192</td>\n",
       "      <td>4.0</td>\n",
       "      <td>3</td>\n",
       "      <td>0</td>\n",
       "      <td>NaN</td>\n",
       "      <td>Massage, Beauty &amp; Spas</td>\n",
       "      <td>10:0-0:0</td>\n",
       "    </tr>\n",
       "    <tr>\n",
       "      <td>Sunday</td>\n",
       "      <td>c1f_VAX1KIK8-JoVhjbYOw</td>\n",
       "      <td>Oriental Relax</td>\n",
       "      <td>3735 S Las Vegas Blvd</td>\n",
       "      <td>Las Vegas</td>\n",
       "      <td>NV</td>\n",
       "      <td>89109</td>\n",
       "      <td>36.107267</td>\n",
       "      <td>-115.17192</td>\n",
       "      <td>4.0</td>\n",
       "      <td>3</td>\n",
       "      <td>0</td>\n",
       "      <td>NaN</td>\n",
       "      <td>Massage, Beauty &amp; Spas</td>\n",
       "      <td>10:0-0:0</td>\n",
       "    </tr>\n",
       "  </tbody>\n",
       "</table>\n",
       "</div>"
      ],
      "text/plain": [
       "                                   business_id            name  \\\n",
       "BikeParking             c1f_VAX1KIK8-JoVhjbYOw  Oriental Relax   \n",
       "RestaurantsPriceRange2  c1f_VAX1KIK8-JoVhjbYOw  Oriental Relax   \n",
       "Monday                  c1f_VAX1KIK8-JoVhjbYOw  Oriental Relax   \n",
       "Tuesday                 c1f_VAX1KIK8-JoVhjbYOw  Oriental Relax   \n",
       "Wednesday               c1f_VAX1KIK8-JoVhjbYOw  Oriental Relax   \n",
       "Thursday                c1f_VAX1KIK8-JoVhjbYOw  Oriental Relax   \n",
       "Friday                  c1f_VAX1KIK8-JoVhjbYOw  Oriental Relax   \n",
       "Saturday                c1f_VAX1KIK8-JoVhjbYOw  Oriental Relax   \n",
       "Sunday                  c1f_VAX1KIK8-JoVhjbYOw  Oriental Relax   \n",
       "\n",
       "                                      address       city state postal_code  \\\n",
       "BikeParking             3735 S Las Vegas Blvd  Las Vegas    NV       89109   \n",
       "RestaurantsPriceRange2  3735 S Las Vegas Blvd  Las Vegas    NV       89109   \n",
       "Monday                  3735 S Las Vegas Blvd  Las Vegas    NV       89109   \n",
       "Tuesday                 3735 S Las Vegas Blvd  Las Vegas    NV       89109   \n",
       "Wednesday               3735 S Las Vegas Blvd  Las Vegas    NV       89109   \n",
       "Thursday                3735 S Las Vegas Blvd  Las Vegas    NV       89109   \n",
       "Friday                  3735 S Las Vegas Blvd  Las Vegas    NV       89109   \n",
       "Saturday                3735 S Las Vegas Blvd  Las Vegas    NV       89109   \n",
       "Sunday                  3735 S Las Vegas Blvd  Las Vegas    NV       89109   \n",
       "\n",
       "                         latitude  longitude  stars  review_count  is_open  \\\n",
       "BikeParking             36.107267 -115.17192    4.0             3        0   \n",
       "RestaurantsPriceRange2  36.107267 -115.17192    4.0             3        0   \n",
       "Monday                  36.107267 -115.17192    4.0             3        0   \n",
       "Tuesday                 36.107267 -115.17192    4.0             3        0   \n",
       "Wednesday               36.107267 -115.17192    4.0             3        0   \n",
       "Thursday                36.107267 -115.17192    4.0             3        0   \n",
       "Friday                  36.107267 -115.17192    4.0             3        0   \n",
       "Saturday                36.107267 -115.17192    4.0             3        0   \n",
       "Sunday                  36.107267 -115.17192    4.0             3        0   \n",
       "\n",
       "                       attributes              categories     hours  \n",
       "BikeParking                 False  Massage, Beauty & Spas       NaN  \n",
       "RestaurantsPriceRange2          1  Massage, Beauty & Spas       NaN  \n",
       "Monday                        NaN  Massage, Beauty & Spas  10:0-0:0  \n",
       "Tuesday                       NaN  Massage, Beauty & Spas  10:0-0:0  \n",
       "Wednesday                     NaN  Massage, Beauty & Spas  10:0-0:0  \n",
       "Thursday                      NaN  Massage, Beauty & Spas  10:0-0:0  \n",
       "Friday                        NaN  Massage, Beauty & Spas  10:0-0:0  \n",
       "Saturday                      NaN  Massage, Beauty & Spas  10:0-0:0  \n",
       "Sunday                        NaN  Massage, Beauty & Spas  10:0-0:0  "
      ]
     },
     "execution_count": 7,
     "metadata": {},
     "output_type": "execute_result"
    }
   ],
   "source": [
    " pd.DataFrame.from_dict(line)"
   ]
  },
  {
   "cell_type": "code",
   "execution_count": 71,
   "metadata": {},
   "outputs": [],
   "source": [
    "mylist = []\n",
    "for line in open(profiles_path):\n",
    "    line = json.loads(line)\n",
    "    mylist.append(line)"
   ]
  },
  {
   "cell_type": "code",
   "execution_count": 73,
   "metadata": {},
   "outputs": [
    {
     "data": {
      "text/plain": [
       "192609"
      ]
     },
     "execution_count": 73,
     "metadata": {},
     "output_type": "execute_result"
    }
   ],
   "source": [
    "len(mylist)"
   ]
  },
  {
   "cell_type": "code",
   "execution_count": 77,
   "metadata": {},
   "outputs": [],
   "source": [
    "pd.DataFrame(mylist, columns = mylist[4].keys()).to_csv('business.csv')"
   ]
  },
  {
   "cell_type": "code",
   "execution_count": null,
   "metadata": {},
   "outputs": [],
   "source": []
  },
  {
   "cell_type": "code",
   "execution_count": null,
   "metadata": {},
   "outputs": [],
   "source": []
  },
  {
   "cell_type": "code",
   "execution_count": null,
   "metadata": {},
   "outputs": [],
   "source": []
  },
  {
   "cell_type": "code",
   "execution_count": 78,
   "metadata": {},
   "outputs": [],
   "source": [
    "profiles_path = os.path.join(data_dir, 'checkin.json')\n",
    "mylist = []\n",
    "count = 0\n",
    "for line in open(profiles_path):\n",
    "    line = json.loads(line)\n",
    "    mylist.append(line)\n",
    "    count += 1\n",
    "    if count > 100:\n",
    "        break"
   ]
  },
  {
   "cell_type": "code",
   "execution_count": 80,
   "metadata": {},
   "outputs": [
    {
     "data": {
      "text/plain": [
       "101"
      ]
     },
     "execution_count": 80,
     "metadata": {},
     "output_type": "execute_result"
    }
   ],
   "source": [
    "len(mylist)"
   ]
  },
  {
   "cell_type": "code",
   "execution_count": 82,
   "metadata": {},
   "outputs": [],
   "source": [
    "pd.DataFrame(mylist, columns = mylist[4].keys()).to_csv('checkin_sample.csv')"
   ]
  },
  {
   "cell_type": "code",
   "execution_count": null,
   "metadata": {},
   "outputs": [],
   "source": []
  },
  {
   "cell_type": "code",
   "execution_count": 83,
   "metadata": {},
   "outputs": [],
   "source": [
    "profiles_path = os.path.join(data_dir, 'review.json')\n",
    "mylist = []\n",
    "count = 0\n",
    "for line in open(profiles_path):\n",
    "    line = json.loads(line)\n",
    "    mylist.append(line)\n",
    "    count += 1\n",
    "    if count > 100:\n",
    "        break"
   ]
  },
  {
   "cell_type": "code",
   "execution_count": 87,
   "metadata": {},
   "outputs": [],
   "source": [
    "pd.DataFrame(mylist, columns = mylist[4].keys()).to_csv('review_sample.csv', index = False)"
   ]
  },
  {
   "cell_type": "code",
   "execution_count": null,
   "metadata": {},
   "outputs": [],
   "source": []
  },
  {
   "cell_type": "code",
   "execution_count": 88,
   "metadata": {},
   "outputs": [],
   "source": [
    "profiles_path = os.path.join(data_dir, 'tip.json')\n",
    "mylist = []\n",
    "count = 0\n",
    "for line in open(profiles_path):\n",
    "    line = json.loads(line)\n",
    "    mylist.append(line)\n",
    "    count += 1\n",
    "    if count > 100:\n",
    "        break"
   ]
  },
  {
   "cell_type": "code",
   "execution_count": 90,
   "metadata": {},
   "outputs": [],
   "source": [
    "pd.DataFrame(mylist, columns = mylist[4].keys()).to_csv('tip_sample.csv', index = False)"
   ]
  },
  {
   "cell_type": "code",
   "execution_count": null,
   "metadata": {},
   "outputs": [],
   "source": []
  },
  {
   "cell_type": "code",
   "execution_count": 98,
   "metadata": {},
   "outputs": [],
   "source": [
    "profiles_path = os.path.join(data_dir, 'user.json')\n",
    "mylist = []\n",
    "count = 0\n",
    "for line in open(profiles_path):\n",
    "    line = json.loads(line)\n",
    "    mylist.append(line)\n",
    "    count += 1\n",
    "    if count > 100:\n",
    "        break"
   ]
  },
  {
   "cell_type": "code",
   "execution_count": 99,
   "metadata": {},
   "outputs": [],
   "source": [
    "pd.DataFrame(mylist, columns = mylist[4].keys()).to_csv('csv/user_sample.csv', index = False)"
   ]
  },
  {
   "cell_type": "code",
   "execution_count": null,
   "metadata": {},
   "outputs": [],
   "source": []
  },
  {
   "cell_type": "code",
   "execution_count": 94,
   "metadata": {},
   "outputs": [],
   "source": [
    "profiles_path = os.path.join(data_dir, 'photo.json')\n",
    "mylist = []\n",
    "count = 0\n",
    "for line in open(profiles_path):\n",
    "    line = json.loads(line)\n",
    "    mylist.append(line)\n",
    "    count += 1\n",
    "    if count > 100:\n",
    "        break"
   ]
  },
  {
   "cell_type": "code",
   "execution_count": 97,
   "metadata": {},
   "outputs": [],
   "source": [
    "pd.DataFrame(mylist, columns = mylist[4].keys()).to_csv('csv/photo_sample.csv', index = False)"
   ]
  },
  {
   "cell_type": "code",
   "execution_count": null,
   "metadata": {},
   "outputs": [],
   "source": []
  },
  {
   "cell_type": "code",
   "execution_count": null,
   "metadata": {},
   "outputs": [],
   "source": []
  },
  {
   "cell_type": "code",
   "execution_count": null,
   "metadata": {},
   "outputs": [],
   "source": []
  },
  {
   "cell_type": "code",
   "execution_count": null,
   "metadata": {},
   "outputs": [],
   "source": []
  }
 ],
 "metadata": {
  "kernelspec": {
   "display_name": "Python 3",
   "language": "python",
   "name": "python3"
  },
  "language_info": {
   "codemirror_mode": {
    "name": "ipython",
    "version": 3
   },
   "file_extension": ".py",
   "mimetype": "text/x-python",
   "name": "python",
   "nbconvert_exporter": "python",
   "pygments_lexer": "ipython3",
   "version": "3.7.4"
  }
 },
 "nbformat": 4,
 "nbformat_minor": 4
}
