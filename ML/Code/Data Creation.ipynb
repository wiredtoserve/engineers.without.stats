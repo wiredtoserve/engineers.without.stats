{
 "cells": [
  {
   "cell_type": "code",
   "execution_count": 18,
   "metadata": {},
   "outputs": [],
   "source": [
    "import csv\n",
    "import pickle\n",
    "import random\n",
    "import networkx as nx"
   ]
  },
  {
   "cell_type": "code",
   "execution_count": 2,
   "metadata": {},
   "outputs": [],
   "source": [
    "import numpy as np\n",
    "import pandas as pd"
   ]
  },
  {
   "cell_type": "code",
   "execution_count": 62,
   "metadata": {},
   "outputs": [],
   "source": [
    "import csv"
   ]
  },
  {
   "cell_type": "code",
   "execution_count": null,
   "metadata": {},
   "outputs": [],
   "source": []
  },
  {
   "cell_type": "code",
   "execution_count": 3,
   "metadata": {},
   "outputs": [],
   "source": [
    "train = pd.read_csv('2hop_crawl.csv')"
   ]
  },
  {
   "cell_type": "code",
   "execution_count": 6,
   "metadata": {},
   "outputs": [
    {
     "data": {
      "text/plain": [
       "34540"
      ]
     },
     "execution_count": 6,
     "metadata": {},
     "output_type": "execute_result"
    }
   ],
   "source": [
    "len(train[train['Connected'] == 1])"
   ]
  },
  {
   "cell_type": "code",
   "execution_count": 14,
   "metadata": {},
   "outputs": [],
   "source": [
    "edge_list = list(zip([x for x in train[train['Connected'] == 1]['Souce']], [x for x in train[train['Connected'] == 1]['Sink']]))"
   ]
  },
  {
   "cell_type": "code",
   "execution_count": 15,
   "metadata": {},
   "outputs": [
    {
     "data": {
      "text/plain": [
       "[(1933312, 3025121),\n",
       " (1933312, 3392171),\n",
       " (1933312, 3542411),\n",
       " (1933312, 38814),\n",
       " (1933312, 1348407)]"
      ]
     },
     "execution_count": 15,
     "metadata": {},
     "output_type": "execute_result"
    }
   ],
   "source": [
    "edge_list[:5]"
   ]
  },
  {
   "cell_type": "code",
   "execution_count": 19,
   "metadata": {},
   "outputs": [],
   "source": [
    "G = nx.Graph()\n",
    "G.add_edges_from(edge_list)"
   ]
  },
  {
   "cell_type": "code",
   "execution_count": 21,
   "metadata": {},
   "outputs": [
    {
     "name": "stdout",
     "output_type": "stream",
     "text": [
      "Name: \n",
      "Type: Graph\n",
      "Number of nodes: 29857\n",
      "Number of edges: 34517\n",
      "Average degree:   2.3122\n"
     ]
    }
   ],
   "source": [
    "print(nx.info(G))"
   ]
  },
  {
   "cell_type": "code",
   "execution_count": 40,
   "metadata": {},
   "outputs": [],
   "source": [
    "J = nx.DiGraph()\n",
    "J.add_edges_from(edge_list)"
   ]
  },
  {
   "cell_type": "code",
   "execution_count": 41,
   "metadata": {},
   "outputs": [],
   "source": [
    "page_rank = nx.pagerank_scipy(J)"
   ]
  },
  {
   "cell_type": "code",
   "execution_count": null,
   "metadata": {},
   "outputs": [],
   "source": []
  },
  {
   "cell_type": "code",
   "execution_count": 25,
   "metadata": {},
   "outputs": [],
   "source": [
    "mixed_pairs = edge_list"
   ]
  },
  {
   "cell_type": "code",
   "execution_count": 26,
   "metadata": {},
   "outputs": [],
   "source": [
    "jc = list(networkx.jaccard_coefficient(G, mixed_pairs))"
   ]
  },
  {
   "cell_type": "code",
   "execution_count": 27,
   "metadata": {},
   "outputs": [],
   "source": [
    "ra = list(networkx.resource_allocation_index(G, mixed_pairs))"
   ]
  },
  {
   "cell_type": "code",
   "execution_count": 28,
   "metadata": {},
   "outputs": [],
   "source": [
    "aa = list(networkx.adamic_adar_index(G, mixed_pairs))\n",
    "cn = [(e[0], e[1], len(list(networkx.common_neighbors(G,e[0], e[1])))) for e in mixed_pairs]"
   ]
  },
  {
   "cell_type": "code",
   "execution_count": 57,
   "metadata": {},
   "outputs": [],
   "source": [
    "pa = list(networkx.preferential_attachment(G, mixed_pairs))"
   ]
  },
  {
   "cell_type": "code",
   "execution_count": null,
   "metadata": {},
   "outputs": [],
   "source": []
  },
  {
   "cell_type": "code",
   "execution_count": 35,
   "metadata": {},
   "outputs": [],
   "source": [
    "#wic = list(networkx.within_inter_cluster(G, mixed_pairs))"
   ]
  },
  {
   "cell_type": "code",
   "execution_count": 36,
   "metadata": {},
   "outputs": [],
   "source": [
    "string_pairs = mixed_pairs"
   ]
  },
  {
   "cell_type": "code",
   "execution_count": 43,
   "metadata": {},
   "outputs": [],
   "source": [
    "page_rank_source = []\n",
    "page_rank_sink = []\n",
    "\n",
    " \n",
    "for (x,y) in string_pairs:\n",
    "    page_rank_source.append(page_rank[x])\n",
    "    page_rank_sink.append(page_rank[y])"
   ]
  },
  {
   "cell_type": "code",
   "execution_count": 44,
   "metadata": {},
   "outputs": [],
   "source": [
    "hub_score, authority_score = nx.hits(J)"
   ]
  },
  {
   "cell_type": "code",
   "execution_count": 59,
   "metadata": {},
   "outputs": [],
   "source": [
    "hub_source = []\n",
    "hub_sink = []\n",
    "authority_source = []\n",
    "authority_sink = []\n",
    "\n",
    "for (x,y) in string_pairs:\n",
    "    hub_source.append(hub_score[x])\n",
    "    hub_sink.append(hub_score[y])    \n",
    "    authority_source.append(authority_score[x])\n",
    "    authority_sink.append(authority_score[y])"
   ]
  },
  {
   "cell_type": "code",
   "execution_count": 45,
   "metadata": {},
   "outputs": [],
   "source": [
    "out_degree_centrality = nx.out_degree_centrality(J)\n",
    "in_degree_centrality = nx.in_degree_centrality(J)"
   ]
  },
  {
   "cell_type": "code",
   "execution_count": 46,
   "metadata": {},
   "outputs": [],
   "source": [
    "source_out_degree = []\n",
    "source_in_degree = []\n",
    "sink_out_degree = []\n",
    "sink_in_degree = []\n",
    "\n",
    "for (x,y) in string_pairs:\n",
    "    source_out_degree.append(out_degree_centrality[x])\n",
    "    sink_out_degree.append(out_degree_centrality[y])    \n",
    "    source_in_degree.append(in_degree_centrality[x])\n",
    "    sink_in_degree.append(in_degree_centrality[y])"
   ]
  },
  {
   "cell_type": "code",
   "execution_count": 51,
   "metadata": {},
   "outputs": [],
   "source": [
    "sp = []\n",
    "for (x,y) in string_pairs:\n",
    "    try:\n",
    "        sp.append(nx.shortest_path_length(J, x, y))\n",
    "    except:\n",
    "        sp.append(2) # find the max and add one"
   ]
  },
  {
   "cell_type": "code",
   "execution_count": 49,
   "metadata": {},
   "outputs": [
    {
     "data": {
      "text/plain": [
       "1"
      ]
     },
     "execution_count": 49,
     "metadata": {},
     "output_type": "execute_result"
    }
   ],
   "source": [
    "max(sp)"
   ]
  },
  {
   "cell_type": "code",
   "execution_count": null,
   "metadata": {},
   "outputs": [],
   "source": []
  },
  {
   "cell_type": "code",
   "execution_count": 108,
   "metadata": {},
   "outputs": [],
   "source": [
    "train_list = list(zip([x for x in train['Souce']], [x for x in train['Sink']]))"
   ]
  },
  {
   "cell_type": "code",
   "execution_count": 113,
   "metadata": {},
   "outputs": [],
   "source": [
    "label = [x for x in train['Connected']]"
   ]
  },
  {
   "cell_type": "code",
   "execution_count": 114,
   "metadata": {},
   "outputs": [],
   "source": [
    "jc, ra, aa, cn, pa, page_rank_source, page_rank_sink, hub_source, hub_sink, authority_source, authority_sink, out_degree_centrality, in_degree_centrality, source_out_degree, sink_out_degree, source_in_degree, sink_in_degree, sp = generate_features(G, J, train_list)"
   ]
  },
  {
   "cell_type": "code",
   "execution_count": 115,
   "metadata": {},
   "outputs": [
    {
     "data": {
      "text/plain": [
       "69080"
      ]
     },
     "execution_count": 115,
     "metadata": {},
     "output_type": "execute_result"
    }
   ],
   "source": [
    "len(jc)"
   ]
  },
  {
   "cell_type": "code",
   "execution_count": 118,
   "metadata": {},
   "outputs": [],
   "source": [
    "write_data = [(\"Source\", \"Sink\", \"Connected\", \"Jaccard\", \"Resource_alloc\", \"Adamic_adar\", \"Preferential_attachment\", \"Common_Neighbours\", \"Shortest_Path_Length\",\"Page_source\", \"Page_sink\",\"Hub_source\",\"Hub_sink\",\"Authority_Source\",\"Authority_Sink\",\"Source_Out\",\"Source_In\",\"Sink_out\",\"Sink_in\")]\n",
    "for i,pair in enumerate(train_list):\n",
    "    entry = (pair[0], pair[1], label[i], jc[i][2], ra[i][2], aa[i][2], pa[i][2], cn[i][2], sp[i], page_rank_source[i], page_rank_sink[i], hub_source[i], hub_sink[i], authority_source[i], authority_sink[i], source_out_degree[i], source_in_degree[i], sink_out_degree[i], sink_in_degree[i])\n",
    "    write_data.append(entry)"
   ]
  },
  {
   "cell_type": "code",
   "execution_count": 119,
   "metadata": {},
   "outputs": [],
   "source": [
    "with open(\"./trainData.csv\", 'w', newline=\"\") as f:\n",
    "    writer = csv.writer(f)\n",
    "    writer.writerows(write_data)"
   ]
  },
  {
   "cell_type": "code",
   "execution_count": null,
   "metadata": {},
   "outputs": [],
   "source": []
  },
  {
   "cell_type": "code",
   "execution_count": 83,
   "metadata": {},
   "outputs": [],
   "source": [
    "test_list = []\n",
    "with open(\"./test-public.txt\", 'r') as f:\n",
    "    reader = csv.reader(f, delimiter='\\t')\n",
    "    \n",
    "    for line in reader:\n",
    "        test_list.append((line[1], line[2]))"
   ]
  },
  {
   "cell_type": "code",
   "execution_count": 84,
   "metadata": {},
   "outputs": [],
   "source": [
    "test_list = test_list[1:]"
   ]
  },
  {
   "cell_type": "code",
   "execution_count": 92,
   "metadata": {},
   "outputs": [],
   "source": [
    "test_list = [(int(x[0]), int(x[1])) for x in test_list]"
   ]
  },
  {
   "cell_type": "code",
   "execution_count": 85,
   "metadata": {},
   "outputs": [
    {
     "data": {
      "text/plain": [
       "[('2184483', '1300190'),\n",
       " ('3151356', '1452193'),\n",
       " ('1579396', '193159'),\n",
       " ('1406432', '2481036'),\n",
       " ('2389638', '593017')]"
      ]
     },
     "execution_count": 85,
     "metadata": {},
     "output_type": "execute_result"
    }
   ],
   "source": [
    "test_list[:5]"
   ]
  },
  {
   "cell_type": "code",
   "execution_count": 78,
   "metadata": {},
   "outputs": [
    {
     "data": {
      "text/plain": [
       "[(1933312, 3025121),\n",
       " (1933312, 3392171),\n",
       " (1933312, 3542411),\n",
       " (1933312, 38814),\n",
       " (1933312, 1348407)]"
      ]
     },
     "execution_count": 78,
     "metadata": {},
     "output_type": "execute_result"
    }
   ],
   "source": [
    "2184483"
   ]
  },
  {
   "cell_type": "code",
   "execution_count": 96,
   "metadata": {},
   "outputs": [
    {
     "data": {
      "text/plain": [
       "2000"
      ]
     },
     "execution_count": 96,
     "metadata": {},
     "output_type": "execute_result"
    }
   ],
   "source": [
    "len(test_list)"
   ]
  },
  {
   "cell_type": "code",
   "execution_count": 93,
   "metadata": {},
   "outputs": [],
   "source": [
    "jc, ra, aa, cn, pa, page_rank_source, page_rank_sink, hub_source, hub_sink, authority_source, authority_sink, out_degree_centrality, in_degree_centrality, source_out_degree, sink_out_degree, source_in_degree, sink_in_degree, sp = generate_features(G, J, test_list)"
   ]
  },
  {
   "cell_type": "code",
   "execution_count": 99,
   "metadata": {},
   "outputs": [],
   "source": [
    "write_data = [(\"Source\", \"Sink\", \"Jaccard\", \"Resource_alloc\", \"Adamic_adar\", \"Preferential_attachment\", \"Common_Neighbours\", \"Shortest_Path_Length\",\"Page_source\", \"Page_sink\",\"Hub_source\",\"Hub_sink\",\"Authority_Source\",\"Authority_Sink\",\"Source_Out\",\"Source_In\",\"Sink_out\",\"Sink_in\")]\n",
    "for i,pair in enumerate(test_list):\n",
    "    entry = (pair[0], pair[1], jc[i][2], ra[i][2], aa[i][2], pa[i][2], cn[i][2], sp[i], page_rank_source[i], page_rank_sink[i], hub_source[i], hub_sink[i], authority_source[i], authority_sink[i], source_out_degree[i], source_in_degree[i], sink_out_degree[i], sink_in_degree[i])\n",
    "    write_data.append(entry)\n",
    "# jc, ra, aa, cn, pa, page_rank_source, page_rank_sink, hub_source, hub_sink, authority_source, authority_sink, out_degree_centrality, in_degree_centrality, source_out_degree, sink_out_degree, source_in_degree, sink_in_degree, sp"
   ]
  },
  {
   "cell_type": "code",
   "execution_count": 100,
   "metadata": {},
   "outputs": [],
   "source": [
    "with open(\"./testData.csv\", 'w', newline=\"\") as f:\n",
    "    writer = csv.writer(f)\n",
    "    writer.writerows(write_data)"
   ]
  },
  {
   "cell_type": "code",
   "execution_count": null,
   "metadata": {},
   "outputs": [],
   "source": []
  },
  {
   "cell_type": "code",
   "execution_count": 79,
   "metadata": {},
   "outputs": [],
   "source": [
    "def generate_features(G, J, mixed_pairs):\n",
    "    jc = list(nx.jaccard_coefficient(G, mixed_pairs))\n",
    "    ra = list(nx.resource_allocation_index(G, mixed_pairs))\n",
    "    aa = list(nx.adamic_adar_index(G, mixed_pairs))\n",
    "    cn = [(e[0], e[1], len(list(nx.common_neighbors(G,e[0], e[1])))) for e in mixed_pairs]\n",
    "    pa = list(nx.preferential_attachment(G, mixed_pairs))\n",
    "    \n",
    "    page_rank_source = []\n",
    "    page_rank_sink = []\n",
    "\n",
    " \n",
    "    for (x,y) in mixed_pairs:\n",
    "        page_rank_source.append(page_rank[x])\n",
    "        page_rank_sink.append(page_rank[y])\n",
    "    \n",
    "    hub_score, authority_score = nx.hits(J)\n",
    "    \n",
    "    hub_source = []\n",
    "    hub_sink = []\n",
    "    authority_source = []\n",
    "    authority_sink = []\n",
    "\n",
    "    for (x,y) in mixed_pairs:\n",
    "        hub_source.append(hub_score[x])\n",
    "        hub_sink.append(hub_score[y])    \n",
    "        authority_source.append(authority_score[x])\n",
    "        authority_sink.append(authority_score[y])\n",
    "        \n",
    "    out_degree_centrality = nx.out_degree_centrality(J)\n",
    "    in_degree_centrality = nx.in_degree_centrality(J)\n",
    "    \n",
    "    source_out_degree = []\n",
    "    source_in_degree = []\n",
    "    sink_out_degree = []\n",
    "    sink_in_degree = []\n",
    "\n",
    "    for (x,y) in mixed_pairs:\n",
    "        source_out_degree.append(out_degree_centrality[x])\n",
    "        sink_out_degree.append(out_degree_centrality[y])    \n",
    "        source_in_degree.append(in_degree_centrality[x])\n",
    "        sink_in_degree.append(in_degree_centrality[y])\n",
    "        \n",
    "    sp = []\n",
    "    for (x,y) in mixed_pairs:\n",
    "        try:\n",
    "            sp.append(nx.shortest_path_length(J, x, y))\n",
    "        except:\n",
    "            sp.append(2) # find the max and add one\n",
    "            \n",
    "    return jc, ra, aa, cn, pa, page_rank_source, page_rank_sink, hub_source, hub_sink, authority_source, authority_sink, out_degree_centrality, in_degree_centrality, source_out_degree, sink_out_degree, source_in_degree, sink_in_degree, sp \n"
   ]
  },
  {
   "cell_type": "code",
   "execution_count": 70,
   "metadata": {},
   "outputs": [
    {
     "ename": "SyntaxError",
     "evalue": "invalid syntax (<ipython-input-70-48d86c1d9364>, line 2)",
     "output_type": "error",
     "traceback": [
      "\u001b[0;36m  File \u001b[0;32m\"<ipython-input-70-48d86c1d9364>\"\u001b[0;36m, line \u001b[0;32m2\u001b[0m\n\u001b[0;31m    return 1 ...\u001b[0m\n\u001b[0m               ^\u001b[0m\n\u001b[0;31mSyntaxError\u001b[0m\u001b[0;31m:\u001b[0m invalid syntax\n"
     ]
    }
   ],
   "source": [
    "def t():\n",
    "    return 1"
   ]
  },
  {
   "cell_type": "code",
   "execution_count": 68,
   "metadata": {},
   "outputs": [
    {
     "data": {
      "text/plain": [
       "(1, 2)"
      ]
     },
     "execution_count": 68,
     "metadata": {},
     "output_type": "execute_result"
    }
   ],
   "source": [
    "t()"
   ]
  },
  {
   "cell_type": "code",
   "execution_count": null,
   "metadata": {},
   "outputs": [],
   "source": []
  }
 ],
 "metadata": {
  "kernelspec": {
   "display_name": "Python 3",
   "language": "python",
   "name": "python3"
  },
  "language_info": {
   "codemirror_mode": {
    "name": "ipython",
    "version": 3
   },
   "file_extension": ".py",
   "mimetype": "text/x-python",
   "name": "python",
   "nbconvert_exporter": "python",
   "pygments_lexer": "ipython3",
   "version": "3.6.8"
  }
 },
 "nbformat": 4,
 "nbformat_minor": 2
}
