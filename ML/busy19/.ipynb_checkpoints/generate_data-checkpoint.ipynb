{
 "cells": [
  {
   "cell_type": "code",
   "execution_count": 1,
   "metadata": {},
   "outputs": [],
   "source": [
    "import csv\n",
    "import pickle\n",
    "import random\n",
    "import networkx as nx"
   ]
  },
  {
   "cell_type": "code",
   "execution_count": 13,
   "metadata": {},
   "outputs": [],
   "source": [
    "import pandas as pd\n",
    "import numpy as np"
   ]
  },
  {
   "cell_type": "code",
   "execution_count": 14,
   "metadata": {},
   "outputs": [],
   "source": [
    "import matplotlib.pyplot as plt\n",
    "import seaborn as sns\n",
    "%matplotlib inline"
   ]
  },
  {
   "cell_type": "code",
   "execution_count": 9,
   "metadata": {},
   "outputs": [],
   "source": [
    "import math"
   ]
  },
  {
   "cell_type": "markdown",
   "metadata": {},
   "source": [
    "# Read in Raw Data"
   ]
  },
  {
   "cell_type": "code",
   "execution_count": 37,
   "metadata": {},
   "outputs": [],
   "source": [
    "d = {}\n",
    "with open(\"./train.txt\", 'r') as f:\n",
    "    reader = csv.reader(f, delimiter=\"\\t\")\n",
    "    \n",
    "    for line in reader:\n",
    "        entry = list(map(int, line))\n",
    "        d[entry[0]] = entry[1:]"
   ]
  },
  {
   "cell_type": "markdown",
   "metadata": {},
   "source": [
    "# Create the Graph"
   ]
  },
  {
   "cell_type": "code",
   "execution_count": 3,
   "metadata": {},
   "outputs": [],
   "source": [
    "# https://stackoverflow.com/questions/26665799/networkx-adding-edges-to-a-graph-from-a-dictionary-with-lists-as-values\n",
    "G = nx.Graph(d)"
   ]
  },
  {
   "cell_type": "code",
   "execution_count": 5,
   "metadata": {},
   "outputs": [],
   "source": []
  },
  {
   "cell_type": "code",
   "execution_count": null,
   "metadata": {},
   "outputs": [],
   "source": [
    "# test node - 1933312\n",
    "print(list(nx.bfs_edges(G,0)))"
   ]
  },
  {
   "cell_type": "code",
   "execution_count": 5,
   "metadata": {},
   "outputs": [
    {
     "data": {
      "text/plain": [
       "[3025121, 3392171, 3542411, 38814, 1348407]"
      ]
     },
     "execution_count": 5,
     "metadata": {},
     "output_type": "execute_result"
    }
   ],
   "source": [
    "d[1933312][:5]"
   ]
  },
  {
   "cell_type": "code",
   "execution_count": null,
   "metadata": {},
   "outputs": [],
   "source": []
  },
  {
   "cell_type": "code",
   "execution_count": null,
   "metadata": {},
   "outputs": [],
   "source": []
  },
  {
   "cell_type": "markdown",
   "metadata": {},
   "source": [
    "# Feature generation"
   ]
  },
  {
   "cell_type": "markdown",
   "metadata": {},
   "source": [
    "## Katz"
   ]
  },
  {
   "cell_type": "code",
   "execution_count": null,
   "metadata": {},
   "outputs": [],
   "source": []
  },
  {
   "cell_type": "markdown",
   "metadata": {},
   "source": [
    "# Toy Example"
   ]
  },
  {
   "cell_type": "code",
   "execution_count": 7,
   "metadata": {},
   "outputs": [],
   "source": [
    "d = {}\n",
    "d[1] = [2,3,4,5,7]\n",
    "d[2] = [8]\n",
    "d[3] = [4]\n",
    "d[4] = [5]\n",
    "d[6] = [1]\n",
    "d[8] = [9, 11]\n",
    "\n",
    " \n",
    "\n",
    "toy_G = nx.DiGraph(d)"
   ]
  },
  {
   "cell_type": "code",
   "execution_count": 10,
   "metadata": {},
   "outputs": [],
   "source": [
    "phi = (1+math.sqrt(5))/2.0 # largest eigenvalue of adj matrix \n",
    "centrality = nx.katz_centrality(toy_G,1/phi-0.01) "
   ]
  },
  {
   "cell_type": "code",
   "execution_count": 11,
   "metadata": {},
   "outputs": [
    {
     "name": "stdout",
     "output_type": "stream",
     "text": [
      "1 0.21\n",
      "2 0.26\n",
      "3 0.26\n",
      "4 0.42\n",
      "5 0.52\n",
      "6 0.13\n",
      "7 0.26\n",
      "8 0.29\n",
      "9 0.31\n",
      "11 0.31\n"
     ]
    }
   ],
   "source": [
    "for n,c in sorted(centrality.items()): \n",
    "    print(\"%d %0.2f\"%(n,c))"
   ]
  },
  {
   "cell_type": "code",
   "execution_count": 14,
   "metadata": {},
   "outputs": [],
   "source": [
    "toy_G = nx.Graph(d)"
   ]
  },
  {
   "cell_type": "code",
   "execution_count": 23,
   "metadata": {},
   "outputs": [],
   "source": [
    "test_list = []\n",
    "\n",
    "for key, val in d.items():\n",
    "    for node in val:\n",
    "        test_list.append((key, node))"
   ]
  },
  {
   "cell_type": "code",
   "execution_count": 24,
   "metadata": {},
   "outputs": [
    {
     "data": {
      "text/plain": [
       "[(1, 2),\n",
       " (1, 3),\n",
       " (1, 4),\n",
       " (1, 5),\n",
       " (1, 7),\n",
       " (2, 8),\n",
       " (3, 4),\n",
       " (4, 5),\n",
       " (6, 1),\n",
       " (8, 9),\n",
       " (8, 11)]"
      ]
     },
     "execution_count": 24,
     "metadata": {},
     "output_type": "execute_result"
    }
   ],
   "source": [
    "test_list"
   ]
  },
  {
   "cell_type": "code",
   "execution_count": 25,
   "metadata": {},
   "outputs": [],
   "source": [
    "jc = list(nx.jaccard_coefficient(toy_G, test_list))"
   ]
  },
  {
   "cell_type": "code",
   "execution_count": 26,
   "metadata": {},
   "outputs": [
    {
     "data": {
      "text/plain": [
       "[(1, 2, 0.0),\n",
       " (1, 3, 0.14285714285714285),\n",
       " (1, 4, 0.2857142857142857),\n",
       " (1, 5, 0.14285714285714285),\n",
       " (1, 7, 0.0),\n",
       " (2, 8, 0.0),\n",
       " (3, 4, 0.25),\n",
       " (4, 5, 0.25),\n",
       " (6, 1, 0.0),\n",
       " (8, 9, 0.0),\n",
       " (8, 11, 0.0)]"
      ]
     },
     "execution_count": 26,
     "metadata": {},
     "output_type": "execute_result"
    }
   ],
   "source": [
    "jc"
   ]
  },
  {
   "cell_type": "code",
   "execution_count": 27,
   "metadata": {},
   "outputs": [],
   "source": [
    "ra = list(nx.resource_allocation_index(toy_G, test_list))"
   ]
  },
  {
   "cell_type": "code",
   "execution_count": 28,
   "metadata": {},
   "outputs": [
    {
     "data": {
      "text/plain": [
       "[(1, 2, 0),\n",
       " (1, 3, 0.3333333333333333),\n",
       " (1, 4, 1.0),\n",
       " (1, 5, 0.3333333333333333),\n",
       " (1, 7, 0),\n",
       " (2, 8, 0),\n",
       " (3, 4, 0.16666666666666666),\n",
       " (4, 5, 0.16666666666666666),\n",
       " (6, 1, 0),\n",
       " (8, 9, 0),\n",
       " (8, 11, 0)]"
      ]
     },
     "execution_count": 28,
     "metadata": {},
     "output_type": "execute_result"
    }
   ],
   "source": [
    "ra"
   ]
  },
  {
   "cell_type": "code",
   "execution_count": 30,
   "metadata": {},
   "outputs": [],
   "source": [
    "cn = [(e[0], e[1], len(list(nx.common_neighbors(toy_G,e[0], e[1])))) for e in test_list]"
   ]
  },
  {
   "cell_type": "code",
   "execution_count": 31,
   "metadata": {},
   "outputs": [
    {
     "data": {
      "text/plain": [
       "[(1, 2, 0),\n",
       " (1, 3, 1),\n",
       " (1, 4, 2),\n",
       " (1, 5, 1),\n",
       " (1, 7, 0),\n",
       " (2, 8, 0),\n",
       " (3, 4, 1),\n",
       " (4, 5, 1),\n",
       " (6, 1, 0),\n",
       " (8, 9, 0),\n",
       " (8, 11, 0)]"
      ]
     },
     "execution_count": 31,
     "metadata": {},
     "output_type": "execute_result"
    }
   ],
   "source": [
    "cn"
   ]
  },
  {
   "cell_type": "code",
   "execution_count": null,
   "metadata": {},
   "outputs": [],
   "source": []
  },
  {
   "cell_type": "markdown",
   "metadata": {},
   "source": [
    "# Adding the features"
   ]
  },
  {
   "cell_type": "code",
   "execution_count": 32,
   "metadata": {},
   "outputs": [],
   "source": [
    "import pandas as pd\n",
    "import numpy as np"
   ]
  },
  {
   "cell_type": "code",
   "execution_count": 33,
   "metadata": {},
   "outputs": [],
   "source": [
    "import matplotlib.pyplot as plt\n",
    "import seaborn as sns\n",
    "%matplotlib inline"
   ]
  },
  {
   "cell_type": "code",
   "execution_count": 36,
   "metadata": {},
   "outputs": [],
   "source": [
    "import pickle"
   ]
  },
  {
   "cell_type": "code",
   "execution_count": null,
   "metadata": {},
   "outputs": [],
   "source": []
  },
  {
   "cell_type": "code",
   "execution_count": 34,
   "metadata": {},
   "outputs": [],
   "source": [
    "df = pd.read_csv('./finaldata/crawled_50k.csv')"
   ]
  },
  {
   "cell_type": "code",
   "execution_count": 35,
   "metadata": {},
   "outputs": [
    {
     "data": {
      "text/html": [
       "<div>\n",
       "<style scoped>\n",
       "    .dataframe tbody tr th:only-of-type {\n",
       "        vertical-align: middle;\n",
       "    }\n",
       "\n",
       "    .dataframe tbody tr th {\n",
       "        vertical-align: top;\n",
       "    }\n",
       "\n",
       "    .dataframe thead th {\n",
       "        text-align: right;\n",
       "    }\n",
       "</style>\n",
       "<table border=\"1\" class=\"dataframe\">\n",
       "  <thead>\n",
       "    <tr style=\"text-align: right;\">\n",
       "      <th></th>\n",
       "      <th>Source</th>\n",
       "      <th>Sink</th>\n",
       "      <th>Connected</th>\n",
       "    </tr>\n",
       "  </thead>\n",
       "  <tbody>\n",
       "    <tr>\n",
       "      <th>0</th>\n",
       "      <td>1933312</td>\n",
       "      <td>3025121</td>\n",
       "      <td>1</td>\n",
       "    </tr>\n",
       "    <tr>\n",
       "      <th>1</th>\n",
       "      <td>3025121</td>\n",
       "      <td>3178930</td>\n",
       "      <td>1</td>\n",
       "    </tr>\n",
       "    <tr>\n",
       "      <th>2</th>\n",
       "      <td>3178930</td>\n",
       "      <td>1250191</td>\n",
       "      <td>1</td>\n",
       "    </tr>\n",
       "    <tr>\n",
       "      <th>3</th>\n",
       "      <td>3178930</td>\n",
       "      <td>4358590</td>\n",
       "      <td>1</td>\n",
       "    </tr>\n",
       "    <tr>\n",
       "      <th>4</th>\n",
       "      <td>3178930</td>\n",
       "      <td>854764</td>\n",
       "      <td>1</td>\n",
       "    </tr>\n",
       "  </tbody>\n",
       "</table>\n",
       "</div>"
      ],
      "text/plain": [
       "    Source     Sink  Connected\n",
       "0  1933312  3025121          1\n",
       "1  3025121  3178930          1\n",
       "2  3178930  1250191          1\n",
       "3  3178930  4358590          1\n",
       "4  3178930   854764          1"
      ]
     },
     "execution_count": 35,
     "metadata": {},
     "output_type": "execute_result"
    }
   ],
   "source": [
    "df.head()"
   ]
  },
  {
   "cell_type": "code",
   "execution_count": 43,
   "metadata": {},
   "outputs": [],
   "source": [
    "source = [i for i in df['Source']]\n",
    "sink = [i for i in df['Sink']]"
   ]
  },
  {
   "cell_type": "code",
   "execution_count": 48,
   "metadata": {},
   "outputs": [
    {
     "data": {
      "text/plain": [
       "[(1933312, 3025121),\n",
       " (3025121, 3178930),\n",
       " (3178930, 1250191),\n",
       " (3178930, 4358590),\n",
       " (3178930, 854764)]"
      ]
     },
     "execution_count": 48,
     "metadata": {},
     "output_type": "execute_result"
    }
   ],
   "source": [
    "train_pairs = [i for i in zip(source,sink)]\n",
    "train_pairs[:5]"
   ]
  },
  {
   "cell_type": "markdown",
   "metadata": {},
   "source": [
    "## Compute the metrics"
   ]
  },
  {
   "cell_type": "code",
   "execution_count": 51,
   "metadata": {},
   "outputs": [],
   "source": [
    "jc = list(nx.jaccard_coefficient(G, train_pairs))"
   ]
  },
  {
   "cell_type": "code",
   "execution_count": 53,
   "metadata": {},
   "outputs": [],
   "source": [
    "ra = list(nx.resource_allocation_index(G, train_pairs))"
   ]
  },
  {
   "cell_type": "code",
   "execution_count": 55,
   "metadata": {},
   "outputs": [],
   "source": [
    "aa = list(nx.adamic_adar_index(G, train_pairs))"
   ]
  },
  {
   "cell_type": "code",
   "execution_count": 66,
   "metadata": {},
   "outputs": [],
   "source": [
    "pa = list(nx.preferential_attachment(G, train_pairs))"
   ]
  },
  {
   "cell_type": "code",
   "execution_count": 67,
   "metadata": {},
   "outputs": [],
   "source": [
    "cn = [(e[0], e[1], len(list(nx.common_neighbors(G,e[0], e[1])))) for e in train_pairs]"
   ]
  },
  {
   "cell_type": "code",
   "execution_count": null,
   "metadata": {},
   "outputs": [],
   "source": []
  },
  {
   "cell_type": "code",
   "execution_count": null,
   "metadata": {},
   "outputs": [],
   "source": []
  },
  {
   "cell_type": "code",
   "execution_count": null,
   "metadata": {},
   "outputs": [],
   "source": [
    "phi = (1+math.sqrt(5))/2.0 # largest eigenvalue of adj matrix \n",
    "centrality = nx.katz_centrality(toy_G,1/phi-0.01) "
   ]
  },
  {
   "cell_type": "code",
   "execution_count": null,
   "metadata": {},
   "outputs": [],
   "source": [
    "J.in_degree(1933312)"
   ]
  },
  {
   "cell_type": "code",
   "execution_count": 54,
   "metadata": {},
   "outputs": [
    {
     "data": {
      "text/plain": [
       "50368"
      ]
     },
     "execution_count": 54,
     "metadata": {},
     "output_type": "execute_result"
    }
   ],
   "source": [
    "len(ra)"
   ]
  },
  {
   "cell_type": "code",
   "execution_count": 64,
   "metadata": {},
   "outputs": [],
   "source": [
    "df['Jaccard'] = [x[2] for x in jc]"
   ]
  },
  {
   "cell_type": "code",
   "execution_count": 73,
   "metadata": {},
   "outputs": [],
   "source": [
    "df['Resource Allocation']= [x[2] for x in ra]"
   ]
  },
  {
   "cell_type": "code",
   "execution_count": 74,
   "metadata": {},
   "outputs": [],
   "source": [
    "df['Adamic Adar'] = [x[2] for x in aa]"
   ]
  },
  {
   "cell_type": "code",
   "execution_count": 75,
   "metadata": {},
   "outputs": [],
   "source": [
    "df['Preferential Attachment'] = [x[2] for x in pa]"
   ]
  },
  {
   "cell_type": "code",
   "execution_count": 76,
   "metadata": {},
   "outputs": [],
   "source": [
    "df['Common Neighbours'] = [x[2] for x in cn]"
   ]
  },
  {
   "cell_type": "code",
   "execution_count": 77,
   "metadata": {},
   "outputs": [
    {
     "data": {
      "text/html": [
       "<div>\n",
       "<style scoped>\n",
       "    .dataframe tbody tr th:only-of-type {\n",
       "        vertical-align: middle;\n",
       "    }\n",
       "\n",
       "    .dataframe tbody tr th {\n",
       "        vertical-align: top;\n",
       "    }\n",
       "\n",
       "    .dataframe thead th {\n",
       "        text-align: right;\n",
       "    }\n",
       "</style>\n",
       "<table border=\"1\" class=\"dataframe\">\n",
       "  <thead>\n",
       "    <tr style=\"text-align: right;\">\n",
       "      <th></th>\n",
       "      <th>Source</th>\n",
       "      <th>Sink</th>\n",
       "      <th>Connected</th>\n",
       "      <th>Jaccard</th>\n",
       "      <th>Resource Allocation</th>\n",
       "      <th>Adamic Adar</th>\n",
       "      <th>Preferential Attachment</th>\n",
       "      <th>Common Neighbours</th>\n",
       "    </tr>\n",
       "  </thead>\n",
       "  <tbody>\n",
       "    <tr>\n",
       "      <th>0</th>\n",
       "      <td>1933312</td>\n",
       "      <td>3025121</td>\n",
       "      <td>1</td>\n",
       "      <td>0.013393</td>\n",
       "      <td>0.211661</td>\n",
       "      <td>2.150558</td>\n",
       "      <td>86870</td>\n",
       "      <td>9</td>\n",
       "    </tr>\n",
       "    <tr>\n",
       "      <th>1</th>\n",
       "      <td>3025121</td>\n",
       "      <td>3178930</td>\n",
       "      <td>1</td>\n",
       "      <td>0.022556</td>\n",
       "      <td>0.105732</td>\n",
       "      <td>2.245444</td>\n",
       "      <td>16863</td>\n",
       "      <td>12</td>\n",
       "    </tr>\n",
       "    <tr>\n",
       "      <th>2</th>\n",
       "      <td>3178930</td>\n",
       "      <td>1250191</td>\n",
       "      <td>1</td>\n",
       "      <td>0.027778</td>\n",
       "      <td>0.000972</td>\n",
       "      <td>0.144168</td>\n",
       "      <td>132</td>\n",
       "      <td>1</td>\n",
       "    </tr>\n",
       "    <tr>\n",
       "      <th>3</th>\n",
       "      <td>3178930</td>\n",
       "      <td>4358590</td>\n",
       "      <td>1</td>\n",
       "      <td>0.000000</td>\n",
       "      <td>0.000000</td>\n",
       "      <td>0.000000</td>\n",
       "      <td>33</td>\n",
       "      <td>0</td>\n",
       "    </tr>\n",
       "    <tr>\n",
       "      <th>4</th>\n",
       "      <td>3178930</td>\n",
       "      <td>854764</td>\n",
       "      <td>1</td>\n",
       "      <td>0.000000</td>\n",
       "      <td>0.000000</td>\n",
       "      <td>0.000000</td>\n",
       "      <td>33</td>\n",
       "      <td>0</td>\n",
       "    </tr>\n",
       "  </tbody>\n",
       "</table>\n",
       "</div>"
      ],
      "text/plain": [
       "    Source     Sink  Connected   Jaccard  Resource Allocation  Adamic Adar  \\\n",
       "0  1933312  3025121          1  0.013393             0.211661     2.150558   \n",
       "1  3025121  3178930          1  0.022556             0.105732     2.245444   \n",
       "2  3178930  1250191          1  0.027778             0.000972     0.144168   \n",
       "3  3178930  4358590          1  0.000000             0.000000     0.000000   \n",
       "4  3178930   854764          1  0.000000             0.000000     0.000000   \n",
       "\n",
       "   Preferential Attachment  Common Neighbours  \n",
       "0                    86870                  9  \n",
       "1                    16863                 12  \n",
       "2                      132                  1  \n",
       "3                       33                  0  \n",
       "4                       33                  0  "
      ]
     },
     "execution_count": 77,
     "metadata": {},
     "output_type": "execute_result"
    }
   ],
   "source": [
    "df.head()"
   ]
  },
  {
   "cell_type": "code",
   "execution_count": 72,
   "metadata": {},
   "outputs": [
    {
     "data": {
      "text/plain": [
       "[(1933312, 3025121, 9),\n",
       " (3025121, 3178930, 12),\n",
       " (3178930, 1250191, 1),\n",
       " (3178930, 4358590, 0),\n",
       " (3178930, 854764, 0)]"
      ]
     },
     "execution_count": 72,
     "metadata": {},
     "output_type": "execute_result"
    }
   ],
   "source": [
    "cn[:5]"
   ]
  },
  {
   "cell_type": "code",
   "execution_count": null,
   "metadata": {},
   "outputs": [],
   "source": [
    "df.head()"
   ]
  },
  {
   "cell_type": "code",
   "execution_count": null,
   "metadata": {},
   "outputs": [],
   "source": []
  },
  {
   "cell_type": "markdown",
   "metadata": {},
   "source": [
    "### Using the diGraph to calculate the other features"
   ]
  },
  {
   "cell_type": "code",
   "execution_count": null,
   "metadata": {},
   "outputs": [],
   "source": [
    "f=open('./finaldata/di_graph.pickle')\n",
    "diG = pickle.load(f)"
   ]
  },
  {
   "cell_type": "code",
   "execution_count": null,
   "metadata": {},
   "outputs": [],
   "source": [
    "#calculate shortest distance; and if there is no shortest distance i decided to put in 10\n",
    "sp = []\n",
    "for (x,y) in train_pairs:\n",
    "    try:\n",
    "        sp.append(nx.shortest_path_length(J, x, y))\n",
    "    except:\n",
    "        sp.append(10)\n",
    "\n",
    "sp"
   ]
  },
  {
   "cell_type": "code",
   "execution_count": null,
   "metadata": {},
   "outputs": [],
   "source": []
  },
  {
   "cell_type": "code",
   "execution_count": 18,
   "metadata": {},
   "outputs": [],
   "source": [
    "df = pd.read_csv('./finaldata/train_60k.csv')"
   ]
  },
  {
   "cell_type": "code",
   "execution_count": 19,
   "metadata": {},
   "outputs": [
    {
     "data": {
      "text/html": [
       "<div>\n",
       "<style scoped>\n",
       "    .dataframe tbody tr th:only-of-type {\n",
       "        vertical-align: middle;\n",
       "    }\n",
       "\n",
       "    .dataframe tbody tr th {\n",
       "        vertical-align: top;\n",
       "    }\n",
       "\n",
       "    .dataframe thead th {\n",
       "        text-align: right;\n",
       "    }\n",
       "</style>\n",
       "<table border=\"1\" class=\"dataframe\">\n",
       "  <thead>\n",
       "    <tr style=\"text-align: right;\">\n",
       "      <th></th>\n",
       "      <th>Source</th>\n",
       "      <th>Sink</th>\n",
       "      <th>SourceInDegree</th>\n",
       "      <th>SourceOutDegree</th>\n",
       "      <th>SinkInDegree</th>\n",
       "      <th>SinkOutDegree</th>\n",
       "      <th>CommonNeighbors</th>\n",
       "      <th>Jaccard</th>\n",
       "      <th>ResourceAlloc</th>\n",
       "      <th>AdamicAdar</th>\n",
       "      <th>PrefAttach</th>\n",
       "      <th>ShortestPath</th>\n",
       "      <th>N2V_dotprod</th>\n",
       "      <th>Connected</th>\n",
       "    </tr>\n",
       "  </thead>\n",
       "  <tbody>\n",
       "    <tr>\n",
       "      <th>0</th>\n",
       "      <td>1933312</td>\n",
       "      <td>3025121</td>\n",
       "      <td>19</td>\n",
       "      <td>167</td>\n",
       "      <td>189</td>\n",
       "      <td>381</td>\n",
       "      <td>9</td>\n",
       "      <td>0.013393</td>\n",
       "      <td>0.211661</td>\n",
       "      <td>2.150558</td>\n",
       "      <td>86870</td>\n",
       "      <td>1</td>\n",
       "      <td>0.285623</td>\n",
       "      <td>1</td>\n",
       "    </tr>\n",
       "    <tr>\n",
       "      <th>1</th>\n",
       "      <td>3025121</td>\n",
       "      <td>3178930</td>\n",
       "      <td>189</td>\n",
       "      <td>381</td>\n",
       "      <td>11</td>\n",
       "      <td>24</td>\n",
       "      <td>12</td>\n",
       "      <td>0.022556</td>\n",
       "      <td>0.105732</td>\n",
       "      <td>2.245444</td>\n",
       "      <td>16863</td>\n",
       "      <td>1</td>\n",
       "      <td>0.537538</td>\n",
       "      <td>1</td>\n",
       "    </tr>\n",
       "    <tr>\n",
       "      <th>2</th>\n",
       "      <td>3178930</td>\n",
       "      <td>1250191</td>\n",
       "      <td>11</td>\n",
       "      <td>24</td>\n",
       "      <td>4</td>\n",
       "      <td>0</td>\n",
       "      <td>1</td>\n",
       "      <td>0.027778</td>\n",
       "      <td>0.000972</td>\n",
       "      <td>0.144168</td>\n",
       "      <td>132</td>\n",
       "      <td>1</td>\n",
       "      <td>0.348508</td>\n",
       "      <td>1</td>\n",
       "    </tr>\n",
       "    <tr>\n",
       "      <th>3</th>\n",
       "      <td>3178930</td>\n",
       "      <td>4358590</td>\n",
       "      <td>11</td>\n",
       "      <td>24</td>\n",
       "      <td>1</td>\n",
       "      <td>0</td>\n",
       "      <td>0</td>\n",
       "      <td>0.000000</td>\n",
       "      <td>0.000000</td>\n",
       "      <td>0.000000</td>\n",
       "      <td>33</td>\n",
       "      <td>1</td>\n",
       "      <td>-0.055040</td>\n",
       "      <td>1</td>\n",
       "    </tr>\n",
       "    <tr>\n",
       "      <th>4</th>\n",
       "      <td>3178930</td>\n",
       "      <td>854764</td>\n",
       "      <td>11</td>\n",
       "      <td>24</td>\n",
       "      <td>1</td>\n",
       "      <td>0</td>\n",
       "      <td>0</td>\n",
       "      <td>0.000000</td>\n",
       "      <td>0.000000</td>\n",
       "      <td>0.000000</td>\n",
       "      <td>33</td>\n",
       "      <td>1</td>\n",
       "      <td>0.235348</td>\n",
       "      <td>1</td>\n",
       "    </tr>\n",
       "  </tbody>\n",
       "</table>\n",
       "</div>"
      ],
      "text/plain": [
       "    Source     Sink  SourceInDegree  SourceOutDegree  SinkInDegree  \\\n",
       "0  1933312  3025121              19              167           189   \n",
       "1  3025121  3178930             189              381            11   \n",
       "2  3178930  1250191              11               24             4   \n",
       "3  3178930  4358590              11               24             1   \n",
       "4  3178930   854764              11               24             1   \n",
       "\n",
       "   SinkOutDegree  CommonNeighbors   Jaccard  ResourceAlloc  AdamicAdar  \\\n",
       "0            381                9  0.013393       0.211661    2.150558   \n",
       "1             24               12  0.022556       0.105732    2.245444   \n",
       "2              0                1  0.027778       0.000972    0.144168   \n",
       "3              0                0  0.000000       0.000000    0.000000   \n",
       "4              0                0  0.000000       0.000000    0.000000   \n",
       "\n",
       "   PrefAttach  ShortestPath  N2V_dotprod  Connected  \n",
       "0       86870             1     0.285623          1  \n",
       "1       16863             1     0.537538          1  \n",
       "2         132             1     0.348508          1  \n",
       "3          33             1    -0.055040          1  \n",
       "4          33             1     0.235348          1  "
      ]
     },
     "execution_count": 19,
     "metadata": {},
     "output_type": "execute_result"
    }
   ],
   "source": [
    "df.head()"
   ]
  },
  {
   "cell_type": "code",
   "execution_count": null,
   "metadata": {},
   "outputs": [],
   "source": []
  }
 ],
 "metadata": {
  "kernelspec": {
   "display_name": "Python 3",
   "language": "python",
   "name": "python3"
  },
  "language_info": {
   "codemirror_mode": {
    "name": "ipython",
    "version": 3
   },
   "file_extension": ".py",
   "mimetype": "text/x-python",
   "name": "python",
   "nbconvert_exporter": "python",
   "pygments_lexer": "ipython3",
   "version": "3.6.8"
  }
 },
 "nbformat": 4,
 "nbformat_minor": 2
}
