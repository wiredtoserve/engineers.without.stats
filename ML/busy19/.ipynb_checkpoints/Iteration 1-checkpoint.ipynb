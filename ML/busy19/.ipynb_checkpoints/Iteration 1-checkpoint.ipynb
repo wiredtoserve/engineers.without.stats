{
 "cells": [
  {
   "cell_type": "code",
   "execution_count": 1,
   "metadata": {},
   "outputs": [],
   "source": [
    "import pandas as pd\n",
    "import numpy as np"
   ]
  },
  {
   "cell_type": "code",
   "execution_count": 2,
   "metadata": {},
   "outputs": [],
   "source": [
    "import matplotlib.pyplot as plt\n",
    "import seaborn as sns\n",
    "%matplotlib inline"
   ]
  },
  {
   "cell_type": "code",
   "execution_count": 35,
   "metadata": {},
   "outputs": [],
   "source": [
    "import datetime"
   ]
  },
  {
   "cell_type": "code",
   "execution_count": 3,
   "metadata": {},
   "outputs": [],
   "source": [
    "df = pd.read_csv('./finaldata/train_60k.csv')"
   ]
  },
  {
   "cell_type": "code",
   "execution_count": 39,
   "metadata": {},
   "outputs": [],
   "source": [
    "test = pd.read_csv('./finaldata/test_2k.csv')"
   ]
  },
  {
   "cell_type": "code",
   "execution_count": 5,
   "metadata": {},
   "outputs": [],
   "source": [
    "from sklearn.model_selection import train_test_split"
   ]
  },
  {
   "cell_type": "code",
   "execution_count": 6,
   "metadata": {},
   "outputs": [
    {
     "data": {
      "text/html": [
       "<div>\n",
       "<style scoped>\n",
       "    .dataframe tbody tr th:only-of-type {\n",
       "        vertical-align: middle;\n",
       "    }\n",
       "\n",
       "    .dataframe tbody tr th {\n",
       "        vertical-align: top;\n",
       "    }\n",
       "\n",
       "    .dataframe thead th {\n",
       "        text-align: right;\n",
       "    }\n",
       "</style>\n",
       "<table border=\"1\" class=\"dataframe\">\n",
       "  <thead>\n",
       "    <tr style=\"text-align: right;\">\n",
       "      <th></th>\n",
       "      <th>Source</th>\n",
       "      <th>Sink</th>\n",
       "      <th>SourceInDegree</th>\n",
       "      <th>SourceOutDegree</th>\n",
       "      <th>SinkInDegree</th>\n",
       "      <th>SinkOutDegree</th>\n",
       "      <th>CommonNeighbors</th>\n",
       "      <th>Jaccard</th>\n",
       "      <th>ResourceAlloc</th>\n",
       "      <th>AdamicAdar</th>\n",
       "      <th>PrefAttach</th>\n",
       "      <th>ShortestPath</th>\n",
       "      <th>N2V_dotprod</th>\n",
       "      <th>Connected</th>\n",
       "    </tr>\n",
       "  </thead>\n",
       "  <tbody>\n",
       "    <tr>\n",
       "      <th>0</th>\n",
       "      <td>1933312</td>\n",
       "      <td>3025121</td>\n",
       "      <td>19</td>\n",
       "      <td>167</td>\n",
       "      <td>189</td>\n",
       "      <td>381</td>\n",
       "      <td>9</td>\n",
       "      <td>0.013393</td>\n",
       "      <td>0.211661</td>\n",
       "      <td>2.150558</td>\n",
       "      <td>86870</td>\n",
       "      <td>1</td>\n",
       "      <td>0.285623</td>\n",
       "      <td>1</td>\n",
       "    </tr>\n",
       "    <tr>\n",
       "      <th>1</th>\n",
       "      <td>3025121</td>\n",
       "      <td>3178930</td>\n",
       "      <td>189</td>\n",
       "      <td>381</td>\n",
       "      <td>11</td>\n",
       "      <td>24</td>\n",
       "      <td>12</td>\n",
       "      <td>0.022556</td>\n",
       "      <td>0.105732</td>\n",
       "      <td>2.245444</td>\n",
       "      <td>16863</td>\n",
       "      <td>1</td>\n",
       "      <td>0.537538</td>\n",
       "      <td>1</td>\n",
       "    </tr>\n",
       "    <tr>\n",
       "      <th>2</th>\n",
       "      <td>3178930</td>\n",
       "      <td>1250191</td>\n",
       "      <td>11</td>\n",
       "      <td>24</td>\n",
       "      <td>4</td>\n",
       "      <td>0</td>\n",
       "      <td>1</td>\n",
       "      <td>0.027778</td>\n",
       "      <td>0.000972</td>\n",
       "      <td>0.144168</td>\n",
       "      <td>132</td>\n",
       "      <td>1</td>\n",
       "      <td>0.348508</td>\n",
       "      <td>1</td>\n",
       "    </tr>\n",
       "    <tr>\n",
       "      <th>3</th>\n",
       "      <td>3178930</td>\n",
       "      <td>4358590</td>\n",
       "      <td>11</td>\n",
       "      <td>24</td>\n",
       "      <td>1</td>\n",
       "      <td>0</td>\n",
       "      <td>0</td>\n",
       "      <td>0.000000</td>\n",
       "      <td>0.000000</td>\n",
       "      <td>0.000000</td>\n",
       "      <td>33</td>\n",
       "      <td>1</td>\n",
       "      <td>-0.055040</td>\n",
       "      <td>1</td>\n",
       "    </tr>\n",
       "    <tr>\n",
       "      <th>4</th>\n",
       "      <td>3178930</td>\n",
       "      <td>854764</td>\n",
       "      <td>11</td>\n",
       "      <td>24</td>\n",
       "      <td>1</td>\n",
       "      <td>0</td>\n",
       "      <td>0</td>\n",
       "      <td>0.000000</td>\n",
       "      <td>0.000000</td>\n",
       "      <td>0.000000</td>\n",
       "      <td>33</td>\n",
       "      <td>1</td>\n",
       "      <td>0.235348</td>\n",
       "      <td>1</td>\n",
       "    </tr>\n",
       "  </tbody>\n",
       "</table>\n",
       "</div>"
      ],
      "text/plain": [
       "    Source     Sink  SourceInDegree  SourceOutDegree  SinkInDegree  \\\n",
       "0  1933312  3025121              19              167           189   \n",
       "1  3025121  3178930             189              381            11   \n",
       "2  3178930  1250191              11               24             4   \n",
       "3  3178930  4358590              11               24             1   \n",
       "4  3178930   854764              11               24             1   \n",
       "\n",
       "   SinkOutDegree  CommonNeighbors   Jaccard  ResourceAlloc  AdamicAdar  \\\n",
       "0            381                9  0.013393       0.211661    2.150558   \n",
       "1             24               12  0.022556       0.105732    2.245444   \n",
       "2              0                1  0.027778       0.000972    0.144168   \n",
       "3              0                0  0.000000       0.000000    0.000000   \n",
       "4              0                0  0.000000       0.000000    0.000000   \n",
       "\n",
       "   PrefAttach  ShortestPath  N2V_dotprod  Connected  \n",
       "0       86870             1     0.285623          1  \n",
       "1       16863             1     0.537538          1  \n",
       "2         132             1     0.348508          1  \n",
       "3          33             1    -0.055040          1  \n",
       "4          33             1     0.235348          1  "
      ]
     },
     "execution_count": 6,
     "metadata": {},
     "output_type": "execute_result"
    }
   ],
   "source": [
    "df.head()"
   ]
  },
  {
   "cell_type": "code",
   "execution_count": 7,
   "metadata": {},
   "outputs": [],
   "source": [
    "X = df.drop(['Connected', 'Source', 'Sink'], axis = 1)\n",
    "y = df['Connected']"
   ]
  },
  {
   "cell_type": "code",
   "execution_count": 8,
   "metadata": {},
   "outputs": [
    {
     "data": {
      "text/plain": [
       "<matplotlib.axes._subplots.AxesSubplot at 0x1a24cadd30>"
      ]
     },
     "execution_count": 8,
     "metadata": {},
     "output_type": "execute_result"
    },
    {
     "data": {
      "image/png": "[encoded data removed]",
      "text/plain": [
       "<Figure size 864x432 with 2 Axes>"
      ]
     },
     "metadata": {
      "needs_background": "light"
     },
     "output_type": "display_data"
    }
   ],
   "source": [
    "plt.figure(figsize=(12,6))\n",
    "sns.heatmap(X.corr(), cmap='viridis', annot=True)"
   ]
  },
  {
   "cell_type": "code",
   "execution_count": 24,
   "metadata": {},
   "outputs": [],
   "source": [
    "def generate_submission(predictions):\n",
    "    id_list = [x for x in range(1,2001)]\n",
    "    pred_list = [x for x in predictions[:,1]]\n",
    "    pred = pd.DataFrame(list(zip(id_list, pred_list)), columns=['Id','Predictions'])\n",
    "    pred.to_csv(f'./submissions/submit_{datetime.datetime.now()}.csv', index=False)"
   ]
  },
  {
   "cell_type": "code",
   "execution_count": 40,
   "metadata": {},
   "outputs": [
    {
     "data": {
      "text/html": [
       "<div>\n",
       "<style scoped>\n",
       "    .dataframe tbody tr th:only-of-type {\n",
       "        vertical-align: middle;\n",
       "    }\n",
       "\n",
       "    .dataframe tbody tr th {\n",
       "        vertical-align: top;\n",
       "    }\n",
       "\n",
       "    .dataframe thead th {\n",
       "        text-align: right;\n",
       "    }\n",
       "</style>\n",
       "<table border=\"1\" class=\"dataframe\">\n",
       "  <thead>\n",
       "    <tr style=\"text-align: right;\">\n",
       "      <th></th>\n",
       "      <th>Source</th>\n",
       "      <th>Sink</th>\n",
       "      <th>SourceInDegree</th>\n",
       "      <th>SourceOutDegree</th>\n",
       "      <th>SinkInDegree</th>\n",
       "      <th>SinkOutDegree</th>\n",
       "      <th>CommonNeighbors</th>\n",
       "      <th>Jaccard</th>\n",
       "      <th>ResourceAlloc</th>\n",
       "      <th>AdamicAdar</th>\n",
       "      <th>PrefAttach</th>\n",
       "      <th>ShortestPath</th>\n",
       "      <th>N2V_dotprod</th>\n",
       "    </tr>\n",
       "  </thead>\n",
       "  <tbody>\n",
       "    <tr>\n",
       "      <th>0</th>\n",
       "      <td>2184483</td>\n",
       "      <td>1300190</td>\n",
       "      <td>102</td>\n",
       "      <td>83</td>\n",
       "      <td>3</td>\n",
       "      <td>0</td>\n",
       "      <td>0</td>\n",
       "      <td>0.000000</td>\n",
       "      <td>0.000000</td>\n",
       "      <td>0.000000</td>\n",
       "      <td>435</td>\n",
       "      <td>3</td>\n",
       "      <td>0.131168</td>\n",
       "    </tr>\n",
       "    <tr>\n",
       "      <th>1</th>\n",
       "      <td>3151356</td>\n",
       "      <td>1452193</td>\n",
       "      <td>39</td>\n",
       "      <td>340</td>\n",
       "      <td>289</td>\n",
       "      <td>0</td>\n",
       "      <td>4</td>\n",
       "      <td>0.006260</td>\n",
       "      <td>0.000740</td>\n",
       "      <td>0.407705</td>\n",
       "      <td>102306</td>\n",
       "      <td>2</td>\n",
       "      <td>-0.188574</td>\n",
       "    </tr>\n",
       "    <tr>\n",
       "      <th>2</th>\n",
       "      <td>1579396</td>\n",
       "      <td>193159</td>\n",
       "      <td>13</td>\n",
       "      <td>208</td>\n",
       "      <td>2</td>\n",
       "      <td>0</td>\n",
       "      <td>0</td>\n",
       "      <td>0.000000</td>\n",
       "      <td>0.000000</td>\n",
       "      <td>0.000000</td>\n",
       "      <td>418</td>\n",
       "      <td>3</td>\n",
       "      <td>-0.021402</td>\n",
       "    </tr>\n",
       "    <tr>\n",
       "      <th>3</th>\n",
       "      <td>1406432</td>\n",
       "      <td>2481036</td>\n",
       "      <td>16</td>\n",
       "      <td>84</td>\n",
       "      <td>24</td>\n",
       "      <td>14</td>\n",
       "      <td>7</td>\n",
       "      <td>0.062500</td>\n",
       "      <td>0.032617</td>\n",
       "      <td>1.238898</td>\n",
       "      <td>2838</td>\n",
       "      <td>2</td>\n",
       "      <td>0.011010</td>\n",
       "    </tr>\n",
       "    <tr>\n",
       "      <th>4</th>\n",
       "      <td>2389638</td>\n",
       "      <td>593017</td>\n",
       "      <td>30</td>\n",
       "      <td>267</td>\n",
       "      <td>165</td>\n",
       "      <td>58</td>\n",
       "      <td>6</td>\n",
       "      <td>0.012072</td>\n",
       "      <td>0.006229</td>\n",
       "      <td>0.802812</td>\n",
       "      <td>62196</td>\n",
       "      <td>3</td>\n",
       "      <td>-0.044647</td>\n",
       "    </tr>\n",
       "  </tbody>\n",
       "</table>\n",
       "</div>"
      ],
      "text/plain": [
       "    Source     Sink  SourceInDegree  SourceOutDegree  SinkInDegree  \\\n",
       "0  2184483  1300190             102               83             3   \n",
       "1  3151356  1452193              39              340           289   \n",
       "2  1579396   193159              13              208             2   \n",
       "3  1406432  2481036              16               84            24   \n",
       "4  2389638   593017              30              267           165   \n",
       "\n",
       "   SinkOutDegree  CommonNeighbors   Jaccard  ResourceAlloc  AdamicAdar  \\\n",
       "0              0                0  0.000000       0.000000    0.000000   \n",
       "1              0                4  0.006260       0.000740    0.407705   \n",
       "2              0                0  0.000000       0.000000    0.000000   \n",
       "3             14                7  0.062500       0.032617    1.238898   \n",
       "4             58                6  0.012072       0.006229    0.802812   \n",
       "\n",
       "   PrefAttach  ShortestPath  N2V_dotprod  \n",
       "0         435             3     0.131168  \n",
       "1      102306             2    -0.188574  \n",
       "2         418             3    -0.021402  \n",
       "3        2838             2     0.011010  \n",
       "4       62196             3    -0.044647  "
      ]
     },
     "execution_count": 40,
     "metadata": {},
     "output_type": "execute_result"
    }
   ],
   "source": [
    "test.head()"
   ]
  },
  {
   "cell_type": "code",
   "execution_count": 41,
   "metadata": {},
   "outputs": [],
   "source": [
    "# getting the labels\n",
    "label_predictors = test.drop(['Source', 'Sink'], axis = 1)"
   ]
  },
  {
   "cell_type": "code",
   "execution_count": null,
   "metadata": {},
   "outputs": [],
   "source": []
  },
  {
   "cell_type": "code",
   "execution_count": 63,
   "metadata": {},
   "outputs": [
    {
     "data": {
      "text/html": [
       "<div>\n",
       "<style scoped>\n",
       "    .dataframe tbody tr th:only-of-type {\n",
       "        vertical-align: middle;\n",
       "    }\n",
       "\n",
       "    .dataframe tbody tr th {\n",
       "        vertical-align: top;\n",
       "    }\n",
       "\n",
       "    .dataframe thead th {\n",
       "        text-align: right;\n",
       "    }\n",
       "</style>\n",
       "<table border=\"1\" class=\"dataframe\">\n",
       "  <thead>\n",
       "    <tr style=\"text-align: right;\">\n",
       "      <th></th>\n",
       "      <th>SourceInDegree</th>\n",
       "      <th>SourceOutDegree</th>\n",
       "      <th>SinkInDegree</th>\n",
       "      <th>SinkOutDegree</th>\n",
       "      <th>CommonNeighbors</th>\n",
       "      <th>Jaccard</th>\n",
       "      <th>ResourceAlloc</th>\n",
       "      <th>AdamicAdar</th>\n",
       "      <th>PrefAttach</th>\n",
       "      <th>ShortestPath</th>\n",
       "      <th>N2V_dotprod</th>\n",
       "    </tr>\n",
       "  </thead>\n",
       "  <tbody>\n",
       "    <tr>\n",
       "      <th>0</th>\n",
       "      <td>102</td>\n",
       "      <td>83</td>\n",
       "      <td>3</td>\n",
       "      <td>0</td>\n",
       "      <td>0</td>\n",
       "      <td>0.000000</td>\n",
       "      <td>0.000000</td>\n",
       "      <td>0.000000</td>\n",
       "      <td>435</td>\n",
       "      <td>3</td>\n",
       "      <td>0.131168</td>\n",
       "    </tr>\n",
       "    <tr>\n",
       "      <th>1</th>\n",
       "      <td>39</td>\n",
       "      <td>340</td>\n",
       "      <td>289</td>\n",
       "      <td>0</td>\n",
       "      <td>4</td>\n",
       "      <td>0.006260</td>\n",
       "      <td>0.000740</td>\n",
       "      <td>0.407705</td>\n",
       "      <td>102306</td>\n",
       "      <td>2</td>\n",
       "      <td>-0.188574</td>\n",
       "    </tr>\n",
       "    <tr>\n",
       "      <th>2</th>\n",
       "      <td>13</td>\n",
       "      <td>208</td>\n",
       "      <td>2</td>\n",
       "      <td>0</td>\n",
       "      <td>0</td>\n",
       "      <td>0.000000</td>\n",
       "      <td>0.000000</td>\n",
       "      <td>0.000000</td>\n",
       "      <td>418</td>\n",
       "      <td>3</td>\n",
       "      <td>-0.021402</td>\n",
       "    </tr>\n",
       "    <tr>\n",
       "      <th>3</th>\n",
       "      <td>16</td>\n",
       "      <td>84</td>\n",
       "      <td>24</td>\n",
       "      <td>14</td>\n",
       "      <td>7</td>\n",
       "      <td>0.062500</td>\n",
       "      <td>0.032617</td>\n",
       "      <td>1.238898</td>\n",
       "      <td>2838</td>\n",
       "      <td>2</td>\n",
       "      <td>0.011010</td>\n",
       "    </tr>\n",
       "    <tr>\n",
       "      <th>4</th>\n",
       "      <td>30</td>\n",
       "      <td>267</td>\n",
       "      <td>165</td>\n",
       "      <td>58</td>\n",
       "      <td>6</td>\n",
       "      <td>0.012072</td>\n",
       "      <td>0.006229</td>\n",
       "      <td>0.802812</td>\n",
       "      <td>62196</td>\n",
       "      <td>3</td>\n",
       "      <td>-0.044647</td>\n",
       "    </tr>\n",
       "  </tbody>\n",
       "</table>\n",
       "</div>"
      ],
      "text/plain": [
       "   SourceInDegree  SourceOutDegree  SinkInDegree  SinkOutDegree  \\\n",
       "0             102               83             3              0   \n",
       "1              39              340           289              0   \n",
       "2              13              208             2              0   \n",
       "3              16               84            24             14   \n",
       "4              30              267           165             58   \n",
       "\n",
       "   CommonNeighbors   Jaccard  ResourceAlloc  AdamicAdar  PrefAttach  \\\n",
       "0                0  0.000000       0.000000    0.000000         435   \n",
       "1                4  0.006260       0.000740    0.407705      102306   \n",
       "2                0  0.000000       0.000000    0.000000         418   \n",
       "3                7  0.062500       0.032617    1.238898        2838   \n",
       "4                6  0.012072       0.006229    0.802812       62196   \n",
       "\n",
       "   ShortestPath  N2V_dotprod  \n",
       "0             3     0.131168  \n",
       "1             2    -0.188574  \n",
       "2             3    -0.021402  \n",
       "3             2     0.011010  \n",
       "4             3    -0.044647  "
      ]
     },
     "execution_count": 63,
     "metadata": {},
     "output_type": "execute_result"
    }
   ],
   "source": [
    "label_predictors.head()"
   ]
  },
  {
   "cell_type": "code",
   "execution_count": 9,
   "metadata": {},
   "outputs": [],
   "source": [
    "X_train, X_test, y_train, y_test = train_test_split(X, y, test_size = 0.2, random_state = 42)"
   ]
  },
  {
   "cell_type": "markdown",
   "metadata": {},
   "source": [
    "# Random Forrest Classifier"
   ]
  },
  {
   "cell_type": "code",
   "execution_count": 10,
   "metadata": {},
   "outputs": [],
   "source": [
    "from sklearn.ensemble import RandomForestClassifier"
   ]
  },
  {
   "cell_type": "code",
   "execution_count": 22,
   "metadata": {},
   "outputs": [],
   "source": [
    "from sklearn.metrics import classification_report"
   ]
  },
  {
   "cell_type": "code",
   "execution_count": 19,
   "metadata": {},
   "outputs": [],
   "source": [
    "rf = RandomForestClassifier(n_estimators=10)"
   ]
  },
  {
   "cell_type": "code",
   "execution_count": 20,
   "metadata": {},
   "outputs": [
    {
     "data": {
      "text/plain": [
       "RandomForestClassifier(bootstrap=True, class_weight=None, criterion='gini',\n",
       "                       max_depth=None, max_features='auto', max_leaf_nodes=None,\n",
       "                       min_impurity_decrease=0.0, min_impurity_split=None,\n",
       "                       min_samples_leaf=1, min_samples_split=2,\n",
       "                       min_weight_fraction_leaf=0.0, n_estimators=10,\n",
       "                       n_jobs=None, oob_score=False, random_state=None,\n",
       "                       verbose=0, warm_start=False)"
      ]
     },
     "execution_count": 20,
     "metadata": {},
     "output_type": "execute_result"
    }
   ],
   "source": [
    "rf.fit(X_train, y_train)"
   ]
  },
  {
   "cell_type": "code",
   "execution_count": 21,
   "metadata": {},
   "outputs": [],
   "source": [
    "validate = rf.predict(X_test)"
   ]
  },
  {
   "cell_type": "code",
   "execution_count": 23,
   "metadata": {},
   "outputs": [
    {
     "name": "stdout",
     "output_type": "stream",
     "text": [
      "              precision    recall  f1-score   support\n",
      "\n",
      "           0       1.00      1.00      1.00      6061\n",
      "           1       1.00      1.00      1.00      5899\n",
      "\n",
      "    accuracy                           1.00     11960\n",
      "   macro avg       1.00      1.00      1.00     11960\n",
      "weighted avg       1.00      1.00      1.00     11960\n",
      "\n"
     ]
    }
   ],
   "source": [
    "print(classification_report(y_test, validate))"
   ]
  },
  {
   "cell_type": "code",
   "execution_count": 43,
   "metadata": {},
   "outputs": [],
   "source": [
    "predictions = rf.predict_proba(label_predictors)"
   ]
  },
  {
   "cell_type": "code",
   "execution_count": 44,
   "metadata": {},
   "outputs": [
    {
     "data": {
      "text/plain": [
       "array([[1. , 0. ],\n",
       "       [0.8, 0.2],\n",
       "       [1. , 0. ],\n",
       "       ...,\n",
       "       [1. , 0. ],\n",
       "       [0.9, 0.1],\n",
       "       [1. , 0. ]])"
      ]
     },
     "execution_count": 44,
     "metadata": {},
     "output_type": "execute_result"
    }
   ],
   "source": [
    "predictions"
   ]
  },
  {
   "cell_type": "code",
   "execution_count": 45,
   "metadata": {},
   "outputs": [],
   "source": [
    "generate_submission(predictions)"
   ]
  },
  {
   "cell_type": "markdown",
   "metadata": {},
   "source": [
    "# Logistic Regression"
   ]
  },
  {
   "cell_type": "code",
   "execution_count": 26,
   "metadata": {},
   "outputs": [],
   "source": [
    "from sklearn.linear_model import LogisticRegression"
   ]
  },
  {
   "cell_type": "code",
   "execution_count": 48,
   "metadata": {},
   "outputs": [],
   "source": [
    "lr = LogisticRegression(solver='lbfgs')"
   ]
  },
  {
   "cell_type": "code",
   "execution_count": 60,
   "metadata": {},
   "outputs": [
    {
     "data": {
      "text/plain": [
       "LogisticRegression(C=1.0, class_weight=None, dual=False, fit_intercept=True,\n",
       "                   intercept_scaling=1, l1_ratio=None, max_iter=100,\n",
       "                   multi_class='warn', n_jobs=None, penalty='l2',\n",
       "                   random_state=None, solver='lbfgs', tol=0.0001, verbose=0,\n",
       "                   warm_start=False)"
      ]
     },
     "execution_count": 60,
     "metadata": {},
     "output_type": "execute_result"
    }
   ],
   "source": [
    "lr.fit(X_train, y_train)"
   ]
  },
  {
   "cell_type": "code",
   "execution_count": 61,
   "metadata": {},
   "outputs": [],
   "source": [
    "validations = lr.predict(X_test)"
   ]
  },
  {
   "cell_type": "code",
   "execution_count": 62,
   "metadata": {},
   "outputs": [
    {
     "name": "stdout",
     "output_type": "stream",
     "text": [
      "              precision    recall  f1-score   support\n",
      "\n",
      "           0       0.79      0.01      0.01      6061\n",
      "           1       0.49      1.00      0.66      5899\n",
      "\n",
      "    accuracy                           0.50     11960\n",
      "   macro avg       0.64      0.50      0.34     11960\n",
      "weighted avg       0.64      0.50      0.33     11960\n",
      "\n"
     ]
    }
   ],
   "source": [
    "print(classification_report(y_test, validations))"
   ]
  },
  {
   "cell_type": "code",
   "execution_count": 64,
   "metadata": {},
   "outputs": [],
   "source": [
    "predictions = lr.predict_proba(label_predictors)"
   ]
  },
  {
   "cell_type": "code",
   "execution_count": 66,
   "metadata": {},
   "outputs": [],
   "source": [
    "generate_submission(predictions)"
   ]
  },
  {
   "cell_type": "markdown",
   "metadata": {},
   "source": [
    "# XG Boost"
   ]
  },
  {
   "cell_type": "code",
   "execution_count": 53,
   "metadata": {},
   "outputs": [],
   "source": [
    "from xgboost import XGBClassifier, XGBRegressor"
   ]
  },
  {
   "cell_type": "code",
   "execution_count": 54,
   "metadata": {},
   "outputs": [
    {
     "data": {
      "text/plain": [
       "XGBClassifier(base_score=0.5, booster='gbtree', colsample_bylevel=1,\n",
       "              colsample_bytree=1, gamma=0, learning_rate=0.1, max_delta_step=0,\n",
       "              max_depth=3, min_child_weight=1, missing=None, n_estimators=100,\n",
       "              n_jobs=1, nthread=None, objective='binary:logistic',\n",
       "              random_state=0, reg_alpha=0, reg_lambda=1, scale_pos_weight=1,\n",
       "              seed=None, silent=True, subsample=1)"
      ]
     },
     "execution_count": 54,
     "metadata": {},
     "output_type": "execute_result"
    }
   ],
   "source": [
    "model = XGBClassifier()\n",
    "model.fit(X_train, y_train)"
   ]
  },
  {
   "cell_type": "code",
   "execution_count": 55,
   "metadata": {},
   "outputs": [],
   "source": [
    "validations = model.predict(X_test)"
   ]
  },
  {
   "cell_type": "code",
   "execution_count": 56,
   "metadata": {},
   "outputs": [
    {
     "name": "stdout",
     "output_type": "stream",
     "text": [
      "              precision    recall  f1-score   support\n",
      "\n",
      "           0       1.00      1.00      1.00      6061\n",
      "           1       1.00      1.00      1.00      5899\n",
      "\n",
      "    accuracy                           1.00     11960\n",
      "   macro avg       1.00      1.00      1.00     11960\n",
      "weighted avg       1.00      1.00      1.00     11960\n",
      "\n"
     ]
    }
   ],
   "source": [
    "print(classification_report(y_test, validations))"
   ]
  },
  {
   "cell_type": "code",
   "execution_count": 57,
   "metadata": {},
   "outputs": [],
   "source": [
    "predictions = model.predict_proba(label_predictors)"
   ]
  },
  {
   "cell_type": "code",
   "execution_count": 59,
   "metadata": {},
   "outputs": [],
   "source": [
    "generate_submission(predictions)"
   ]
  },
  {
   "cell_type": "code",
   "execution_count": null,
   "metadata": {},
   "outputs": [],
   "source": []
  }
 ],
 "metadata": {
  "kernelspec": {
   "display_name": "Python 3",
   "language": "python",
   "name": "python3"
  },
  "language_info": {
   "codemirror_mode": {
    "name": "ipython",
    "version": 3
   },
   "file_extension": ".py",
   "mimetype": "text/x-python",
   "name": "python",
   "nbconvert_exporter": "python",
   "pygments_lexer": "ipython3",
   "version": "3.6.8"
  }
 },
 "nbformat": 4,
 "nbformat_minor": 2
}
