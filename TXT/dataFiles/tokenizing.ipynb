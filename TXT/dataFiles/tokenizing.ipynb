{
 "cells": [
  {
   "cell_type": "code",
   "execution_count": 1,
   "metadata": {},
   "outputs": [],
   "source": [
    "import spacy\n",
    "from spacy.lang.en.stop_words import STOP_WORDS\n",
    "import re"
   ]
  },
  {
   "cell_type": "code",
   "execution_count": 2,
   "metadata": {},
   "outputs": [],
   "source": [
    "import pickle"
   ]
  },
  {
   "cell_type": "code",
   "execution_count": 3,
   "metadata": {},
   "outputs": [],
   "source": [
    "import pandas as pd\n",
    "import numpy as np"
   ]
  },
  {
   "cell_type": "code",
   "execution_count": 4,
   "metadata": {},
   "outputs": [],
   "source": [
    "import matplotlib.pyplot as plt\n",
    "import seaborn as sns\n",
    "%matplotlib inline"
   ]
  },
  {
   "cell_type": "code",
   "execution_count": 5,
   "metadata": {},
   "outputs": [],
   "source": [
    "# python -m spacy download en_core_web_sm\n",
    "nlp = spacy.load(\"en_core_web_sm\")"
   ]
  },
  {
   "cell_type": "code",
   "execution_count": 6,
   "metadata": {},
   "outputs": [],
   "source": [
    "def tokeniser(sentence):\n",
    " \n",
    "    # Remove ||| from kaggle dataset\n",
    "    sentence = re.sub(\"[]|||[]\", \" \", sentence)\n",
    "\n",
    "    # remove reddit subreddit urls\n",
    "    sentence = re.sub(\"/r/[0-9A-Za-z]\", \"\", sentence)\n",
    "\n",
    "    # remove MBTI types\n",
    "    MBTI_types = ['INFJ', 'ENTP', 'INTP', 'INTJ', 'ENTJ', 'ENFJ', 'INFP', 'ENFP',\n",
    "              'ISFP', 'ISTP', 'ISFJ', 'ISTJ', 'ESTP', 'ESFP', 'ESTJ', 'ESFJ',\n",
    "              'MBTI']\n",
    "    MBTI_types = [ti.lower() for ti in MBTI_types] + [ti.lower() + 's' for ti in MBTI_types]\n",
    "\n",
    "    tokens = nlp(sentence)\n",
    "\n",
    "    tokens = [ti for ti in tokens if ti.lower_ not in STOP_WORDS]\n",
    "    tokens = [ti for ti in tokens if not ti.is_space]\n",
    "    tokens = [ti for ti in tokens if not ti.is_punct]\n",
    "    tokens = [ti for ti in tokens if not ti.like_num]\n",
    "    tokens = [ti for ti in tokens if not ti.like_url]\n",
    "    tokens = [ti for ti in tokens if not ti.like_email]\n",
    "    tokens = [ti for ti in tokens if ti.lower_ not in MBTI_types]\n",
    "\n",
    "\n",
    "    # lemmatize\n",
    "    tokens = [ti.lemma_ for ti in tokens if ti.lemma_ not in STOP_WORDS]\n",
    "    tokens = [ti for ti in tokens if len(ti) > 1]\n",
    "\n",
    "    return tokens"
   ]
  },
  {
   "cell_type": "code",
   "execution_count": 7,
   "metadata": {},
   "outputs": [],
   "source": [
    "df = pd.read_csv('linkedIn_data.csv')"
   ]
  },
  {
   "cell_type": "code",
   "execution_count": 8,
   "metadata": {},
   "outputs": [
    {
     "data": {
      "text/html": [
       "<div>\n",
       "<style scoped>\n",
       "    .dataframe tbody tr th:only-of-type {\n",
       "        vertical-align: middle;\n",
       "    }\n",
       "\n",
       "    .dataframe tbody tr th {\n",
       "        vertical-align: top;\n",
       "    }\n",
       "\n",
       "    .dataframe thead th {\n",
       "        text-align: right;\n",
       "    }\n",
       "</style>\n",
       "<table border=\"1\" class=\"dataframe\">\n",
       "  <thead>\n",
       "    <tr style=\"text-align: right;\">\n",
       "      <th></th>\n",
       "      <th>Unnamed: 0</th>\n",
       "      <th>Idx</th>\n",
       "      <th>Locality</th>\n",
       "      <th>Industry</th>\n",
       "      <th>Start</th>\n",
       "      <th>Title</th>\n",
       "      <th>Company</th>\n",
       "      <th>Post</th>\n",
       "    </tr>\n",
       "  </thead>\n",
       "  <tbody>\n",
       "    <tr>\n",
       "      <th>0</th>\n",
       "      <td>0</td>\n",
       "      <td>in-101943</td>\n",
       "      <td>Amsterdam Area, Netherlands</td>\n",
       "      <td>Computersoftware</td>\n",
       "      <td>February 2011</td>\n",
       "      <td>Head Enterprise Search EMEA</td>\n",
       "      <td>Google</td>\n",
       "      <td>Currently run Google's Enterprise Search Divis...</td>\n",
       "    </tr>\n",
       "    <tr>\n",
       "      <th>1</th>\n",
       "      <td>1</td>\n",
       "      <td>in-1brianhansen</td>\n",
       "      <td>Redmond, Washington</td>\n",
       "      <td>Information Technology and Services</td>\n",
       "      <td>July 2012</td>\n",
       "      <td>Senior Director, Venture Integration - Operations</td>\n",
       "      <td>Microsoft</td>\n",
       "      <td>In the area of Mergers &amp; Acquisition, we lead ...</td>\n",
       "    </tr>\n",
       "    <tr>\n",
       "      <th>2</th>\n",
       "      <td>2</td>\n",
       "      <td>in-1bryanrichardson</td>\n",
       "      <td>Toronto, Canada Area</td>\n",
       "      <td>Management Consulting</td>\n",
       "      <td>January 2012</td>\n",
       "      <td>Manager - Financial Advisory - Advanced Analytics</td>\n",
       "      <td>Deloitte</td>\n",
       "      <td>I help clients with risk management and fact b...</td>\n",
       "    </tr>\n",
       "    <tr>\n",
       "      <th>3</th>\n",
       "      <td>3</td>\n",
       "      <td>in-1rickharris</td>\n",
       "      <td>Toronto, Canada Area</td>\n",
       "      <td>Computer Software</td>\n",
       "      <td>August 2012</td>\n",
       "      <td>Technical Project Manager</td>\n",
       "      <td>Hewlett-Packard</td>\n",
       "      <td>Rick Harris is an experienced Technical Consul...</td>\n",
       "    </tr>\n",
       "    <tr>\n",
       "      <th>4</th>\n",
       "      <td>9</td>\n",
       "      <td>in-5imonfletcher</td>\n",
       "      <td>Cleveland, United Kingdom</td>\n",
       "      <td>Outsourcing/Offshoring</td>\n",
       "      <td>September 2006</td>\n",
       "      <td>Head of Outsource Operations</td>\n",
       "      <td>IBM</td>\n",
       "      <td>A motivated and committed inspirational Senior...</td>\n",
       "    </tr>\n",
       "  </tbody>\n",
       "</table>\n",
       "</div>"
      ],
      "text/plain": [
       "   Unnamed: 0                  Idx                     Locality  \\\n",
       "0           0            in-101943  Amsterdam Area, Netherlands   \n",
       "1           1      in-1brianhansen          Redmond, Washington   \n",
       "2           2  in-1bryanrichardson         Toronto, Canada Area   \n",
       "3           3       in-1rickharris         Toronto, Canada Area   \n",
       "4           9     in-5imonfletcher    Cleveland, United Kingdom   \n",
       "\n",
       "                              Industry           Start  \\\n",
       "0                     Computersoftware   February 2011   \n",
       "1  Information Technology and Services       July 2012   \n",
       "2                Management Consulting    January 2012   \n",
       "3                    Computer Software     August 2012   \n",
       "4               Outsourcing/Offshoring  September 2006   \n",
       "\n",
       "                                               Title          Company  \\\n",
       "0                        Head Enterprise Search EMEA           Google   \n",
       "1  Senior Director, Venture Integration - Operations        Microsoft   \n",
       "2  Manager - Financial Advisory - Advanced Analytics         Deloitte   \n",
       "3                          Technical Project Manager  Hewlett-Packard   \n",
       "4                       Head of Outsource Operations              IBM   \n",
       "\n",
       "                                                Post  \n",
       "0  Currently run Google's Enterprise Search Divis...  \n",
       "1  In the area of Mergers & Acquisition, we lead ...  \n",
       "2  I help clients with risk management and fact b...  \n",
       "3  Rick Harris is an experienced Technical Consul...  \n",
       "4  A motivated and committed inspirational Senior...  "
      ]
     },
     "execution_count": 8,
     "metadata": {},
     "output_type": "execute_result"
    }
   ],
   "source": [
    "df.head()"
   ]
  },
  {
   "cell_type": "code",
   "execution_count": 9,
   "metadata": {},
   "outputs": [
    {
     "data": {
      "text/plain": [
       "['currently',\n",
       " 'run',\n",
       " 'google',\n",
       " \"'s\",\n",
       " 'enterprise',\n",
       " 'search',\n",
       " 'division',\n",
       " 'europe',\n",
       " 'middle',\n",
       " 'east',\n",
       " 'africa',\n",
       " 'overall',\n",
       " 'responsible',\n",
       " 'build',\n",
       " 'manage',\n",
       " 'team',\n",
       " 'revenue',\n",
       " 'emea.google',\n",
       " 'enterprise',\n",
       " 'fast',\n",
       " 'grow',\n",
       " 'business',\n",
       " 'google',\n",
       " 'provide',\n",
       " 'software',\n",
       " 'solution',\n",
       " 'organization',\n",
       " 'following',\n",
       " 'product',\n",
       " 'area',\n",
       " 'google',\n",
       " 'applicationsenterprise',\n",
       " 'searchsecuritygeo',\n",
       " 'spatial',\n",
       " 'key',\n",
       " 'word',\n",
       " 'sales',\n",
       " 'management',\n",
       " 'high',\n",
       " 'tech',\n",
       " 'web',\n",
       " 'enterprise',\n",
       " 'enterprise',\n",
       " 'search',\n",
       " 'saas',\n",
       " 'cloud',\n",
       " 'computing',\n",
       " 'software',\n",
       " 'service',\n",
       " 'collaboration',\n",
       " 'tools',\n",
       " 'software']"
      ]
     },
     "execution_count": 9,
     "metadata": {},
     "output_type": "execute_result"
    }
   ],
   "source": [
    "tokeniser(df['Post'][0])"
   ]
  },
  {
   "cell_type": "code",
   "execution_count": 16,
   "metadata": {},
   "outputs": [
    {
     "data": {
      "text/plain": [
       "Information Technology and Services         2628\n",
       "Computer Software                           1362\n",
       "Accounting                                  1039\n",
       "Management Consulting                        929\n",
       "Financial Services                           543\n",
       "Internet                                     383\n",
       "Servicios y tecnología de la información     295\n",
       "Tecnologia da informação e serviços          264\n",
       "Human Resources                              213\n",
       "Marketing and Advertising                    187\n",
       "Name: Industry, dtype: int64"
      ]
     },
     "execution_count": 16,
     "metadata": {},
     "output_type": "execute_result"
    }
   ],
   "source": [
    "df['Industry'].value_counts()[:10]"
   ]
  },
  {
   "cell_type": "code",
   "execution_count": 17,
   "metadata": {},
   "outputs": [],
   "source": [
    "with open('./pickle files/NB_classifier.pickle', 'rb') as f:\n",
    "    clf = pickle.load(f)"
   ]
  },
  {
   "cell_type": "code",
   "execution_count": 19,
   "metadata": {},
   "outputs": [],
   "source": [
    "dummy_fn = lambda x:x"
   ]
  },
  {
   "cell_type": "code",
   "execution_count": 20,
   "metadata": {},
   "outputs": [],
   "source": [
    "with open('./pickle files/cv.pickle', 'rb') as f:\n",
    "    cv = pickle.load(f)"
   ]
  },
  {
   "cell_type": "code",
   "execution_count": 21,
   "metadata": {},
   "outputs": [],
   "source": [
    "with open('./pickle files/idf_transformer.pickle', 'rb') as f:\n",
    "    idf_transformer = pickle.load(f)"
   ]
  },
  {
   "cell_type": "code",
   "execution_count": 22,
   "metadata": {},
   "outputs": [],
   "source": [
    "# loading the pickle files with the classifiers\n",
    "with open('./pickle files/LR_clf_IE_kaggle.pickle', 'rb') as f:\n",
    "    lr_ie = pickle.load(f)\n",
    "with open('./pickle files/LR_clf_JP_kaggle.pickle', 'rb') as f:\n",
    "    lr_jp = pickle.load(f)\n",
    "with open('./pickle files/LR_clf_NS_kaggle.pickle', 'rb') as f:\n",
    "    lr_ns = pickle.load(f)\n",
    "with open('./pickle files/LR_clf_TF_kaggle.pickle', 'rb') as f:\n",
    "    lr_tf = pickle.load(f)"
   ]
  },
  {
   "cell_type": "code",
   "execution_count": null,
   "metadata": {},
   "outputs": [],
   "source": []
  },
  {
   "cell_type": "code",
   "execution_count": 23,
   "metadata": {},
   "outputs": [
    {
     "name": "stdout",
     "output_type": "stream",
     "text": [
      "[[0.63999856 0.36000144]]\n"
     ]
    }
   ],
   "source": [
    "c = cv.transform([tokeniser(df['Post'][0])])\n",
    "x = idf_transformer.transform(c)\n",
    "\n",
    "print(lr_ie.predict_proba(x)) "
   ]
  },
  {
   "cell_type": "code",
   "execution_count": 22,
   "metadata": {},
   "outputs": [
    {
     "name": "stdout",
     "output_type": "stream",
     "text": [
      "0.24310432916104477\n"
     ]
    }
   ],
   "source": [
    "c = cv.transform([tokeniser(df['Post'][0])])\n",
    "x = idf_transformer.transform(c)\n",
    "\n",
    "print(clf.predict_proba(x)[0][0]) "
   ]
  },
  {
   "cell_type": "code",
   "execution_count": 23,
   "metadata": {},
   "outputs": [],
   "source": [
    "# dropping nan values\n",
    "df = df.dropna()"
   ]
  },
  {
   "cell_type": "code",
   "execution_count": 24,
   "metadata": {},
   "outputs": [],
   "source": [
    "# creating the functions to predict the personality types\n",
    "def predict_EI(mypost):\n",
    "    c = cv.transform([tokeniser(mypost)])\n",
    "    x = idf_transformer.transform(c)\n",
    "    \n",
    "    return {'E': lr_ie.predict_proba(x)[0][0], 'I': lr_ie.predict_proba(x)[0][1]}\n",
    "\n",
    "def predict_JP(mypost):\n",
    "    c = cv.transform([tokeniser(mypost)])\n",
    "    x = idf_transformer.transform(c)\n",
    "    \n",
    "    return {'J': lr_jp.predict_proba(x)[0][1], 'P': lr_jp.predict_proba(x)[0][0]}\n",
    "\n",
    "def predict_NS(mypost):\n",
    "    c = cv.transform([tokeniser(mypost)])\n",
    "    x = idf_transformer.transform(c)\n",
    "    \n",
    "    return {'N': lr_ns.predict_proba(x)[0][1], 'S': lr_ns.predict_proba(x)[0][0]}\n",
    "\n",
    "def predict_TF(mypost):\n",
    "    c = cv.transform([tokeniser(mypost)])\n",
    "    x = idf_transformer.transform(c)\n",
    "    \n",
    "    return {'T': lr_tf.predict_proba(x)[0][1], 'F': lr_tf.predict_proba(x)[0][0]}"
   ]
  },
  {
   "cell_type": "code",
   "execution_count": 25,
   "metadata": {},
   "outputs": [
    {
     "data": {
      "text/plain": [
       "0        {'E': 0.6399985631475322, 'I': 0.3600014368524...\n",
       "1        {'E': 0.8863088396020109, 'I': 0.1136911603979...\n",
       "2        {'E': 0.608276859745078, 'I': 0.39172314025492...\n",
       "3        {'E': 0.6598995100243799, 'I': 0.3401004899756...\n",
       "4        {'E': 0.7521923755825921, 'I': 0.2478076244174...\n",
       "5        {'E': 0.3600724055330672, 'I': 0.6399275944669...\n",
       "6        {'E': 0.1455463245967682, 'I': 0.8544536754032...\n",
       "7        {'E': 0.6525564999693976, 'I': 0.3474435000306...\n",
       "8        {'E': 0.3789295923332694, 'I': 0.6210704076667...\n",
       "9        {'E': 0.8958447976236273, 'I': 0.1041552023763...\n",
       "10        {'E': 0.414605585212819, 'I': 0.585394414787181}\n",
       "11       {'E': 0.47659410974034944, 'I': 0.523405890259...\n",
       "12       {'E': 0.7700201074619542, 'I': 0.2299798925380...\n",
       "13       {'E': 0.4085584036683346, 'I': 0.5914415963316...\n",
       "14       {'E': 0.23523891590361834, 'I': 0.764761084096...\n",
       "15       {'E': 0.7139711941648647, 'I': 0.2860288058351...\n",
       "16       {'E': 0.6480699585611482, 'I': 0.3519300414388...\n",
       "17       {'E': 0.6829346007662385, 'I': 0.3170653992337...\n",
       "18       {'E': 0.8088722992615798, 'I': 0.1911277007384...\n",
       "19       {'E': 0.4043519169333265, 'I': 0.5956480830666...\n",
       "20       {'E': 0.5533638698436207, 'I': 0.4466361301563...\n",
       "21       {'E': 0.5842740285920367, 'I': 0.4157259714079...\n",
       "22       {'E': 0.28146948357198687, 'I': 0.718530516428...\n",
       "23        {'E': 0.494547939130324, 'I': 0.505452060869676}\n",
       "24       {'E': 0.47591070527680046, 'I': 0.524089294723...\n",
       "25       {'E': 0.40468281745002943, 'I': 0.595317182549...\n",
       "26       {'E': 0.44275612850196255, 'I': 0.557243871498...\n",
       "27       {'E': 0.4152427685667489, 'I': 0.5847572314332...\n",
       "28       {'E': 0.5079895150171605, 'I': 0.4920104849828...\n",
       "29       {'E': 0.6222412439371202, 'I': 0.3777587560628...\n",
       "                               ...                        \n",
       "12039    {'E': 0.34960334692569306, 'I': 0.650396653074...\n",
       "12040    {'E': 0.7128964059147909, 'I': 0.2871035940852...\n",
       "12041    {'E': 0.2630021169428952, 'I': 0.7369978830571...\n",
       "12042    {'E': 0.32436827227757137, 'I': 0.675631727722...\n",
       "12043    {'E': 0.3288339734943485, 'I': 0.6711660265056...\n",
       "12044    {'E': 0.2430782385421829, 'I': 0.7569217614578...\n",
       "12045    {'E': 0.5423237455603461, 'I': 0.4576762544396...\n",
       "12046    {'E': 0.7835196959380979, 'I': 0.2164803040619...\n",
       "12047    {'E': 0.6029656713616663, 'I': 0.3970343286383...\n",
       "12048    {'E': 0.777510172061619, 'I': 0.22248982793838...\n",
       "12049    {'E': 0.24665756576773146, 'I': 0.753342434232...\n",
       "12050    {'E': 0.5143510613731845, 'I': 0.4856489386268...\n",
       "12051     {'E': 0.457679133032306, 'I': 0.542320866967694}\n",
       "12052    {'E': 0.7596972430015462, 'I': 0.2403027569984...\n",
       "12053     {'E': 0.638078528959888, 'I': 0.361921471040112}\n",
       "12054     {'E': 0.414605585212819, 'I': 0.585394414787181}\n",
       "12055    {'E': 0.20019958899180923, 'I': 0.799800411008...\n",
       "12056     {'E': 0.208719348051009, 'I': 0.791280651948991}\n",
       "12057    {'E': 0.3772691763266226, 'I': 0.6227308236733...\n",
       "12058    {'E': 0.21652588049130206, 'I': 0.783474119508...\n",
       "12059    {'E': 0.4642228694549798, 'I': 0.5357771305450...\n",
       "12060     {'E': 0.414605585212819, 'I': 0.585394414787181}\n",
       "12061    {'E': 0.7486923801372141, 'I': 0.251307619862786}\n",
       "12062    {'E': 0.4832940034166584, 'I': 0.5167059965833...\n",
       "12063    {'E': 0.8868544645884096, 'I': 0.1131455354115...\n",
       "12064    {'E': 0.49161329890509387, 'I': 0.508386701094...\n",
       "12065    {'E': 0.23778234225955008, 'I': 0.762217657740...\n",
       "12066    {'E': 0.33902746744249257, 'I': 0.660972532557...\n",
       "12067     {'E': 0.414605585212819, 'I': 0.585394414787181}\n",
       "12068    {'E': 0.2967348651191465, 'I': 0.7032651348808...\n",
       "Name: Post, Length: 12067, dtype: object"
      ]
     },
     "execution_count": 25,
     "metadata": {},
     "output_type": "execute_result"
    }
   ],
   "source": [
    "df['Post'].apply(lambda x:predict_EI(x))"
   ]
  },
  {
   "cell_type": "code",
   "execution_count": 27,
   "metadata": {},
   "outputs": [
    {
     "data": {
      "text/plain": [
       "12067"
      ]
     },
     "execution_count": 27,
     "metadata": {},
     "output_type": "execute_result"
    }
   ],
   "source": [
    "#df[] = df['Post'].apply(lambda x:round(predict_EI(x)['E'],2))"
   ]
  },
  {
   "cell_type": "code",
   "execution_count": 45,
   "metadata": {},
   "outputs": [],
   "source": [
    "# for i in range(len(df['Post'])):\n",
    "    \n",
    "#     print(f\"{i} : {predict_EI(df['Post'][i])}\")"
   ]
  },
  {
   "cell_type": "code",
   "execution_count": 26,
   "metadata": {},
   "outputs": [],
   "source": [
    "cols = [x for x in df.columns]"
   ]
  },
  {
   "cell_type": "code",
   "execution_count": 30,
   "metadata": {},
   "outputs": [
    {
     "data": {
      "text/plain": [
       "['Unnamed: 0', 'Idx', 'Locality', 'Industry', 'Start', 'Title']"
      ]
     },
     "execution_count": 30,
     "metadata": {},
     "output_type": "execute_result"
    }
   ],
   "source": [
    "cols"
   ]
  },
  {
   "cell_type": "code",
   "execution_count": 37,
   "metadata": {},
   "outputs": [],
   "source": [
    "# creating a new dataframe called company"
   ]
  },
  {
   "cell_type": "code",
   "execution_count": 31,
   "metadata": {},
   "outputs": [],
   "source": [
    "company = df.drop(cols, axis=1)"
   ]
  },
  {
   "cell_type": "code",
   "execution_count": 33,
   "metadata": {},
   "outputs": [],
   "source": [
    "company['E'] = df['Post'].apply(lambda x:round(predict_EI(x)['E'],2))"
   ]
  },
  {
   "cell_type": "code",
   "execution_count": 37,
   "metadata": {},
   "outputs": [],
   "source": [
    "company['I'] = df['Post'].apply(lambda x:round(predict_EI(x)['I'],2))\n",
    "company['J'] = df['Post'].apply(lambda x:round(predict_JP(x)['J'],2))\n",
    "company['P'] = df['Post'].apply(lambda x:round(predict_JP(x)['P'],2))\n",
    "company['N'] = df['Post'].apply(lambda x:round(predict_NS(x)['N'],2))\n",
    "company['S'] = df['Post'].apply(lambda x:round(predict_NS(x)['S'],2))\n",
    "company['T'] = df['Post'].apply(lambda x:round(predict_TF(x)['T'],2))\n",
    "company['F'] = df['Post'].apply(lambda x:round(predict_TF(x)['F'],2))"
   ]
  },
  {
   "cell_type": "code",
   "execution_count": 38,
   "metadata": {
    "scrolled": true
   },
   "outputs": [
    {
     "data": {
      "text/html": [
       "<div>\n",
       "<style scoped>\n",
       "    .dataframe tbody tr th:only-of-type {\n",
       "        vertical-align: middle;\n",
       "    }\n",
       "\n",
       "    .dataframe tbody tr th {\n",
       "        vertical-align: top;\n",
       "    }\n",
       "\n",
       "    .dataframe thead th {\n",
       "        text-align: right;\n",
       "    }\n",
       "</style>\n",
       "<table border=\"1\" class=\"dataframe\">\n",
       "  <thead>\n",
       "    <tr style=\"text-align: right;\">\n",
       "      <th></th>\n",
       "      <th>Company</th>\n",
       "      <th>Post</th>\n",
       "      <th>E</th>\n",
       "      <th>I</th>\n",
       "      <th>J</th>\n",
       "      <th>P</th>\n",
       "      <th>N</th>\n",
       "      <th>S</th>\n",
       "      <th>T</th>\n",
       "      <th>F</th>\n",
       "    </tr>\n",
       "  </thead>\n",
       "  <tbody>\n",
       "    <tr>\n",
       "      <th>0</th>\n",
       "      <td>Google</td>\n",
       "      <td>Currently run Google's Enterprise Search Divis...</td>\n",
       "      <td>0.64</td>\n",
       "      <td>0.36</td>\n",
       "      <td>0.60</td>\n",
       "      <td>0.40</td>\n",
       "      <td>0.58</td>\n",
       "      <td>0.42</td>\n",
       "      <td>0.87</td>\n",
       "      <td>0.13</td>\n",
       "    </tr>\n",
       "    <tr>\n",
       "      <th>1</th>\n",
       "      <td>Microsoft</td>\n",
       "      <td>In the area of Mergers &amp; Acquisition, we lead ...</td>\n",
       "      <td>0.89</td>\n",
       "      <td>0.11</td>\n",
       "      <td>0.73</td>\n",
       "      <td>0.27</td>\n",
       "      <td>0.81</td>\n",
       "      <td>0.19</td>\n",
       "      <td>0.81</td>\n",
       "      <td>0.19</td>\n",
       "    </tr>\n",
       "    <tr>\n",
       "      <th>2</th>\n",
       "      <td>Deloitte</td>\n",
       "      <td>I help clients with risk management and fact b...</td>\n",
       "      <td>0.61</td>\n",
       "      <td>0.39</td>\n",
       "      <td>0.61</td>\n",
       "      <td>0.39</td>\n",
       "      <td>0.42</td>\n",
       "      <td>0.58</td>\n",
       "      <td>0.88</td>\n",
       "      <td>0.12</td>\n",
       "    </tr>\n",
       "    <tr>\n",
       "      <th>3</th>\n",
       "      <td>Hewlett-Packard</td>\n",
       "      <td>Rick Harris is an experienced Technical Consul...</td>\n",
       "      <td>0.66</td>\n",
       "      <td>0.34</td>\n",
       "      <td>0.43</td>\n",
       "      <td>0.57</td>\n",
       "      <td>0.47</td>\n",
       "      <td>0.53</td>\n",
       "      <td>0.87</td>\n",
       "      <td>0.13</td>\n",
       "    </tr>\n",
       "    <tr>\n",
       "      <th>4</th>\n",
       "      <td>IBM</td>\n",
       "      <td>A motivated and committed inspirational Senior...</td>\n",
       "      <td>0.75</td>\n",
       "      <td>0.25</td>\n",
       "      <td>0.77</td>\n",
       "      <td>0.23</td>\n",
       "      <td>0.28</td>\n",
       "      <td>0.72</td>\n",
       "      <td>0.83</td>\n",
       "      <td>0.17</td>\n",
       "    </tr>\n",
       "  </tbody>\n",
       "</table>\n",
       "</div>"
      ],
      "text/plain": [
       "           Company                                               Post     E  \\\n",
       "0           Google  Currently run Google's Enterprise Search Divis...  0.64   \n",
       "1        Microsoft  In the area of Mergers & Acquisition, we lead ...  0.89   \n",
       "2         Deloitte  I help clients with risk management and fact b...  0.61   \n",
       "3  Hewlett-Packard  Rick Harris is an experienced Technical Consul...  0.66   \n",
       "4              IBM  A motivated and committed inspirational Senior...  0.75   \n",
       "\n",
       "      I     J     P     N     S     T     F  \n",
       "0  0.36  0.60  0.40  0.58  0.42  0.87  0.13  \n",
       "1  0.11  0.73  0.27  0.81  0.19  0.81  0.19  \n",
       "2  0.39  0.61  0.39  0.42  0.58  0.88  0.12  \n",
       "3  0.34  0.43  0.57  0.47  0.53  0.87  0.13  \n",
       "4  0.25  0.77  0.23  0.28  0.72  0.83  0.17  "
      ]
     },
     "execution_count": 38,
     "metadata": {},
     "output_type": "execute_result"
    }
   ],
   "source": [
    "company.head()"
   ]
  },
  {
   "cell_type": "code",
   "execution_count": 41,
   "metadata": {},
   "outputs": [],
   "source": [
    "#company.to_csv('Processed_LinkedIn_Data.csv')"
   ]
  },
  {
   "cell_type": "code",
   "execution_count": 40,
   "metadata": {},
   "outputs": [
    {
     "data": {
      "text/html": [
       "<div>\n",
       "<style scoped>\n",
       "    .dataframe tbody tr th:only-of-type {\n",
       "        vertical-align: middle;\n",
       "    }\n",
       "\n",
       "    .dataframe tbody tr th {\n",
       "        vertical-align: top;\n",
       "    }\n",
       "\n",
       "    .dataframe thead th {\n",
       "        text-align: right;\n",
       "    }\n",
       "</style>\n",
       "<table border=\"1\" class=\"dataframe\">\n",
       "  <thead>\n",
       "    <tr style=\"text-align: right;\">\n",
       "      <th></th>\n",
       "      <th>E</th>\n",
       "      <th>I</th>\n",
       "      <th>J</th>\n",
       "      <th>P</th>\n",
       "      <th>N</th>\n",
       "      <th>S</th>\n",
       "      <th>T</th>\n",
       "      <th>F</th>\n",
       "    </tr>\n",
       "  </thead>\n",
       "  <tbody>\n",
       "    <tr>\n",
       "      <th>count</th>\n",
       "      <td>1151.000000</td>\n",
       "      <td>1151.000000</td>\n",
       "      <td>1151.000000</td>\n",
       "      <td>1151.000000</td>\n",
       "      <td>1151.000000</td>\n",
       "      <td>1151.000000</td>\n",
       "      <td>1151.000000</td>\n",
       "      <td>1151.000000</td>\n",
       "    </tr>\n",
       "    <tr>\n",
       "      <th>mean</th>\n",
       "      <td>0.487863</td>\n",
       "      <td>0.512137</td>\n",
       "      <td>0.580921</td>\n",
       "      <td>0.419079</td>\n",
       "      <td>0.467055</td>\n",
       "      <td>0.532945</td>\n",
       "      <td>0.792485</td>\n",
       "      <td>0.207515</td>\n",
       "    </tr>\n",
       "    <tr>\n",
       "      <th>std</th>\n",
       "      <td>0.201739</td>\n",
       "      <td>0.201739</td>\n",
       "      <td>0.124848</td>\n",
       "      <td>0.124848</td>\n",
       "      <td>0.183294</td>\n",
       "      <td>0.183294</td>\n",
       "      <td>0.118839</td>\n",
       "      <td>0.118839</td>\n",
       "    </tr>\n",
       "    <tr>\n",
       "      <th>min</th>\n",
       "      <td>0.070000</td>\n",
       "      <td>0.040000</td>\n",
       "      <td>0.160000</td>\n",
       "      <td>0.110000</td>\n",
       "      <td>0.050000</td>\n",
       "      <td>0.070000</td>\n",
       "      <td>0.200000</td>\n",
       "      <td>0.020000</td>\n",
       "    </tr>\n",
       "    <tr>\n",
       "      <th>25%</th>\n",
       "      <td>0.335000</td>\n",
       "      <td>0.365000</td>\n",
       "      <td>0.500000</td>\n",
       "      <td>0.320000</td>\n",
       "      <td>0.325000</td>\n",
       "      <td>0.400000</td>\n",
       "      <td>0.730000</td>\n",
       "      <td>0.120000</td>\n",
       "    </tr>\n",
       "    <tr>\n",
       "      <th>50%</th>\n",
       "      <td>0.480000</td>\n",
       "      <td>0.520000</td>\n",
       "      <td>0.590000</td>\n",
       "      <td>0.410000</td>\n",
       "      <td>0.460000</td>\n",
       "      <td>0.540000</td>\n",
       "      <td>0.820000</td>\n",
       "      <td>0.180000</td>\n",
       "    </tr>\n",
       "    <tr>\n",
       "      <th>75%</th>\n",
       "      <td>0.635000</td>\n",
       "      <td>0.665000</td>\n",
       "      <td>0.680000</td>\n",
       "      <td>0.500000</td>\n",
       "      <td>0.600000</td>\n",
       "      <td>0.675000</td>\n",
       "      <td>0.880000</td>\n",
       "      <td>0.270000</td>\n",
       "    </tr>\n",
       "    <tr>\n",
       "      <th>max</th>\n",
       "      <td>0.960000</td>\n",
       "      <td>0.930000</td>\n",
       "      <td>0.890000</td>\n",
       "      <td>0.840000</td>\n",
       "      <td>0.930000</td>\n",
       "      <td>0.950000</td>\n",
       "      <td>0.980000</td>\n",
       "      <td>0.800000</td>\n",
       "    </tr>\n",
       "  </tbody>\n",
       "</table>\n",
       "</div>"
      ],
      "text/plain": [
       "                 E            I            J            P            N  \\\n",
       "count  1151.000000  1151.000000  1151.000000  1151.000000  1151.000000   \n",
       "mean      0.487863     0.512137     0.580921     0.419079     0.467055   \n",
       "std       0.201739     0.201739     0.124848     0.124848     0.183294   \n",
       "min       0.070000     0.040000     0.160000     0.110000     0.050000   \n",
       "25%       0.335000     0.365000     0.500000     0.320000     0.325000   \n",
       "50%       0.480000     0.520000     0.590000     0.410000     0.460000   \n",
       "75%       0.635000     0.665000     0.680000     0.500000     0.600000   \n",
       "max       0.960000     0.930000     0.890000     0.840000     0.930000   \n",
       "\n",
       "                 S            T            F  \n",
       "count  1151.000000  1151.000000  1151.000000  \n",
       "mean      0.532945     0.792485     0.207515  \n",
       "std       0.183294     0.118839     0.118839  \n",
       "min       0.070000     0.200000     0.020000  \n",
       "25%       0.400000     0.730000     0.120000  \n",
       "50%       0.540000     0.820000     0.180000  \n",
       "75%       0.675000     0.880000     0.270000  \n",
       "max       0.950000     0.980000     0.800000  "
      ]
     },
     "execution_count": 40,
     "metadata": {},
     "output_type": "execute_result"
    }
   ],
   "source": [
    "company[company['Company'] == 'Google'].describe()"
   ]
  },
  {
   "cell_type": "code",
   "execution_count": 47,
   "metadata": {},
   "outputs": [
    {
     "data": {
      "text/html": [
       "<div>\n",
       "<style scoped>\n",
       "    .dataframe tbody tr th:only-of-type {\n",
       "        vertical-align: middle;\n",
       "    }\n",
       "\n",
       "    .dataframe tbody tr th {\n",
       "        vertical-align: top;\n",
       "    }\n",
       "\n",
       "    .dataframe thead th {\n",
       "        text-align: right;\n",
       "    }\n",
       "</style>\n",
       "<table border=\"1\" class=\"dataframe\">\n",
       "  <thead>\n",
       "    <tr style=\"text-align: right;\">\n",
       "      <th></th>\n",
       "      <th>E</th>\n",
       "      <th>I</th>\n",
       "      <th>J</th>\n",
       "      <th>P</th>\n",
       "      <th>N</th>\n",
       "      <th>S</th>\n",
       "      <th>T</th>\n",
       "      <th>F</th>\n",
       "    </tr>\n",
       "  </thead>\n",
       "  <tbody>\n",
       "    <tr>\n",
       "      <th>count</th>\n",
       "      <td>1511.000000</td>\n",
       "      <td>1511.000000</td>\n",
       "      <td>1511.000000</td>\n",
       "      <td>1511.000000</td>\n",
       "      <td>1511.000000</td>\n",
       "      <td>1511.000000</td>\n",
       "      <td>1511.000000</td>\n",
       "      <td>1511.000000</td>\n",
       "    </tr>\n",
       "    <tr>\n",
       "      <th>mean</th>\n",
       "      <td>0.549543</td>\n",
       "      <td>0.450457</td>\n",
       "      <td>0.398974</td>\n",
       "      <td>0.601026</td>\n",
       "      <td>0.526704</td>\n",
       "      <td>0.473296</td>\n",
       "      <td>0.213713</td>\n",
       "      <td>0.786287</td>\n",
       "    </tr>\n",
       "    <tr>\n",
       "      <th>std</th>\n",
       "      <td>0.213245</td>\n",
       "      <td>0.213245</td>\n",
       "      <td>0.122768</td>\n",
       "      <td>0.122768</td>\n",
       "      <td>0.173503</td>\n",
       "      <td>0.173503</td>\n",
       "      <td>0.114261</td>\n",
       "      <td>0.114261</td>\n",
       "    </tr>\n",
       "    <tr>\n",
       "      <th>min</th>\n",
       "      <td>0.050000</td>\n",
       "      <td>0.010000</td>\n",
       "      <td>0.100000</td>\n",
       "      <td>0.050000</td>\n",
       "      <td>0.040000</td>\n",
       "      <td>0.010000</td>\n",
       "      <td>0.030000</td>\n",
       "      <td>0.030000</td>\n",
       "    </tr>\n",
       "    <tr>\n",
       "      <th>25%</th>\n",
       "      <td>0.390000</td>\n",
       "      <td>0.280000</td>\n",
       "      <td>0.310000</td>\n",
       "      <td>0.510000</td>\n",
       "      <td>0.400000</td>\n",
       "      <td>0.350000</td>\n",
       "      <td>0.130000</td>\n",
       "      <td>0.720000</td>\n",
       "    </tr>\n",
       "    <tr>\n",
       "      <th>50%</th>\n",
       "      <td>0.550000</td>\n",
       "      <td>0.450000</td>\n",
       "      <td>0.390000</td>\n",
       "      <td>0.610000</td>\n",
       "      <td>0.530000</td>\n",
       "      <td>0.470000</td>\n",
       "      <td>0.190000</td>\n",
       "      <td>0.810000</td>\n",
       "    </tr>\n",
       "    <tr>\n",
       "      <th>75%</th>\n",
       "      <td>0.720000</td>\n",
       "      <td>0.610000</td>\n",
       "      <td>0.490000</td>\n",
       "      <td>0.690000</td>\n",
       "      <td>0.650000</td>\n",
       "      <td>0.600000</td>\n",
       "      <td>0.280000</td>\n",
       "      <td>0.870000</td>\n",
       "    </tr>\n",
       "    <tr>\n",
       "      <th>max</th>\n",
       "      <td>0.990000</td>\n",
       "      <td>0.950000</td>\n",
       "      <td>0.950000</td>\n",
       "      <td>0.900000</td>\n",
       "      <td>0.990000</td>\n",
       "      <td>0.960000</td>\n",
       "      <td>0.970000</td>\n",
       "      <td>0.970000</td>\n",
       "    </tr>\n",
       "  </tbody>\n",
       "</table>\n",
       "</div>"
      ],
      "text/plain": [
       "                 E            I            J            P            N  \\\n",
       "count  1511.000000  1511.000000  1511.000000  1511.000000  1511.000000   \n",
       "mean      0.549543     0.450457     0.398974     0.601026     0.526704   \n",
       "std       0.213245     0.213245     0.122768     0.122768     0.173503   \n",
       "min       0.050000     0.010000     0.100000     0.050000     0.040000   \n",
       "25%       0.390000     0.280000     0.310000     0.510000     0.400000   \n",
       "50%       0.550000     0.450000     0.390000     0.610000     0.530000   \n",
       "75%       0.720000     0.610000     0.490000     0.690000     0.650000   \n",
       "max       0.990000     0.950000     0.950000     0.900000     0.990000   \n",
       "\n",
       "                 S            T            F  \n",
       "count  1511.000000  1511.000000  1511.000000  \n",
       "mean      0.473296     0.213713     0.786287  \n",
       "std       0.173503     0.114261     0.114261  \n",
       "min       0.010000     0.030000     0.030000  \n",
       "25%       0.350000     0.130000     0.720000  \n",
       "50%       0.470000     0.190000     0.810000  \n",
       "75%       0.600000     0.280000     0.870000  \n",
       "max       0.960000     0.970000     0.970000  "
      ]
     },
     "execution_count": 47,
     "metadata": {},
     "output_type": "execute_result"
    }
   ],
   "source": [
    "company[company['Company'] == 'Microsoft'].describe()"
   ]
  },
  {
   "cell_type": "code",
   "execution_count": 48,
   "metadata": {},
   "outputs": [
    {
     "data": {
      "text/html": [
       "<div>\n",
       "<style scoped>\n",
       "    .dataframe tbody tr th:only-of-type {\n",
       "        vertical-align: middle;\n",
       "    }\n",
       "\n",
       "    .dataframe tbody tr th {\n",
       "        vertical-align: top;\n",
       "    }\n",
       "\n",
       "    .dataframe thead th {\n",
       "        text-align: right;\n",
       "    }\n",
       "</style>\n",
       "<table border=\"1\" class=\"dataframe\">\n",
       "  <thead>\n",
       "    <tr style=\"text-align: right;\">\n",
       "      <th></th>\n",
       "      <th>E</th>\n",
       "      <th>I</th>\n",
       "      <th>J</th>\n",
       "      <th>P</th>\n",
       "      <th>N</th>\n",
       "      <th>S</th>\n",
       "      <th>T</th>\n",
       "      <th>F</th>\n",
       "    </tr>\n",
       "  </thead>\n",
       "  <tbody>\n",
       "    <tr>\n",
       "      <th>count</th>\n",
       "      <td>1012.000000</td>\n",
       "      <td>1012.000000</td>\n",
       "      <td>1012.000000</td>\n",
       "      <td>1012.000000</td>\n",
       "      <td>1012.000000</td>\n",
       "      <td>1012.000000</td>\n",
       "      <td>1012.000000</td>\n",
       "      <td>1012.000000</td>\n",
       "    </tr>\n",
       "    <tr>\n",
       "      <th>mean</th>\n",
       "      <td>0.522747</td>\n",
       "      <td>0.477253</td>\n",
       "      <td>0.380138</td>\n",
       "      <td>0.619862</td>\n",
       "      <td>0.559990</td>\n",
       "      <td>0.440010</td>\n",
       "      <td>0.212500</td>\n",
       "      <td>0.787500</td>\n",
       "    </tr>\n",
       "    <tr>\n",
       "      <th>std</th>\n",
       "      <td>0.209036</td>\n",
       "      <td>0.209036</td>\n",
       "      <td>0.127947</td>\n",
       "      <td>0.127947</td>\n",
       "      <td>0.173775</td>\n",
       "      <td>0.173775</td>\n",
       "      <td>0.110383</td>\n",
       "      <td>0.110383</td>\n",
       "    </tr>\n",
       "    <tr>\n",
       "      <th>min</th>\n",
       "      <td>0.080000</td>\n",
       "      <td>0.060000</td>\n",
       "      <td>0.010000</td>\n",
       "      <td>0.140000</td>\n",
       "      <td>0.050000</td>\n",
       "      <td>0.010000</td>\n",
       "      <td>0.020000</td>\n",
       "      <td>0.160000</td>\n",
       "    </tr>\n",
       "    <tr>\n",
       "      <th>25%</th>\n",
       "      <td>0.370000</td>\n",
       "      <td>0.310000</td>\n",
       "      <td>0.280000</td>\n",
       "      <td>0.530000</td>\n",
       "      <td>0.430000</td>\n",
       "      <td>0.310000</td>\n",
       "      <td>0.120000</td>\n",
       "      <td>0.717500</td>\n",
       "    </tr>\n",
       "    <tr>\n",
       "      <th>50%</th>\n",
       "      <td>0.510000</td>\n",
       "      <td>0.490000</td>\n",
       "      <td>0.370000</td>\n",
       "      <td>0.630000</td>\n",
       "      <td>0.570000</td>\n",
       "      <td>0.430000</td>\n",
       "      <td>0.190000</td>\n",
       "      <td>0.810000</td>\n",
       "    </tr>\n",
       "    <tr>\n",
       "      <th>75%</th>\n",
       "      <td>0.690000</td>\n",
       "      <td>0.630000</td>\n",
       "      <td>0.470000</td>\n",
       "      <td>0.720000</td>\n",
       "      <td>0.690000</td>\n",
       "      <td>0.570000</td>\n",
       "      <td>0.282500</td>\n",
       "      <td>0.880000</td>\n",
       "    </tr>\n",
       "    <tr>\n",
       "      <th>max</th>\n",
       "      <td>0.940000</td>\n",
       "      <td>0.920000</td>\n",
       "      <td>0.860000</td>\n",
       "      <td>0.990000</td>\n",
       "      <td>0.990000</td>\n",
       "      <td>0.950000</td>\n",
       "      <td>0.840000</td>\n",
       "      <td>0.980000</td>\n",
       "    </tr>\n",
       "  </tbody>\n",
       "</table>\n",
       "</div>"
      ],
      "text/plain": [
       "                 E            I            J            P            N  \\\n",
       "count  1012.000000  1012.000000  1012.000000  1012.000000  1012.000000   \n",
       "mean      0.522747     0.477253     0.380138     0.619862     0.559990   \n",
       "std       0.209036     0.209036     0.127947     0.127947     0.173775   \n",
       "min       0.080000     0.060000     0.010000     0.140000     0.050000   \n",
       "25%       0.370000     0.310000     0.280000     0.530000     0.430000   \n",
       "50%       0.510000     0.490000     0.370000     0.630000     0.570000   \n",
       "75%       0.690000     0.630000     0.470000     0.720000     0.690000   \n",
       "max       0.940000     0.920000     0.860000     0.990000     0.990000   \n",
       "\n",
       "                 S            T            F  \n",
       "count  1012.000000  1012.000000  1012.000000  \n",
       "mean      0.440010     0.212500     0.787500  \n",
       "std       0.173775     0.110383     0.110383  \n",
       "min       0.010000     0.020000     0.160000  \n",
       "25%       0.310000     0.120000     0.717500  \n",
       "50%       0.430000     0.190000     0.810000  \n",
       "75%       0.570000     0.282500     0.880000  \n",
       "max       0.950000     0.840000     0.980000  "
      ]
     },
     "execution_count": 48,
     "metadata": {},
     "output_type": "execute_result"
    }
   ],
   "source": [
    "company[company['Company'] == 'Deloitte'].describe()"
   ]
  },
  {
   "cell_type": "code",
   "execution_count": 50,
   "metadata": {},
   "outputs": [
    {
     "data": {
      "text/html": [
       "<div>\n",
       "<style scoped>\n",
       "    .dataframe tbody tr th:only-of-type {\n",
       "        vertical-align: middle;\n",
       "    }\n",
       "\n",
       "    .dataframe tbody tr th {\n",
       "        vertical-align: top;\n",
       "    }\n",
       "\n",
       "    .dataframe thead th {\n",
       "        text-align: right;\n",
       "    }\n",
       "</style>\n",
       "<table border=\"1\" class=\"dataframe\">\n",
       "  <thead>\n",
       "    <tr style=\"text-align: right;\">\n",
       "      <th></th>\n",
       "      <th>E</th>\n",
       "      <th>I</th>\n",
       "      <th>J</th>\n",
       "      <th>P</th>\n",
       "      <th>N</th>\n",
       "      <th>S</th>\n",
       "      <th>T</th>\n",
       "      <th>F</th>\n",
       "    </tr>\n",
       "  </thead>\n",
       "  <tbody>\n",
       "    <tr>\n",
       "      <th>count</th>\n",
       "      <td>644.000000</td>\n",
       "      <td>644.000000</td>\n",
       "      <td>644.000000</td>\n",
       "      <td>644.000000</td>\n",
       "      <td>644.000000</td>\n",
       "      <td>644.000000</td>\n",
       "      <td>644.000000</td>\n",
       "      <td>644.000000</td>\n",
       "    </tr>\n",
       "    <tr>\n",
       "      <th>mean</th>\n",
       "      <td>0.564627</td>\n",
       "      <td>0.435373</td>\n",
       "      <td>0.376335</td>\n",
       "      <td>0.623665</td>\n",
       "      <td>0.529363</td>\n",
       "      <td>0.470637</td>\n",
       "      <td>0.205699</td>\n",
       "      <td>0.794301</td>\n",
       "    </tr>\n",
       "    <tr>\n",
       "      <th>std</th>\n",
       "      <td>0.218721</td>\n",
       "      <td>0.218721</td>\n",
       "      <td>0.118500</td>\n",
       "      <td>0.118500</td>\n",
       "      <td>0.171878</td>\n",
       "      <td>0.171878</td>\n",
       "      <td>0.120676</td>\n",
       "      <td>0.120676</td>\n",
       "    </tr>\n",
       "    <tr>\n",
       "      <th>min</th>\n",
       "      <td>0.050000</td>\n",
       "      <td>0.030000</td>\n",
       "      <td>0.130000</td>\n",
       "      <td>0.140000</td>\n",
       "      <td>0.110000</td>\n",
       "      <td>0.040000</td>\n",
       "      <td>0.020000</td>\n",
       "      <td>0.230000</td>\n",
       "    </tr>\n",
       "    <tr>\n",
       "      <th>25%</th>\n",
       "      <td>0.410000</td>\n",
       "      <td>0.240000</td>\n",
       "      <td>0.290000</td>\n",
       "      <td>0.540000</td>\n",
       "      <td>0.410000</td>\n",
       "      <td>0.340000</td>\n",
       "      <td>0.117500</td>\n",
       "      <td>0.730000</td>\n",
       "    </tr>\n",
       "    <tr>\n",
       "      <th>50%</th>\n",
       "      <td>0.590000</td>\n",
       "      <td>0.410000</td>\n",
       "      <td>0.370000</td>\n",
       "      <td>0.630000</td>\n",
       "      <td>0.530000</td>\n",
       "      <td>0.470000</td>\n",
       "      <td>0.180000</td>\n",
       "      <td>0.820000</td>\n",
       "    </tr>\n",
       "    <tr>\n",
       "      <th>75%</th>\n",
       "      <td>0.760000</td>\n",
       "      <td>0.590000</td>\n",
       "      <td>0.460000</td>\n",
       "      <td>0.710000</td>\n",
       "      <td>0.660000</td>\n",
       "      <td>0.590000</td>\n",
       "      <td>0.270000</td>\n",
       "      <td>0.882500</td>\n",
       "    </tr>\n",
       "    <tr>\n",
       "      <th>max</th>\n",
       "      <td>0.970000</td>\n",
       "      <td>0.950000</td>\n",
       "      <td>0.860000</td>\n",
       "      <td>0.870000</td>\n",
       "      <td>0.960000</td>\n",
       "      <td>0.890000</td>\n",
       "      <td>0.770000</td>\n",
       "      <td>0.980000</td>\n",
       "    </tr>\n",
       "  </tbody>\n",
       "</table>\n",
       "</div>"
      ],
      "text/plain": [
       "                E           I           J           P           N           S  \\\n",
       "count  644.000000  644.000000  644.000000  644.000000  644.000000  644.000000   \n",
       "mean     0.564627    0.435373    0.376335    0.623665    0.529363    0.470637   \n",
       "std      0.218721    0.218721    0.118500    0.118500    0.171878    0.171878   \n",
       "min      0.050000    0.030000    0.130000    0.140000    0.110000    0.040000   \n",
       "25%      0.410000    0.240000    0.290000    0.540000    0.410000    0.340000   \n",
       "50%      0.590000    0.410000    0.370000    0.630000    0.530000    0.470000   \n",
       "75%      0.760000    0.590000    0.460000    0.710000    0.660000    0.590000   \n",
       "max      0.970000    0.950000    0.860000    0.870000    0.960000    0.890000   \n",
       "\n",
       "                T           F  \n",
       "count  644.000000  644.000000  \n",
       "mean     0.205699    0.794301  \n",
       "std      0.120676    0.120676  \n",
       "min      0.020000    0.230000  \n",
       "25%      0.117500    0.730000  \n",
       "50%      0.180000    0.820000  \n",
       "75%      0.270000    0.882500  \n",
       "max      0.770000    0.980000  "
      ]
     },
     "execution_count": 50,
     "metadata": {},
     "output_type": "execute_result"
    }
   ],
   "source": [
    "company[company['Company'] == 'Tata Consultancy Services'].describe()"
   ]
  },
  {
   "cell_type": "code",
   "execution_count": 51,
   "metadata": {},
   "outputs": [
    {
     "data": {
      "text/html": [
       "<div>\n",
       "<style scoped>\n",
       "    .dataframe tbody tr th:only-of-type {\n",
       "        vertical-align: middle;\n",
       "    }\n",
       "\n",
       "    .dataframe tbody tr th {\n",
       "        vertical-align: top;\n",
       "    }\n",
       "\n",
       "    .dataframe thead th {\n",
       "        text-align: right;\n",
       "    }\n",
       "</style>\n",
       "<table border=\"1\" class=\"dataframe\">\n",
       "  <thead>\n",
       "    <tr style=\"text-align: right;\">\n",
       "      <th></th>\n",
       "      <th>E</th>\n",
       "      <th>I</th>\n",
       "      <th>J</th>\n",
       "      <th>P</th>\n",
       "      <th>N</th>\n",
       "      <th>S</th>\n",
       "      <th>T</th>\n",
       "      <th>F</th>\n",
       "    </tr>\n",
       "  </thead>\n",
       "  <tbody>\n",
       "    <tr>\n",
       "      <th>count</th>\n",
       "      <td>1794.000000</td>\n",
       "      <td>1794.000000</td>\n",
       "      <td>1794.000000</td>\n",
       "      <td>1794.000000</td>\n",
       "      <td>1794.000000</td>\n",
       "      <td>1794.000000</td>\n",
       "      <td>1794.000000</td>\n",
       "      <td>1794.000000</td>\n",
       "    </tr>\n",
       "    <tr>\n",
       "      <th>mean</th>\n",
       "      <td>0.555067</td>\n",
       "      <td>0.444933</td>\n",
       "      <td>0.389643</td>\n",
       "      <td>0.610357</td>\n",
       "      <td>0.523824</td>\n",
       "      <td>0.476176</td>\n",
       "      <td>0.207358</td>\n",
       "      <td>0.792642</td>\n",
       "    </tr>\n",
       "    <tr>\n",
       "      <th>std</th>\n",
       "      <td>0.211067</td>\n",
       "      <td>0.211067</td>\n",
       "      <td>0.127351</td>\n",
       "      <td>0.127351</td>\n",
       "      <td>0.169622</td>\n",
       "      <td>0.169622</td>\n",
       "      <td>0.117373</td>\n",
       "      <td>0.117373</td>\n",
       "    </tr>\n",
       "    <tr>\n",
       "      <th>min</th>\n",
       "      <td>0.060000</td>\n",
       "      <td>0.030000</td>\n",
       "      <td>0.080000</td>\n",
       "      <td>0.090000</td>\n",
       "      <td>0.080000</td>\n",
       "      <td>0.010000</td>\n",
       "      <td>0.030000</td>\n",
       "      <td>0.270000</td>\n",
       "    </tr>\n",
       "    <tr>\n",
       "      <th>25%</th>\n",
       "      <td>0.400000</td>\n",
       "      <td>0.270000</td>\n",
       "      <td>0.290000</td>\n",
       "      <td>0.530000</td>\n",
       "      <td>0.400000</td>\n",
       "      <td>0.360000</td>\n",
       "      <td>0.120000</td>\n",
       "      <td>0.720000</td>\n",
       "    </tr>\n",
       "    <tr>\n",
       "      <th>50%</th>\n",
       "      <td>0.560000</td>\n",
       "      <td>0.440000</td>\n",
       "      <td>0.380000</td>\n",
       "      <td>0.620000</td>\n",
       "      <td>0.530000</td>\n",
       "      <td>0.470000</td>\n",
       "      <td>0.180000</td>\n",
       "      <td>0.820000</td>\n",
       "    </tr>\n",
       "    <tr>\n",
       "      <th>75%</th>\n",
       "      <td>0.730000</td>\n",
       "      <td>0.600000</td>\n",
       "      <td>0.470000</td>\n",
       "      <td>0.710000</td>\n",
       "      <td>0.640000</td>\n",
       "      <td>0.600000</td>\n",
       "      <td>0.280000</td>\n",
       "      <td>0.880000</td>\n",
       "    </tr>\n",
       "    <tr>\n",
       "      <th>max</th>\n",
       "      <td>0.970000</td>\n",
       "      <td>0.940000</td>\n",
       "      <td>0.910000</td>\n",
       "      <td>0.920000</td>\n",
       "      <td>0.990000</td>\n",
       "      <td>0.920000</td>\n",
       "      <td>0.730000</td>\n",
       "      <td>0.970000</td>\n",
       "    </tr>\n",
       "  </tbody>\n",
       "</table>\n",
       "</div>"
      ],
      "text/plain": [
       "                 E            I            J            P            N  \\\n",
       "count  1794.000000  1794.000000  1794.000000  1794.000000  1794.000000   \n",
       "mean      0.555067     0.444933     0.389643     0.610357     0.523824   \n",
       "std       0.211067     0.211067     0.127351     0.127351     0.169622   \n",
       "min       0.060000     0.030000     0.080000     0.090000     0.080000   \n",
       "25%       0.400000     0.270000     0.290000     0.530000     0.400000   \n",
       "50%       0.560000     0.440000     0.380000     0.620000     0.530000   \n",
       "75%       0.730000     0.600000     0.470000     0.710000     0.640000   \n",
       "max       0.970000     0.940000     0.910000     0.920000     0.990000   \n",
       "\n",
       "                 S            T            F  \n",
       "count  1794.000000  1794.000000  1794.000000  \n",
       "mean      0.476176     0.207358     0.792642  \n",
       "std       0.169622     0.117373     0.117373  \n",
       "min       0.010000     0.030000     0.270000  \n",
       "25%       0.360000     0.120000     0.720000  \n",
       "50%       0.470000     0.180000     0.820000  \n",
       "75%       0.600000     0.280000     0.880000  \n",
       "max       0.920000     0.730000     0.970000  "
      ]
     },
     "execution_count": 51,
     "metadata": {},
     "output_type": "execute_result"
    }
   ],
   "source": [
    "company[company['Company'] == 'Accenture'].describe()"
   ]
  },
  {
   "cell_type": "code",
   "execution_count": 58,
   "metadata": {},
   "outputs": [
    {
     "data": {
      "text/html": [
       "<div>\n",
       "<style scoped>\n",
       "    .dataframe tbody tr th:only-of-type {\n",
       "        vertical-align: middle;\n",
       "    }\n",
       "\n",
       "    .dataframe tbody tr th {\n",
       "        vertical-align: top;\n",
       "    }\n",
       "\n",
       "    .dataframe thead th {\n",
       "        text-align: right;\n",
       "    }\n",
       "</style>\n",
       "<table border=\"1\" class=\"dataframe\">\n",
       "  <thead>\n",
       "    <tr style=\"text-align: right;\">\n",
       "      <th></th>\n",
       "      <th>E</th>\n",
       "      <th>I</th>\n",
       "      <th>J</th>\n",
       "      <th>P</th>\n",
       "      <th>N</th>\n",
       "      <th>S</th>\n",
       "      <th>T</th>\n",
       "      <th>F</th>\n",
       "    </tr>\n",
       "  </thead>\n",
       "  <tbody>\n",
       "    <tr>\n",
       "      <th>count</th>\n",
       "      <td>862.000000</td>\n",
       "      <td>862.000000</td>\n",
       "      <td>862.000000</td>\n",
       "      <td>862.000000</td>\n",
       "      <td>862.000000</td>\n",
       "      <td>862.000000</td>\n",
       "      <td>862.000000</td>\n",
       "      <td>862.000000</td>\n",
       "    </tr>\n",
       "    <tr>\n",
       "      <th>mean</th>\n",
       "      <td>0.522007</td>\n",
       "      <td>0.477993</td>\n",
       "      <td>0.375731</td>\n",
       "      <td>0.624269</td>\n",
       "      <td>0.580151</td>\n",
       "      <td>0.419849</td>\n",
       "      <td>0.226566</td>\n",
       "      <td>0.773434</td>\n",
       "    </tr>\n",
       "    <tr>\n",
       "      <th>std</th>\n",
       "      <td>0.206651</td>\n",
       "      <td>0.206651</td>\n",
       "      <td>0.121405</td>\n",
       "      <td>0.121405</td>\n",
       "      <td>0.168086</td>\n",
       "      <td>0.168086</td>\n",
       "      <td>0.114510</td>\n",
       "      <td>0.114510</td>\n",
       "    </tr>\n",
       "    <tr>\n",
       "      <th>min</th>\n",
       "      <td>0.070000</td>\n",
       "      <td>0.060000</td>\n",
       "      <td>0.120000</td>\n",
       "      <td>0.250000</td>\n",
       "      <td>0.050000</td>\n",
       "      <td>0.020000</td>\n",
       "      <td>0.030000</td>\n",
       "      <td>0.310000</td>\n",
       "    </tr>\n",
       "    <tr>\n",
       "      <th>25%</th>\n",
       "      <td>0.380000</td>\n",
       "      <td>0.320000</td>\n",
       "      <td>0.280000</td>\n",
       "      <td>0.530000</td>\n",
       "      <td>0.460000</td>\n",
       "      <td>0.290000</td>\n",
       "      <td>0.140000</td>\n",
       "      <td>0.690000</td>\n",
       "    </tr>\n",
       "    <tr>\n",
       "      <th>50%</th>\n",
       "      <td>0.520000</td>\n",
       "      <td>0.480000</td>\n",
       "      <td>0.360000</td>\n",
       "      <td>0.640000</td>\n",
       "      <td>0.610000</td>\n",
       "      <td>0.390000</td>\n",
       "      <td>0.210000</td>\n",
       "      <td>0.790000</td>\n",
       "    </tr>\n",
       "    <tr>\n",
       "      <th>75%</th>\n",
       "      <td>0.680000</td>\n",
       "      <td>0.620000</td>\n",
       "      <td>0.470000</td>\n",
       "      <td>0.720000</td>\n",
       "      <td>0.710000</td>\n",
       "      <td>0.540000</td>\n",
       "      <td>0.310000</td>\n",
       "      <td>0.860000</td>\n",
       "    </tr>\n",
       "    <tr>\n",
       "      <th>max</th>\n",
       "      <td>0.940000</td>\n",
       "      <td>0.930000</td>\n",
       "      <td>0.750000</td>\n",
       "      <td>0.880000</td>\n",
       "      <td>0.980000</td>\n",
       "      <td>0.950000</td>\n",
       "      <td>0.690000</td>\n",
       "      <td>0.970000</td>\n",
       "    </tr>\n",
       "  </tbody>\n",
       "</table>\n",
       "</div>"
      ],
      "text/plain": [
       "                E           I           J           P           N           S  \\\n",
       "count  862.000000  862.000000  862.000000  862.000000  862.000000  862.000000   \n",
       "mean     0.522007    0.477993    0.375731    0.624269    0.580151    0.419849   \n",
       "std      0.206651    0.206651    0.121405    0.121405    0.168086    0.168086   \n",
       "min      0.070000    0.060000    0.120000    0.250000    0.050000    0.020000   \n",
       "25%      0.380000    0.320000    0.280000    0.530000    0.460000    0.290000   \n",
       "50%      0.520000    0.480000    0.360000    0.640000    0.610000    0.390000   \n",
       "75%      0.680000    0.620000    0.470000    0.720000    0.710000    0.540000   \n",
       "max      0.940000    0.930000    0.750000    0.880000    0.980000    0.950000   \n",
       "\n",
       "                T           F  \n",
       "count  862.000000  862.000000  \n",
       "mean     0.226566    0.773434  \n",
       "std      0.114510    0.114510  \n",
       "min      0.030000    0.310000  \n",
       "25%      0.140000    0.690000  \n",
       "50%      0.210000    0.790000  \n",
       "75%      0.310000    0.860000  \n",
       "max      0.690000    0.970000  "
      ]
     },
     "execution_count": 58,
     "metadata": {},
     "output_type": "execute_result"
    }
   ],
   "source": [
    "company[company['Company'] == 'PwC'].describe()"
   ]
  },
  {
   "cell_type": "code",
   "execution_count": 55,
   "metadata": {},
   "outputs": [
    {
     "data": {
      "text/plain": [
       "array(['Google', 'Microsoft', 'Deloitte', 'Hewlett-Packard', 'IBM',\n",
       "       'Ernst & Young', 'Accenture', 'Tata Consultancy Services', 'KPMG',\n",
       "       'PwC'], dtype=object)"
      ]
     },
     "execution_count": 55,
     "metadata": {},
     "output_type": "execute_result"
    }
   ],
   "source": [
    "company['Company'].unique()"
   ]
  },
  {
   "cell_type": "code",
   "execution_count": null,
   "metadata": {},
   "outputs": [],
   "source": []
  },
  {
   "cell_type": "code",
   "execution_count": null,
   "metadata": {},
   "outputs": [],
   "source": []
  },
  {
   "cell_type": "code",
   "execution_count": null,
   "metadata": {},
   "outputs": [],
   "source": []
  },
  {
   "cell_type": "code",
   "execution_count": 36,
   "metadata": {},
   "outputs": [
    {
     "data": {
      "text/plain": [
       "12069"
      ]
     },
     "execution_count": 36,
     "metadata": {},
     "output_type": "execute_result"
    }
   ],
   "source": [
    "len(df['Post'])"
   ]
  },
  {
   "cell_type": "code",
   "execution_count": 41,
   "metadata": {},
   "outputs": [
    {
     "data": {
      "text/plain": [
       "\"After starting my career in management consulting and investment banking, I've been focused on internet and mobile industries for the past 15+ years, working primarily in Asia. My focus has been developing new online/mobile businesses/products, working with major mobile operators/online portals as partners and clients, and managing business units with large teams and P&Ls.I'm currently the Managing Director for Google Korea, looking after all aspects of Sales and Operations.\""
      ]
     },
     "execution_count": 41,
     "metadata": {},
     "output_type": "execute_result"
    }
   ],
   "source": [
    "df['Post'][1026]"
   ]
  },
  {
   "cell_type": "code",
   "execution_count": 42,
   "metadata": {},
   "outputs": [
    {
     "data": {
      "text/plain": [
       "nan"
      ]
     },
     "execution_count": 42,
     "metadata": {},
     "output_type": "execute_result"
    }
   ],
   "source": [
    "df['Post'][1027]"
   ]
  },
  {
   "cell_type": "code",
   "execution_count": 43,
   "metadata": {},
   "outputs": [
    {
     "data": {
      "text/plain": [
       "12069"
      ]
     },
     "execution_count": 43,
     "metadata": {},
     "output_type": "execute_result"
    }
   ],
   "source": [
    "len(df)"
   ]
  },
  {
   "cell_type": "code",
   "execution_count": 44,
   "metadata": {},
   "outputs": [
    {
     "data": {
      "text/plain": [
       "12067"
      ]
     },
     "execution_count": 44,
     "metadata": {},
     "output_type": "execute_result"
    }
   ],
   "source": [
    "len(df.dropna())"
   ]
  },
  {
   "cell_type": "code",
   "execution_count": 45,
   "metadata": {},
   "outputs": [
    {
     "data": {
      "text/plain": [
       "{'E': 0.7458102612080415, 'I': 0.2541897387919585}"
      ]
     },
     "execution_count": 45,
     "metadata": {},
     "output_type": "execute_result"
    }
   ],
   "source": [
    "predict_EI(about)"
   ]
  },
  {
   "cell_type": "code",
   "execution_count": 46,
   "metadata": {},
   "outputs": [
    {
     "data": {
      "text/plain": [
       "{'J': 0.48056347564665575, 'P': 0.5194365243533443}"
      ]
     },
     "execution_count": 46,
     "metadata": {},
     "output_type": "execute_result"
    }
   ],
   "source": [
    "predict_JP(about)"
   ]
  },
  {
   "cell_type": "code",
   "execution_count": 47,
   "metadata": {},
   "outputs": [
    {
     "data": {
      "text/plain": [
       "{'N': 0.5055761763480211, 'S': 0.4944238236519789}"
      ]
     },
     "execution_count": 47,
     "metadata": {},
     "output_type": "execute_result"
    }
   ],
   "source": [
    "predict_NS(about)"
   ]
  },
  {
   "cell_type": "code",
   "execution_count": 48,
   "metadata": {},
   "outputs": [
    {
     "data": {
      "text/plain": [
       "{'T': 0.3554127579355539, 'F': 0.6445872420644461}"
      ]
     },
     "execution_count": 48,
     "metadata": {},
     "output_type": "execute_result"
    }
   ],
   "source": [
    "predict_TF(about)"
   ]
  },
  {
   "cell_type": "code",
   "execution_count": 23,
   "metadata": {},
   "outputs": [
    {
     "data": {
      "text/plain": [
       "'I'"
      ]
     },
     "execution_count": 23,
     "metadata": {},
     "output_type": "execute_result"
    }
   ],
   "source": [
    "max(predict_EI(about))"
   ]
  },
  {
   "cell_type": "code",
   "execution_count": 62,
   "metadata": {},
   "outputs": [
    {
     "data": {
      "text/plain": [
       "0.75"
      ]
     },
     "execution_count": 62,
     "metadata": {},
     "output_type": "execute_result"
    }
   ],
   "source": [
    "round(predict_EI(about)['E'],2)"
   ]
  },
  {
   "cell_type": "code",
   "execution_count": 23,
   "metadata": {},
   "outputs": [],
   "source": [
    "company=pd.read_csv('Processed_LinkedIn_Data.csv')"
   ]
  },
  {
   "cell_type": "code",
   "execution_count": 24,
   "metadata": {},
   "outputs": [
    {
     "data": {
      "text/html": [
       "<div>\n",
       "<style scoped>\n",
       "    .dataframe tbody tr th:only-of-type {\n",
       "        vertical-align: middle;\n",
       "    }\n",
       "\n",
       "    .dataframe tbody tr th {\n",
       "        vertical-align: top;\n",
       "    }\n",
       "\n",
       "    .dataframe thead th {\n",
       "        text-align: right;\n",
       "    }\n",
       "</style>\n",
       "<table border=\"1\" class=\"dataframe\">\n",
       "  <thead>\n",
       "    <tr style=\"text-align: right;\">\n",
       "      <th></th>\n",
       "      <th>Unnamed: 0</th>\n",
       "      <th>Company</th>\n",
       "      <th>Post</th>\n",
       "      <th>E</th>\n",
       "      <th>I</th>\n",
       "      <th>J</th>\n",
       "      <th>P</th>\n",
       "      <th>N</th>\n",
       "      <th>S</th>\n",
       "      <th>T</th>\n",
       "      <th>F</th>\n",
       "    </tr>\n",
       "  </thead>\n",
       "  <tbody>\n",
       "    <tr>\n",
       "      <th>0</th>\n",
       "      <td>0</td>\n",
       "      <td>Google</td>\n",
       "      <td>Currently run Google's Enterprise Search Divis...</td>\n",
       "      <td>0.64</td>\n",
       "      <td>0.36</td>\n",
       "      <td>0.60</td>\n",
       "      <td>0.40</td>\n",
       "      <td>0.58</td>\n",
       "      <td>0.42</td>\n",
       "      <td>0.87</td>\n",
       "      <td>0.13</td>\n",
       "    </tr>\n",
       "    <tr>\n",
       "      <th>1</th>\n",
       "      <td>1</td>\n",
       "      <td>Microsoft</td>\n",
       "      <td>In the area of Mergers &amp; Acquisition, we lead ...</td>\n",
       "      <td>0.89</td>\n",
       "      <td>0.11</td>\n",
       "      <td>0.73</td>\n",
       "      <td>0.27</td>\n",
       "      <td>0.81</td>\n",
       "      <td>0.19</td>\n",
       "      <td>0.81</td>\n",
       "      <td>0.19</td>\n",
       "    </tr>\n",
       "    <tr>\n",
       "      <th>2</th>\n",
       "      <td>2</td>\n",
       "      <td>Deloitte</td>\n",
       "      <td>I help clients with risk management and fact b...</td>\n",
       "      <td>0.61</td>\n",
       "      <td>0.39</td>\n",
       "      <td>0.61</td>\n",
       "      <td>0.39</td>\n",
       "      <td>0.42</td>\n",
       "      <td>0.58</td>\n",
       "      <td>0.88</td>\n",
       "      <td>0.12</td>\n",
       "    </tr>\n",
       "    <tr>\n",
       "      <th>3</th>\n",
       "      <td>3</td>\n",
       "      <td>Hewlett-Packard</td>\n",
       "      <td>Rick Harris is an experienced Technical Consul...</td>\n",
       "      <td>0.66</td>\n",
       "      <td>0.34</td>\n",
       "      <td>0.43</td>\n",
       "      <td>0.57</td>\n",
       "      <td>0.47</td>\n",
       "      <td>0.53</td>\n",
       "      <td>0.87</td>\n",
       "      <td>0.13</td>\n",
       "    </tr>\n",
       "    <tr>\n",
       "      <th>4</th>\n",
       "      <td>4</td>\n",
       "      <td>IBM</td>\n",
       "      <td>A motivated and committed inspirational Senior...</td>\n",
       "      <td>0.75</td>\n",
       "      <td>0.25</td>\n",
       "      <td>0.77</td>\n",
       "      <td>0.23</td>\n",
       "      <td>0.28</td>\n",
       "      <td>0.72</td>\n",
       "      <td>0.83</td>\n",
       "      <td>0.17</td>\n",
       "    </tr>\n",
       "  </tbody>\n",
       "</table>\n",
       "</div>"
      ],
      "text/plain": [
       "   Unnamed: 0          Company  \\\n",
       "0           0           Google   \n",
       "1           1        Microsoft   \n",
       "2           2         Deloitte   \n",
       "3           3  Hewlett-Packard   \n",
       "4           4              IBM   \n",
       "\n",
       "                                                Post     E     I     J     P  \\\n",
       "0  Currently run Google's Enterprise Search Divis...  0.64  0.36  0.60  0.40   \n",
       "1  In the area of Mergers & Acquisition, we lead ...  0.89  0.11  0.73  0.27   \n",
       "2  I help clients with risk management and fact b...  0.61  0.39  0.61  0.39   \n",
       "3  Rick Harris is an experienced Technical Consul...  0.66  0.34  0.43  0.57   \n",
       "4  A motivated and committed inspirational Senior...  0.75  0.25  0.77  0.23   \n",
       "\n",
       "      N     S     T     F  \n",
       "0  0.58  0.42  0.87  0.13  \n",
       "1  0.81  0.19  0.81  0.19  \n",
       "2  0.42  0.58  0.88  0.12  \n",
       "3  0.47  0.53  0.87  0.13  \n",
       "4  0.28  0.72  0.83  0.17  "
      ]
     },
     "execution_count": 24,
     "metadata": {},
     "output_type": "execute_result"
    }
   ],
   "source": [
    "company.head()"
   ]
  },
  {
   "cell_type": "code",
   "execution_count": null,
   "metadata": {},
   "outputs": [],
   "source": [
    "plt.bar(*zip(*D.items()))"
   ]
  },
  {
   "cell_type": "code",
   "execution_count": 68,
   "metadata": {},
   "outputs": [
    {
     "data": {
      "text/plain": [
       "<BarContainer object of 2 artists>"
      ]
     },
     "execution_count": 68,
     "metadata": {},
     "output_type": "execute_result"
    },
    {
     "data": {
      "image/png": "[encoded data removed]",
      "text/plain": [
       "<Figure size 432x288 with 1 Axes>"
      ]
     },
     "metadata": {},
     "output_type": "display_data"
    }
   ],
   "source": [
    "plt.bar(*zip(*predict_TF(about).items()))"
   ]
  },
  {
   "cell_type": "code",
   "execution_count": null,
   "metadata": {},
   "outputs": [],
   "source": []
  },
  {
   "cell_type": "code",
   "execution_count": 61,
   "metadata": {},
   "outputs": [],
   "source": [
    "about = '''\n",
    "A very passionate and an enthusiastic individual who believes in living life to its fullest. Absolutely love the performing arts and fashion. \n",
    "Love being able to influence such a variety of individuals about decisions that directly impact their lives. Being able to be the balance between a company’s vision and it’s biggest asset, the people and their needs. \n",
    "I’m good at being able to empathise with those around me and also very persistent in achieving my goals. \n",
    "'''"
   ]
  },
  {
   "cell_type": "code",
   "execution_count": null,
   "metadata": {},
   "outputs": [],
   "source": []
  },
  {
   "cell_type": "code",
   "execution_count": null,
   "metadata": {},
   "outputs": [],
   "source": [
    "parameters = {}"
   ]
  },
  {
   "cell_type": "markdown",
   "metadata": {},
   "source": [
    "## Displaying the Results"
   ]
  },
  {
   "cell_type": "code",
   "execution_count": 9,
   "metadata": {},
   "outputs": [],
   "source": [
    "from IPython.display import display\n",
    "import ipywidgets as widgets"
   ]
  },
  {
   "cell_type": "code",
   "execution_count": 10,
   "metadata": {},
   "outputs": [],
   "source": [
    "plt.style.use(['ggplot'])"
   ]
  },
  {
   "cell_type": "code",
   "execution_count": 11,
   "metadata": {},
   "outputs": [
    {
     "data": {
      "application/vnd.jupyter.widget-view+json": {
       "model_id": "4b57e1735f5e40479bea6ccd2f259feb",
       "version_major": 2,
       "version_minor": 0
      },
      "text/plain": [
       "Text(value='Tell us something about yourself', description='Description:', placeholder='Type something')"
      ]
     },
     "metadata": {},
     "output_type": "display_data"
    }
   ],
   "source": [
    "widgets.Text(\n",
    "    value='Tell us something about yourself',\n",
    "    placeholder='Type something',\n",
    "    description='Description:',\n",
    "    disabled=False\n",
    ")"
   ]
  },
  {
   "cell_type": "code",
   "execution_count": null,
   "metadata": {},
   "outputs": [],
   "source": []
  },
  {
   "cell_type": "code",
   "execution_count": null,
   "metadata": {},
   "outputs": [],
   "source": []
  },
  {
   "cell_type": "code",
   "execution_count": 12,
   "metadata": {},
   "outputs": [],
   "source": [
    "output_text = widgets.Text()"
   ]
  },
  {
   "cell_type": "code",
   "execution_count": 13,
   "metadata": {},
   "outputs": [
    {
     "data": {
      "application/vnd.jupyter.widget-view+json": {
       "model_id": "397a0c1c6a69460eb5355f9b01ead2ab",
       "version_major": 2,
       "version_minor": 0
      },
      "text/plain": [
       "Text(value='', description='Description:')"
      ]
     },
     "metadata": {},
     "output_type": "display_data"
    }
   ],
   "source": [
    "input_text = widgets.Text(description='Description:', disabled=False)\n",
    "\n",
    "def bind_input_to_output(sender):\n",
    "    output_text.value = input_text.value\n",
    "    \n",
    "input_text.on_submit(bind_input_to_output)\n",
    "input_text"
   ]
  },
  {
   "cell_type": "code",
   "execution_count": 14,
   "metadata": {},
   "outputs": [
    {
     "data": {
      "text/plain": [
       "'this is a very nice day'"
      ]
     },
     "execution_count": 14,
     "metadata": {},
     "output_type": "execute_result"
    }
   ],
   "source": [
    "output_text.value"
   ]
  },
  {
   "cell_type": "code",
   "execution_count": null,
   "metadata": {},
   "outputs": [],
   "source": []
  },
  {
   "cell_type": "code",
   "execution_count": null,
   "metadata": {},
   "outputs": [],
   "source": []
  },
  {
   "cell_type": "code",
   "execution_count": 25,
   "metadata": {},
   "outputs": [
    {
     "data": {
      "application/vnd.jupyter.widget-view+json": {
       "model_id": "480cb0ace7da484a8e17bde9aa29bf59",
       "version_major": 2,
       "version_minor": 0
      },
      "text/plain": [
       "Button(description='Evaluate', style=ButtonStyle())"
      ]
     },
     "metadata": {},
     "output_type": "display_data"
    },
    {
     "data": {
      "application/vnd.jupyter.widget-view+json": {
       "model_id": "2b49775bf8834257bb70154d8612d814",
       "version_major": 2,
       "version_minor": 0
      },
      "text/plain": [
       "Output()"
      ]
     },
     "metadata": {},
     "output_type": "display_data"
    },
    {
     "data": {
      "image/png": "[encoded data removed]",
      "text/plain": [
       "<Figure size 432x288 with 1 Axes>"
      ]
     },
     "metadata": {},
     "output_type": "display_data"
    }
   ],
   "source": [
    "button = widgets.Button(description=\"Evaluate\")\n",
    "output = widgets.Output()\n",
    "\n",
    "display(button, output)\n",
    "\n",
    "def on_button_clicked(b):\n",
    "    with output:\n",
    "        print(\"Evaluations\")\n",
    "        \n",
    "        about = output_text.value\n",
    "        \n",
    "        plt.barh(*zip(*predict_EI(about).items()))\n",
    "        plt.barh(*zip(*predict_JP(about).items()))\n",
    "        plt.barh(*zip(*predict_NS(about).items()))\n",
    "        plt.barh(*zip(*predict_TF(about).items()))\n",
    "\n",
    "button.on_click(on_button_clicked)"
   ]
  },
  {
   "cell_type": "code",
   "execution_count": null,
   "metadata": {},
   "outputs": [],
   "source": []
  },
  {
   "cell_type": "code",
   "execution_count": null,
   "metadata": {},
   "outputs": [],
   "source": []
  },
  {
   "cell_type": "code",
   "execution_count": null,
   "metadata": {},
   "outputs": [],
   "source": []
  },
  {
   "cell_type": "code",
   "execution_count": 90,
   "metadata": {},
   "outputs": [
    {
     "data": {
      "text/plain": [
       "<BarContainer object of 2 artists>"
      ]
     },
     "execution_count": 90,
     "metadata": {},
     "output_type": "execute_result"
    },
    {
     "data": {
      "image/png": "[encoded data removed]",
      "text/plain": [
       "<Figure size 432x288 with 1 Axes>"
      ]
     },
     "metadata": {},
     "output_type": "display_data"
    }
   ],
   "source": [
    "plt.barh(*zip(*predict_TF(about).items()))"
   ]
  },
  {
   "cell_type": "code",
   "execution_count": 91,
   "metadata": {},
   "outputs": [
    {
     "data": {
      "text/plain": [
       "dict_items([('T', 0.3554127579355539), ('F', 0.6445872420644461)])"
      ]
     },
     "execution_count": 91,
     "metadata": {},
     "output_type": "execute_result"
    }
   ],
   "source": [
    "predict_TF(about).items()"
   ]
  },
  {
   "cell_type": "code",
   "execution_count": 108,
   "metadata": {},
   "outputs": [],
   "source": [
    "results = {}\n",
    "mylist = []\n",
    "for idx, val in predict_TF(about).items():\n",
    "    mylist.append(val)"
   ]
  },
  {
   "cell_type": "code",
   "execution_count": 109,
   "metadata": {},
   "outputs": [],
   "source": [
    "results['M'] = mylist"
   ]
  },
  {
   "cell_type": "code",
   "execution_count": 110,
   "metadata": {},
   "outputs": [
    {
     "data": {
      "text/plain": [
       "dict_items([('M', [0.3554127579355539, 0.6445872420644461])])"
      ]
     },
     "execution_count": 110,
     "metadata": {},
     "output_type": "execute_result"
    }
   ],
   "source": [
    "results.items()"
   ]
  },
  {
   "cell_type": "code",
   "execution_count": 111,
   "metadata": {},
   "outputs": [],
   "source": [
    "#plt.barh(*zip(*results.items()))"
   ]
  },
  {
   "cell_type": "code",
   "execution_count": null,
   "metadata": {},
   "outputs": [],
   "source": []
  }
 ],
 "metadata": {
  "kernelspec": {
   "display_name": "Python 3",
   "language": "python",
   "name": "python3"
  },
  "language_info": {
   "codemirror_mode": {
    "name": "ipython",
    "version": 3
   },
   "file_extension": ".py",
   "mimetype": "text/x-python",
   "name": "python",
   "nbconvert_exporter": "python",
   "pygments_lexer": "ipython3",
   "version": "3.6.8"
  }
 },
 "nbformat": 4,
 "nbformat_minor": 2
}
