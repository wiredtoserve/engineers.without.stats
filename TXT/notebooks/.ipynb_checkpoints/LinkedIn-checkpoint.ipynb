{
 "cells": [
  {
   "cell_type": "code",
   "execution_count": 1,
   "metadata": {},
   "outputs": [],
   "source": [
    "import numpy as np\n",
    "import pandas as pd\n",
    "import json"
   ]
  },
  {
   "cell_type": "code",
   "execution_count": 2,
   "metadata": {},
   "outputs": [],
   "source": [
    "import gzip\n",
    "import seaborn as sns\n",
    "import os\n",
    "%matplotlib inline"
   ]
  },
  {
   "cell_type": "code",
   "execution_count": 10,
   "metadata": {},
   "outputs": [],
   "source": [
    "import matplotlib.pyplot as plt\n",
    "import re"
   ]
  },
  {
   "cell_type": "code",
   "execution_count": 5,
   "metadata": {},
   "outputs": [
    {
     "name": "stdout",
     "output_type": "stream",
     "text": [
      "['typed_posts.csv', 'mbti_1.csv', 'mbti9k_comments.csv', '.DS_Store', 'toy_data.csv', 'dataFile.csv', 'typed_comments.csv', 'linkedin.json.gz', 'linkedin.json']\n"
     ]
    }
   ],
   "source": [
    "data_dir = '../dataFiles/'\n",
    "profiles_path = os.path.join(data_dir, 'linkedin.json')\n",
    "print(os.listdir(data_dir))"
   ]
  },
  {
   "cell_type": "code",
   "execution_count": 6,
   "metadata": {},
   "outputs": [
    {
     "name": "stdout",
     "output_type": "stream",
     "text": [
      "Number of profiles 2985334\n"
     ]
    }
   ],
   "source": [
    "num_records = 0\n",
    "for line in open(profiles_path):\n",
    "    num_records += 1\n",
    "print('Number of profiles', num_records)"
   ]
  },
  {
   "cell_type": "code",
   "execution_count": 7,
   "metadata": {},
   "outputs": [
    {
     "name": "stdout",
     "output_type": "stream",
     "text": [
      "JSON fields 18 {'interests', 'honors', 'industry', 'education', 'homepage', 'events', 'url', 'experience', 'skills', 'group', 'summary', 'specilities', '_id', 'overview_html', 'interval', 'also_view', 'name', 'locality'}\n"
     ]
    }
   ],
   "source": [
    "fields = set()\n",
    "localities = []\n",
    "industries = []\n",
    "skills = []\n",
    "specialities = []\n",
    "interests = []\n",
    "occupations = []\n",
    "companies = []\n",
    "schools = []\n",
    "majors = []\n",
    "\n",
    "for line in open(profiles_path):\n",
    "    line = json.loads(line)\n",
    "    \n",
    "    fields.update(line.keys())\n",
    "    \n",
    "    localities.append(line['locality'] if 'locality' in line else '')\n",
    "    industries.append(line['industry'] if 'industry' in line else '')\n",
    "    skills.extend(line['skills'] if 'skills' in line else [])\n",
    "    specialities.extend([s.strip() for s in line['specilities'].split(',')] if 'specilities' in line else [])\n",
    "    interests.extend([s.strip() for s in line['interests'].split(',')] if 'interests' in line else [])\n",
    "    occupations.extend([exp['title'] for exp in line['experience'] if 'title' in exp] if 'experience' in line else [])\n",
    "    companies.extend([exp['org'] for exp in line['experience'] if 'org' in exp] if 'experience' in line else [])\n",
    "    schools.extend([edu['name'] for edu in line['education'] if 'name' in edu] if 'education' in line else [])\n",
    "    majors.extend([edu['major'] for edu in line['education'] if 'major' in edu] if 'education' in line else [])\n",
    "    \n",
    "print('JSON fields', len(fields), fields)"
   ]
  },
  {
   "cell_type": "code",
   "execution_count": 8,
   "metadata": {},
   "outputs": [],
   "source": [
    "skills = pd.Series(list(skills)).value_counts()\n",
    "localities = pd.Series(list(localities)).value_counts()\n",
    "industries = pd.Series(list(industries)).value_counts()\n",
    "specialities = pd.Series(list(specialities)).value_counts()\n",
    "interests = pd.Series(list(interests)).value_counts()\n",
    "occupations = pd.Series(list(occupations)).value_counts()\n",
    "companies = pd.Series(list(companies)).value_counts()\n",
    "schools = pd.Series(list(schools)).value_counts()\n",
    "majors = pd.Series(list(majors)).value_counts()"
   ]
  },
  {
   "cell_type": "code",
   "execution_count": 16,
   "metadata": {},
   "outputs": [],
   "source": [
    "overview = {'skills':len(skills), \n",
    "            'localities':len(localities), 'industries':len(industries), \n",
    "            'specialities':len(specialities), 'interests':len(interests), 'occupations':len(occupations), \n",
    "            'comapnies':len(companies), 'schools':len(schools), 'majors':len(majors)}"
   ]
  },
  {
   "cell_type": "code",
   "execution_count": 17,
   "metadata": {},
   "outputs": [
    {
     "data": {
      "text/plain": [
       "{'skills': 653628,\n",
       " 'localities': 24598,\n",
       " 'industries': 2646,\n",
       " 'specialities': 861527,\n",
       " 'interests': 557665,\n",
       " 'occupations': 3500534,\n",
       " 'comapnies': 3787170,\n",
       " 'schools': 864915,\n",
       " 'majors': 733611}"
      ]
     },
     "execution_count": 17,
     "metadata": {},
     "output_type": "execute_result"
    }
   ],
   "source": [
    "overview"
   ]
  },
  {
   "cell_type": "code",
   "execution_count": null,
   "metadata": {},
   "outputs": [],
   "source": []
  },
  {
   "cell_type": "markdown",
   "metadata": {},
   "source": [
    "### Loading Profiles"
   ]
  },
  {
   "cell_type": "code",
   "execution_count": 65,
   "metadata": {},
   "outputs": [],
   "source": [
    "num_profiles_loaded = 100000\n",
    "profiles = []\n",
    "\n",
    "for line in open(profiles_path):\n",
    "    if len(profiles) < num_profiles_loaded:\n",
    "        line = json.loads(line)\n",
    "        profiles.append(line)\n",
    "    else:\n",
    "        break"
   ]
  },
  {
   "cell_type": "markdown",
   "metadata": {},
   "source": [
    "### Loading Based on Location"
   ]
  },
  {
   "cell_type": "code",
   "execution_count": 76,
   "metadata": {},
   "outputs": [],
   "source": [
    "# code block to get the local australian linkedIn profiles\n",
    "profiles = []\n",
    "\n",
    "for line in open(profiles_path):\n",
    "    line = json.loads(line)\n",
    "    \n",
    "    fields.update(line.keys())\n",
    "    \n",
    "    #localities.append(line['locality'] if 'locality' in line else '')\n",
    "    if 'locality' in line:\n",
    "        if line['locality'] == 'Australia':\n",
    "            profiles.append(line)"
   ]
  },
  {
   "cell_type": "code",
   "execution_count": 73,
   "metadata": {},
   "outputs": [
    {
     "data": {
      "text/plain": [
       "'Birmingham, Alabama Area'"
      ]
     },
     "execution_count": 73,
     "metadata": {},
     "output_type": "execute_result"
    }
   ],
   "source": [
    "profiles[3030]['locality']"
   ]
  },
  {
   "cell_type": "code",
   "execution_count": 77,
   "metadata": {},
   "outputs": [],
   "source": [
    "from collections import defaultdict\n",
    "\n",
    "dd = defaultdict(int)\n",
    "\n",
    "for i in range(len(profiles)):\n",
    "    try:\n",
    "        if profiles[i]['locality'] == 'Australia':\n",
    "            dd['Australia'] += 1\n",
    "    except Exception as e:\n",
    "        print(e)\n",
    "            "
   ]
  },
  {
   "cell_type": "code",
   "execution_count": 57,
   "metadata": {},
   "outputs": [
    {
     "data": {
      "text/plain": [
       "'Working on new development Project involving changes to exisitng functionality , customizing peoplesoft delivered funcionality and buidling new components & process along with handling the integration between Peoplesoft CRM and Mainframe application of Medibank.Also working on Enhancements,Customizations , Bug fixes and Production support of Medibank Peoplesoft CRM ( Psoft CRM 8.1 and People Tools 8.2)'"
      ]
     },
     "execution_count": 57,
     "metadata": {},
     "output_type": "execute_result"
    }
   ],
   "source": [
    "# to get the job description\n",
    "profiles[4405]['experience'][0]['desc']"
   ]
  },
  {
   "cell_type": "code",
   "execution_count": 78,
   "metadata": {},
   "outputs": [
    {
     "data": {
      "text/plain": [
       "defaultdict(int, {'Australia': 3019})"
      ]
     },
     "execution_count": 78,
     "metadata": {},
     "output_type": "execute_result"
    }
   ],
   "source": [
    "dd"
   ]
  },
  {
   "cell_type": "code",
   "execution_count": 117,
   "metadata": {},
   "outputs": [],
   "source": [
    "# taking the latest experience of the employee\n",
    "aus_companies = []\n",
    "\n",
    "for i in range(len(profiles)):\n",
    "    if len([exp['org'] for exp in profiles[i]['experience'] if 'org' in exp] if 'experience' in profiles[i] else []) > 1:\n",
    "        aus_companies.append([exp['org'] for exp in profiles[i]['experience'] if 'org' in exp][0] if 'experience' in profiles[i] else [])"
   ]
  },
  {
   "cell_type": "code",
   "execution_count": 119,
   "metadata": {},
   "outputs": [],
   "source": [
    "\n",
    "companies_dd = defaultdict(int)\n",
    "\n",
    "for company in aus_companies:\n",
    "    companies_dd[company] += 1"
   ]
  },
  {
   "cell_type": "code",
   "execution_count": 120,
   "metadata": {},
   "outputs": [],
   "source": [
    "#[exp['org'] for exp in profiles[1]['experience'] if 'org' in exp] if 'experience' in profiles[1] else []"
   ]
  },
  {
   "cell_type": "code",
   "execution_count": 124,
   "metadata": {},
   "outputs": [
    {
     "data": {
      "text/plain": [
       "[(17, 'Newcrest Mining'),\n",
       " (9, 'National Australia Bank'),\n",
       " (7, 'Leighton Contractors'),\n",
       " (7, 'La Trobe University'),\n",
       " (7, 'BHP Billiton'),\n",
       " (5, 'Tabcorp'),\n",
       " (5, 'Monash University'),\n",
       " (5, 'Diversified Exhibitions Australia'),\n",
       " (4, 'Westpac'),\n",
       " (4, 'Toll Holdings Limited')]"
      ]
     },
     "execution_count": 124,
     "metadata": {},
     "output_type": "execute_result"
    }
   ],
   "source": [
    "sorted([(val, key) for key, val in companies_dd.items()], reverse=True)[:10]"
   ]
  },
  {
   "cell_type": "code",
   "execution_count": null,
   "metadata": {},
   "outputs": [],
   "source": []
  },
  {
   "cell_type": "markdown",
   "metadata": {},
   "source": [
    "### Loading Based on Companies"
   ]
  },
  {
   "cell_type": "code",
   "execution_count": 126,
   "metadata": {},
   "outputs": [],
   "source": [
    "# list of desirable companies\n",
    "desired_companies = ['IBM', 'Ernst & Young', 'Accenture', 'Microsoft', 'Hewlett-Packard', 'Deloitte', 'KPMG', 'PwC', 'Google', 'Tata Consultancy Services']"
   ]
  },
  {
   "cell_type": "code",
   "execution_count": 141,
   "metadata": {},
   "outputs": [],
   "source": [
    "# code block to get the desired company profiles\n",
    "# only collecting the latest job history\n",
    "\n",
    "profiles = []\n",
    "\n",
    "for line in open(profiles_path):\n",
    "    line = json.loads(line)\n",
    "    \n",
    "    fields.update(line.keys())\n",
    "    \n",
    "    #localities.append(line['locality'] if 'locality' in line else '')\n",
    "    if 'experience' in line:\n",
    "        if 'org' in line['experience'][0]:  \n",
    "            if line['experience'][0]['org'] in desired_companies:\n",
    "                profiles.append(line)\n",
    "            \n",
    "# companies.extend([exp['org'] for exp in line['experience'] if 'org' in exp] if 'experience' in line else [])"
   ]
  },
  {
   "cell_type": "code",
   "execution_count": 142,
   "metadata": {},
   "outputs": [
    {
     "data": {
      "text/plain": [
       "37561"
      ]
     },
     "execution_count": 142,
     "metadata": {},
     "output_type": "execute_result"
    }
   ],
   "source": [
    "len(profiles)"
   ]
  },
  {
   "cell_type": "code",
   "execution_count": 143,
   "metadata": {},
   "outputs": [],
   "source": [
    "# taking the latest experience of the employee\n",
    "linkdin_companies = []\n",
    "\n",
    "for i in range(len(profiles)):\n",
    "    if len([exp['org'] for exp in profiles[i]['experience'] if 'org' in exp] if 'experience' in profiles[i] else []) > 1:\n",
    "        linkdin_companies.append([exp['org'] for exp in profiles[i]['experience'] if 'org' in exp][0] if 'experience' in profiles[i] else [])"
   ]
  },
  {
   "cell_type": "code",
   "execution_count": 144,
   "metadata": {},
   "outputs": [],
   "source": [
    "companies_dd = defaultdict(int)\n",
    "\n",
    "for company in linkdin_companies:\n",
    "    companies_dd[company] += 1"
   ]
  },
  {
   "cell_type": "code",
   "execution_count": 145,
   "metadata": {},
   "outputs": [
    {
     "data": {
      "text/plain": [
       "[(4166, 'IBM'),\n",
       " (4151, 'Ernst & Young'),\n",
       " (3803, 'Accenture'),\n",
       " (3269, 'Microsoft'),\n",
       " (2840, 'Deloitte'),\n",
       " (2802, 'Google'),\n",
       " (2782, 'PwC'),\n",
       " (2466, 'Hewlett-Packard'),\n",
       " (2219, 'KPMG'),\n",
       " (1296, 'Tata Consultancy Services')]"
      ]
     },
     "execution_count": 145,
     "metadata": {},
     "output_type": "execute_result"
    }
   ],
   "source": [
    "sorted([(val, key) for key, val in companies_dd.items()], reverse=True)"
   ]
  },
  {
   "cell_type": "code",
   "execution_count": 154,
   "metadata": {},
   "outputs": [],
   "source": [
    "df_comp = pd.DataFrame([(key, val) for key, val in companies_dd.items()], columns=['Company', 'Frequency'])"
   ]
  },
  {
   "cell_type": "code",
   "execution_count": 170,
   "metadata": {},
   "outputs": [],
   "source": [
    "plt.style.use('ggplot')"
   ]
  },
  {
   "cell_type": "code",
   "execution_count": 181,
   "metadata": {},
   "outputs": [
    {
     "data": {
      "text/plain": [
       "<BarContainer object of 10 artists>"
      ]
     },
     "execution_count": 181,
     "metadata": {},
     "output_type": "execute_result"
    },
    {
     "data": {
      "image/png": "[encoded data removed]",
      "text/plain": [
       "<Figure size 1080x360 with 1 Axes>"
      ]
     },
     "metadata": {},
     "output_type": "display_data"
    }
   ],
   "source": [
    "plt.figure(figsize=(15,5))\n",
    "plt.bar(df_comp['Company'], df_comp['Frequency'], color='green')"
   ]
  },
  {
   "cell_type": "code",
   "execution_count": null,
   "metadata": {},
   "outputs": [],
   "source": []
  },
  {
   "cell_type": "markdown",
   "metadata": {},
   "source": [
    "## Collect Features based off the profiles"
   ]
  },
  {
   "cell_type": "code",
   "execution_count": 231,
   "metadata": {},
   "outputs": [],
   "source": [
    "data_dict = {}\n",
    "\n",
    "for idx in range(len(profiles)):\n",
    "    \n",
    "    if 'summary' in profiles[idx] and len([exp['org'] for exp in profiles[idx]['experience'] if 'org' in exp] if 'experience' in profiles[idx] else []) > 1: \n",
    "        data_dict[idx] = [profiles[idx]['_id'],\n",
    "                              profiles[idx]['locality'] if 'locality' in profiles[idx] else [],\n",
    "                              profiles[idx]['industry'] if 'industry' in profiles[idx] else [],\n",
    "                              [exp['start'] for exp in profiles[idx]['experience'] if 'start' in exp][0] if 'experience' in profiles[idx] else [],\n",
    "                              [exp['title'] for exp in profiles[idx]['experience'] if 'title' in exp][0] if 'experience' in profiles[idx] else [],\n",
    "                              [exp['org'] for exp in profiles[idx]['experience'] if 'org' in exp][0] if 'experience' in profiles[idx] else [],\n",
    "                             profiles[idx]['summary']]"
   ]
  },
  {
   "cell_type": "code",
   "execution_count": 233,
   "metadata": {},
   "outputs": [
    {
     "data": {
      "text/plain": [
       "12069"
      ]
     },
     "execution_count": 233,
     "metadata": {},
     "output_type": "execute_result"
    }
   ],
   "source": [
    "len(data_dict)"
   ]
  },
  {
   "cell_type": "code",
   "execution_count": 195,
   "metadata": {},
   "outputs": [
    {
     "data": {
      "text/plain": [
       "{'org': 'Google',\n",
       " 'end': 'Present',\n",
       " 'start': 'February 2011',\n",
       " 'title': 'Head Enterprise Search EMEA'}"
      ]
     },
     "execution_count": 195,
     "metadata": {},
     "output_type": "execute_result"
    }
   ],
   "source": [
    "profiles[0]['experience'][0]"
   ]
  },
  {
   "cell_type": "code",
   "execution_count": null,
   "metadata": {},
   "outputs": [],
   "source": []
  },
  {
   "cell_type": "markdown",
   "metadata": {},
   "source": [
    "### Creating the dataframe"
   ]
  },
  {
   "cell_type": "code",
   "execution_count": 242,
   "metadata": {},
   "outputs": [],
   "source": [
    "df_linkedIn = pd.DataFrame.from_dict(data_dict, orient='index', columns=['Idx', 'Locality', 'Industry', 'Start', 'Title', 'Company', 'Post'])"
   ]
  },
  {
   "cell_type": "code",
   "execution_count": 245,
   "metadata": {},
   "outputs": [
    {
     "data": {
      "text/plain": [
       "IBM                          1804\n",
       "Accenture                    1794\n",
       "Microsoft                    1512\n",
       "Ernst & Young                1387\n",
       "Hewlett-Packard              1162\n",
       "Google                       1152\n",
       "Deloitte                     1012\n",
       "PwC                           862\n",
       "KPMG                          740\n",
       "Tata Consultancy Services     644\n",
       "Name: Company, dtype: int64"
      ]
     },
     "execution_count": 245,
     "metadata": {},
     "output_type": "execute_result"
    }
   ],
   "source": [
    "df_linkedIn['Company'].value_counts()"
   ]
  },
  {
   "cell_type": "code",
   "execution_count": null,
   "metadata": {},
   "outputs": [],
   "source": []
  },
  {
   "cell_type": "code",
   "execution_count": 254,
   "metadata": {},
   "outputs": [
    {
     "data": {
      "text/plain": [
       "[array(['Google', 'Microsoft', 'Deloitte', 'Hewlett-Packard', 'IBM',\n",
       "        'Ernst & Young', 'Accenture', 'Tata Consultancy Services', 'KPMG',\n",
       "        'PwC'], dtype=object)]"
      ]
     },
     "execution_count": 254,
     "metadata": {},
     "output_type": "execute_result"
    }
   ],
   "source": [
    "[df_linkedIn['Company'].unique()]"
   ]
  },
  {
   "cell_type": "code",
   "execution_count": 255,
   "metadata": {},
   "outputs": [
    {
     "data": {
      "text/plain": [
       "[1804, 1794, 1512, 1387, 1162, 1152, 1012, 862, 740, 644]"
      ]
     },
     "execution_count": 255,
     "metadata": {},
     "output_type": "execute_result"
    }
   ],
   "source": [
    "[i for i in df_linkedIn['Company'].value_counts()]"
   ]
  },
  {
   "cell_type": "code",
   "execution_count": 258,
   "metadata": {},
   "outputs": [
    {
     "data": {
      "text/plain": [
       "<BarContainer object of 10 artists>"
      ]
     },
     "execution_count": 258,
     "metadata": {},
     "output_type": "execute_result"
    },
    {
     "data": {
      "image/png": "[encoded data removed]",
      "text/plain": [
       "<Figure size 1080x360 with 1 Axes>"
      ]
     },
     "metadata": {},
     "output_type": "display_data"
    }
   ],
   "source": [
    "plt.figure(figsize=(15,5))\n",
    "plt.bar(['IBM', 'Accenture', 'Microsoft', 'EY', 'HP', 'Google', 'Deloitte', 'PwC', 'KPMG', 'TCS'], [i for i in df_linkedIn['Company'].value_counts()], color='darkgreen')"
   ]
  },
  {
   "cell_type": "code",
   "execution_count": null,
   "metadata": {},
   "outputs": [],
   "source": []
  },
  {
   "cell_type": "code",
   "execution_count": 259,
   "metadata": {},
   "outputs": [
    {
     "data": {
      "text/html": [
       "<div>\n",
       "<style scoped>\n",
       "    .dataframe tbody tr th:only-of-type {\n",
       "        vertical-align: middle;\n",
       "    }\n",
       "\n",
       "    .dataframe tbody tr th {\n",
       "        vertical-align: top;\n",
       "    }\n",
       "\n",
       "    .dataframe thead th {\n",
       "        text-align: right;\n",
       "    }\n",
       "</style>\n",
       "<table border=\"1\" class=\"dataframe\">\n",
       "  <thead>\n",
       "    <tr style=\"text-align: right;\">\n",
       "      <th></th>\n",
       "      <th>Idx</th>\n",
       "      <th>Locality</th>\n",
       "      <th>Industry</th>\n",
       "      <th>Start</th>\n",
       "      <th>Title</th>\n",
       "      <th>Company</th>\n",
       "      <th>Post</th>\n",
       "    </tr>\n",
       "  </thead>\n",
       "  <tbody>\n",
       "    <tr>\n",
       "      <th>0</th>\n",
       "      <td>in-101943</td>\n",
       "      <td>Amsterdam Area, Netherlands</td>\n",
       "      <td>Computersoftware</td>\n",
       "      <td>February 2011</td>\n",
       "      <td>Head Enterprise Search EMEA</td>\n",
       "      <td>Google</td>\n",
       "      <td>Currently run Google's Enterprise Search Divis...</td>\n",
       "    </tr>\n",
       "    <tr>\n",
       "      <th>1</th>\n",
       "      <td>in-1brianhansen</td>\n",
       "      <td>Redmond, Washington</td>\n",
       "      <td>Information Technology and Services</td>\n",
       "      <td>July 2012</td>\n",
       "      <td>Senior Director, Venture Integration - Operations</td>\n",
       "      <td>Microsoft</td>\n",
       "      <td>In the area of Mergers &amp; Acquisition, we lead ...</td>\n",
       "    </tr>\n",
       "    <tr>\n",
       "      <th>2</th>\n",
       "      <td>in-1bryanrichardson</td>\n",
       "      <td>Toronto, Canada Area</td>\n",
       "      <td>Management Consulting</td>\n",
       "      <td>January 2012</td>\n",
       "      <td>Manager - Financial Advisory - Advanced Analytics</td>\n",
       "      <td>Deloitte</td>\n",
       "      <td>I help clients with risk management and fact b...</td>\n",
       "    </tr>\n",
       "    <tr>\n",
       "      <th>3</th>\n",
       "      <td>in-1rickharris</td>\n",
       "      <td>Toronto, Canada Area</td>\n",
       "      <td>Computer Software</td>\n",
       "      <td>August 2012</td>\n",
       "      <td>Technical Project Manager</td>\n",
       "      <td>Hewlett-Packard</td>\n",
       "      <td>Rick Harris is an experienced Technical Consul...</td>\n",
       "    </tr>\n",
       "    <tr>\n",
       "      <th>9</th>\n",
       "      <td>in-5imonfletcher</td>\n",
       "      <td>Cleveland, United Kingdom</td>\n",
       "      <td>Outsourcing/Offshoring</td>\n",
       "      <td>September 2006</td>\n",
       "      <td>Head of Outsource Operations</td>\n",
       "      <td>IBM</td>\n",
       "      <td>A motivated and committed inspirational Senior...</td>\n",
       "    </tr>\n",
       "  </tbody>\n",
       "</table>\n",
       "</div>"
      ],
      "text/plain": [
       "                   Idx                     Locality  \\\n",
       "0            in-101943  Amsterdam Area, Netherlands   \n",
       "1      in-1brianhansen          Redmond, Washington   \n",
       "2  in-1bryanrichardson         Toronto, Canada Area   \n",
       "3       in-1rickharris         Toronto, Canada Area   \n",
       "9     in-5imonfletcher    Cleveland, United Kingdom   \n",
       "\n",
       "                              Industry           Start  \\\n",
       "0                     Computersoftware   February 2011   \n",
       "1  Information Technology and Services       July 2012   \n",
       "2                Management Consulting    January 2012   \n",
       "3                    Computer Software     August 2012   \n",
       "9               Outsourcing/Offshoring  September 2006   \n",
       "\n",
       "                                               Title          Company  \\\n",
       "0                        Head Enterprise Search EMEA           Google   \n",
       "1  Senior Director, Venture Integration - Operations        Microsoft   \n",
       "2  Manager - Financial Advisory - Advanced Analytics         Deloitte   \n",
       "3                          Technical Project Manager  Hewlett-Packard   \n",
       "9                       Head of Outsource Operations              IBM   \n",
       "\n",
       "                                                Post  \n",
       "0  Currently run Google's Enterprise Search Divis...  \n",
       "1  In the area of Mergers & Acquisition, we lead ...  \n",
       "2  I help clients with risk management and fact b...  \n",
       "3  Rick Harris is an experienced Technical Consul...  \n",
       "9  A motivated and committed inspirational Senior...  "
      ]
     },
     "execution_count": 259,
     "metadata": {},
     "output_type": "execute_result"
    }
   ],
   "source": [
    "df_linkedIn.head()"
   ]
  },
  {
   "cell_type": "code",
   "execution_count": null,
   "metadata": {},
   "outputs": [],
   "source": []
  },
  {
   "cell_type": "code",
   "execution_count": 266,
   "metadata": {},
   "outputs": [
    {
     "data": {
      "text/plain": [
       "San Francisco Bay Area         564\n",
       "London, United Kingdom         460\n",
       "Greater Seattle Area           393\n",
       "Greater New York City Area     376\n",
       "Bengaluru Area, India          352\n",
       "Ireland                        255\n",
       "Mumbai Area, India             212\n",
       "Sydney Area, Australia         204\n",
       "New Delhi Area, India          179\n",
       "Argentina                      177\n",
       "São Paulo Area, Brazil         167\n",
       "Toronto, Canada Area           166\n",
       "Melbourne Area, Australia      156\n",
       "Singapore                      153\n",
       "Hyderabad Area, India          153\n",
       "China                          152\n",
       "Greater Chicago Area           141\n",
       "Washington D.C. Metro Area     131\n",
       "United Kingdom                 128\n",
       "Bengaluru, Karnataka, India    119\n",
       "Name: Locality, dtype: int64"
      ]
     },
     "execution_count": 266,
     "metadata": {},
     "output_type": "execute_result"
    }
   ],
   "source": [
    "df_linkedIn['Locality'].value_counts()[:20]"
   ]
  },
  {
   "cell_type": "code",
   "execution_count": null,
   "metadata": {},
   "outputs": [],
   "source": []
  },
  {
   "cell_type": "code",
   "execution_count": 278,
   "metadata": {},
   "outputs": [
    {
     "data": {
      "text/plain": [
       "0                        [omputersoftware]\n",
       "1    [nformation, echnology, and, ervices]\n",
       "2                   [anagement, onsulting]\n",
       "Name: Industry, dtype: object"
      ]
     },
     "execution_count": 278,
     "metadata": {},
     "output_type": "execute_result"
    }
   ],
   "source": [
    "df_linkedIn['Industry'].apply(lambda x:re.findall(r'[a-z]+', str(x)))[:3]"
   ]
  },
  {
   "cell_type": "code",
   "execution_count": null,
   "metadata": {},
   "outputs": [],
   "source": []
  },
  {
   "cell_type": "code",
   "execution_count": 280,
   "metadata": {},
   "outputs": [],
   "source": [
    "#df_linkedIn.to_csv('linkedIn_data.csv')"
   ]
  },
  {
   "cell_type": "code",
   "execution_count": 284,
   "metadata": {},
   "outputs": [],
   "source": [
    "# get word count\n",
    "df_linkedIn['wc'] = df_linkedIn['Post'].apply(lambda x:len(x.split()))"
   ]
  },
  {
   "cell_type": "code",
   "execution_count": 287,
   "metadata": {},
   "outputs": [
    {
     "data": {
      "text/plain": [
       "(array([3480., 3336., 2246., 1231.,  685.,  396.,  277.,  253.,  136.,\n",
       "          29.]),\n",
       " array([  0. ,  33.3,  66.6,  99.9, 133.2, 166.5, 199.8, 233.1, 266.4,\n",
       "        299.7, 333. ]),\n",
       " <a list of 10 Patch objects>)"
      ]
     },
     "execution_count": 287,
     "metadata": {},
     "output_type": "execute_result"
    },
    {
     "data": {
      "image/png": "[encoded data removed]",
      "text/plain": [
       "<Figure size 432x288 with 1 Axes>"
      ]
     },
     "metadata": {},
     "output_type": "display_data"
    }
   ],
   "source": [
    "plt.hist(df_linkedIn['wc'])"
   ]
  },
  {
   "cell_type": "code",
   "execution_count": 288,
   "metadata": {},
   "outputs": [
    {
     "data": {
      "text/plain": [
       "count    12069.000000\n",
       "mean        74.119563\n",
       "std         61.367527\n",
       "min          0.000000\n",
       "25%         29.000000\n",
       "50%         58.000000\n",
       "75%         99.000000\n",
       "max        333.000000\n",
       "Name: wc, dtype: float64"
      ]
     },
     "execution_count": 288,
     "metadata": {},
     "output_type": "execute_result"
    }
   ],
   "source": [
    "df_linkedIn['wc'].describe()"
   ]
  },
  {
   "cell_type": "code",
   "execution_count": null,
   "metadata": {},
   "outputs": [],
   "source": []
  },
  {
   "cell_type": "code",
   "execution_count": 296,
   "metadata": {},
   "outputs": [
    {
     "data": {
      "text/plain": [
       "'A motivated and committed inspirational Senior Leader in the contact centre industry, with 17 years experience, both in business process outsourcing and a client environment. Results focused with achievements in all aspects of call centre performance and people management, resulting in the best customer experience in the most productive business environment.For the past five years held senior management responsibility for a delivery team of over 1,000 specialists across 4 delivery centres in the UK and India. A proven track record in delivering improvements in productivity, customer satisfaction and profitability.Currently looking for new opportunities in the outsourcing or customer operations sectors.'"
      ]
     },
     "execution_count": 296,
     "metadata": {},
     "output_type": "execute_result"
    }
   ],
   "source": [
    "df_linkedIn['Post'][9]"
   ]
  },
  {
   "cell_type": "code",
   "execution_count": null,
   "metadata": {},
   "outputs": [],
   "source": []
  }
 ],
 "metadata": {
  "kernelspec": {
   "display_name": "Python 3",
   "language": "python",
   "name": "python3"
  },
  "language_info": {
   "codemirror_mode": {
    "name": "ipython",
    "version": 3
   },
   "file_extension": ".py",
   "mimetype": "text/x-python",
   "name": "python",
   "nbconvert_exporter": "python",
   "pygments_lexer": "ipython3",
   "version": "3.6.8"
  }
 },
 "nbformat": 4,
 "nbformat_minor": 2
}
